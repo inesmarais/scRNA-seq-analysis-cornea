{
 "cells": [
  {
   "cell_type": "markdown",
   "id": "fd789b3c",
   "metadata": {},
   "source": [
    "# All datasets practice"
   ]
  },
  {
   "cell_type": "code",
   "execution_count": 2,
   "id": "0d136db8",
   "metadata": {},
   "outputs": [],
   "source": [
    "import numpy as np\n",
    "import pandas as pd\n",
    "import scanpy as sc\n",
    "import sklearn\n",
    "\n",
    "sc.settings.verbosity = 3             # verbosity: errors (0), warnings (1), info (2), hints (3)\n",
    "# gives error!! sc.logging.print_versions()"
   ]
  },
  {
   "cell_type": "code",
   "execution_count": 2,
   "id": "303a8efa",
   "metadata": {},
   "outputs": [],
   "source": [
    "sc.settings.set_figure_params(dpi=80)"
   ]
  },
  {
   "cell_type": "code",
   "execution_count": 50,
   "id": "31751fbc",
   "metadata": {},
   "outputs": [],
   "source": [
    "#We can first load the data individually by reading directly from HDF5 file format (.h5).\n",
    "#dcr1 = dev cornea rna 1\n",
    "#We can first load the data individually by reading directly from HDF5 file format (.h5).\n",
    "#dcr1 = dev cornea rna 1\n",
    "data_dcr1 = sc.read_10x_h5('/ceph/rimlsfnwi/data/moldevbio/zhou/imarais/data/dev_cornea_rna_1_50/GSM4710450/GSM4710450/outs/filtered_feature_bc_matrix.h5')\n",
    "data_dcr1.var_names_make_unique()\n",
    "data_dcr2 = sc.read_10x_h5('/ceph/rimlsfnwi/data/moldevbio/zhou/imarais/data/dev_cornea_rna_2_51/GSM4710451/GSM4710451_with_introns/outs/filtered_feature_bc_matrix.h5')\n",
    "data_dcr2.var_names_make_unique()\n",
    "data_dcr3 = sc.read_10x_h5('/ceph/rimlsfnwi/data/moldevbio/zhou/imarais/data/dev_cornea_rna_3_52/GSM4710452/GSM4710452/outs/filtered_feature_bc_matrix.h5')\n",
    "data_dcr3.var_names_make_unique()\n",
    "data_dcr4 = sc.read_10x_h5('/ceph/rimlsfnwi/data/moldevbio/zhou/imarais/data/dev_cornea_rna_4_53/GSM4710453/GSM4710453/outs/filtered_feature_bc_matrix.h5')\n",
    "data_dcr4.var_names_make_unique()\n",
    "data_dcr5 = sc.read_10x_h5('/ceph/rimlsfnwi/data/moldevbio/zhou/imarais/data/dev_cornea_rna_5_54/GSM4710454/GSM4710454/outs/filtered_feature_bc_matrix.h5')\n",
    "data_dcr5.var_names_make_unique()\n",
    "data_dcr6 = sc.read_10x_h5('/ceph/rimlsfnwi/data/moldevbio/zhou/imarais/data/dev_cornea_rna_6_55/GSM4710455/GSM4710455/outs/filtered_feature_bc_matrix.h5')\n",
    "data_dcr6.var_names_make_unique()\n",
    "data_dcr7 = sc.read_10x_h5('/ceph/rimlsfnwi/data/moldevbio/zhou/imarais/data/dev_cornea_rna_7_56/GSM4710456/GSM4710456/outs/filtered_feature_bc_matrix.h5')\n",
    "data_dcr7.var_names_make_unique()\n",
    "data_dcr8 = sc.read_10x_h5('/ceph/rimlsfnwi/data/moldevbio/zhou/imarais/data/dev_cornea_rna_8_57/GSM4710457/GSM4710457/outs/filtered_feature_bc_matrix.h5')\n",
    "data_dcr8.var_names_make_unique() \n",
    "data_dcr9 = sc.read_10x_h5('/ceph/rimlsfnwi/data/moldevbio/zhou/imarais/data/dev_cornea_rna_9_58/GSM4710458/GSM4710458/outs/filtered_feature_bc_matrix.h5')\n",
    "data_dcr9.var_names_make_unique() \n",
    "data_dcr10 = sc.read_10x_h5('/ceph/rimlsfnwi/data/moldevbio/zhou/imarais/data/dev_cornea_rna_10_59/GSM4710459/GSM4710459/outs/filtered_feature_bc_matrix.h5')\n",
    "data_dcr10.var_names_make_unique() \n",
    "data_dcr11 = sc.read_10x_h5('/ceph/rimlsfnwi/data/moldevbio/zhou/imarais/data/dev_cornea_rna_11_60/GSM4710460/GSM4710460/outs/filtered_feature_bc_matrix.h5')\n",
    "data_dcr11.var_names_make_unique() \n",
    "data_dcr12 = sc.read_10x_h5('/ceph/rimlsfnwi/data/moldevbio/zhou/imarais/data/dev_cornea_rna_12_61/GSM4710461/GSM4710461/outs/filtered_feature_bc_matrix.h5')\n",
    "data_dcr12.var_names_make_unique() \n",
    "data_dcr13 = sc.read_10x_h5('/ceph/rimlsfnwi/data/moldevbio/zhou/imarais/data/dev_cornea_rna_13_62/GSM4710462/GSM4710462/outs/filtered_feature_bc_matrix.h5')\n",
    "data_dcr13.var_names_make_unique() \n",
    "data_dcr14 = sc.read_10x_h5('/ceph/rimlsfnwi/data/moldevbio/zhou/imarais/data/dev_cornea_rna_14_63/GSM4710463/GSM4710463/outs/filtered_feature_bc_matrix.h5')\n",
    "data_dcr14.var_names_make_unique() \n",
    "data_dcr15 = sc.read_10x_h5('/ceph/rimlsfnwi/data/moldevbio/zhou/imarais/data/dev_cornea_rna_15_64/GSM4710464/GSM4710464/outs/filtered_feature_bc_matrix.h5')\n",
    "data_dcr15.var_names_make_unique() \n",
    "data_dcr16 = sc.read_10x_h5('/ceph/rimlsfnwi/data/moldevbio/zhou/imarais/data/dev_cornea_rna_16_65/GSM4710465/GSM4710465/outs/filtered_feature_bc_matrix.h5')\n",
    "data_dcr16.var_names_make_unique() \n",
    "data_dcr17 = sc.read_10x_h5('/ceph/rimlsfnwi/data/moldevbio/zhou/imarais/data/dev_cornea_rna_17_66/GSM4710466/GSM4710466/outs/filtered_feature_bc_matrix.h5')\n",
    "data_dcr17.var_names_make_unique() "
   ]
  },
  {
   "cell_type": "markdown",
   "id": "cc39fdb1",
   "metadata": {},
   "source": [
    "# Create one merged object"
   ]
  },
  {
   "cell_type": "code",
   "execution_count": 51,
   "id": "392a0383",
   "metadata": {},
   "outputs": [],
   "source": [
    "# add some metadata (not sure if these are the names below)\n",
    "data_dcr1.obs['type']=\"dev_cornea\"\n",
    "data_dcr1.obs['sample']=\"dc1\"\n",
    "data_dcr1.obs['time_point'] = \"10PCW\"\n",
    "data_dcr2.obs['type']=\"dev_cornea\"\n",
    "data_dcr2.obs['sample']=\"dc2\"\n",
    "data_dcr2.obs['time_point'] = \"10PCW\"\n",
    "data_dcr3.obs['type']=\"dev_cornea\"\n",
    "data_dcr3.obs['sample']=\"dc3\"\n",
    "data_dcr3.obs['time_point'] = \"12PCW\"\n",
    "data_dcr4.obs['type']=\"dev_cornea\"\n",
    "data_dcr4.obs['sample']=\"dc4\"\n",
    "data_dcr4.obs['time_point'] = \"12PCW\"\n",
    "data_dcr5.obs['type']=\"dev_cornea\"\n",
    "data_dcr5.obs['sample']=\"dc5\"\n",
    "data_dcr5.obs['time_point'] = \"12PCW\"\n",
    "data_dcr6.obs['type']=\"dev_cornea\"\n",
    "data_dcr6.obs['sample']=\"dc6\"\n",
    "data_dcr6.obs['time_point'] = \"12PCW\"\n",
    "data_dcr7.obs['type']=\"dev_cornea\"\n",
    "data_dcr7.obs['sample']=\"dc7\"\n",
    "data_dcr7.obs['time_point'] = \"13PCW\"\n",
    "data_dcr8.obs['type']=\"dev_cornea\"\n",
    "data_dcr8.obs['sample']=\"dc8\"\n",
    "data_dcr8.obs['time_point'] = \"13PCW\"\n",
    "data_dcr9.obs['type']=\"dev_cornea\"\n",
    "data_dcr9.obs['sample']=\"dc9\"\n",
    "data_dcr9.obs['time_point'] = \"14PCW\"\n",
    "data_dcr10.obs['type']=\"dev_cornea\"\n",
    "data_dcr10.obs['sample']=\"dc10\"\n",
    "data_dcr10.obs['time_point'] = \"14PCW\"\n",
    "data_dcr11.obs['type']=\"dev_cornea\"\n",
    "data_dcr11.obs['sample']=\"dc11\"\n",
    "data_dcr11.obs['time_point'] = \"16PCW\"\n",
    "data_dcr12.obs['type']=\"dev_cornea\"\n",
    "data_dcr12.obs['sample']=\"dc12\"\n",
    "data_dcr12.obs['time_point'] = \"16PCW\"\n",
    "data_dcr13.obs['type']=\"dev_cornea\"\n",
    "data_dcr13.obs['sample']=\"dc13\"\n",
    "data_dcr13.obs['time_point'] = \"17PCW\"\n",
    "data_dcr14.obs['type']=\"dev_cornea\"\n",
    "data_dcr14.obs['sample']=\"dc14\"\n",
    "data_dcr14.obs['time_point'] = \"18PCW\"\n",
    "data_dcr15.obs['type']=\"dev_cornea\"\n",
    "data_dcr15.obs['sample']=\"dc15\"\n",
    "data_dcr15.obs['time_point'] = \"20PCW\"\n",
    "data_dcr16.obs['type']=\"dev_cornea\"\n",
    "data_dcr16.obs['sample']=\"dc16\"\n",
    "data_dcr16.obs['time_point'] = \"20PCW\"\n",
    "data_dcr17.obs['type']=\"dev_cornea\"\n",
    "data_dcr17.obs['sample']=\"dc17\"\n",
    "data_dcr17.obs['time_point'] = \"21PCW\"\n",
    "\n",
    "# merge into one object. NOT SURE IF WE HAVE TO MERGE as we dont have different samples\n",
    "adata = data_dcr1.concatenate(data_dcr2, data_dcr3, data_dcr4, data_dcr5, data_dcr6, data_dcr7, data_dcr8, data_dcr9, data_dcr10, data_dcr11, data_dcr12, data_dcr13, data_dcr14, data_dcr15, data_dcr16, data_dcr17)\n",
    "adata\n",
    "# and delete individual datasets to save space\n",
    "del(data_dcr1, data_dcr2, data_dcr3)\n",
    "del(data_dcr4, data_dcr5, data_dcr6)\n",
    "del(data_dcr7, data_dcr8, data_dcr9, data_dcr10, data_dcr11, data_dcr12, data_dcr13, data_dcr14, data_dcr15, data_dcr16, data_dcr17)"
   ]
  },
  {
   "cell_type": "code",
   "execution_count": 5,
   "id": "518386af",
   "metadata": {},
   "outputs": [],
   "source": [
    "save_file = 'data/results/pre_qc_dev_cornea_1_to_17.h5ad'\n",
    "adata.write_h5ad(save_file)"
   ]
  },
  {
   "cell_type": "code",
   "execution_count": 5,
   "id": "547431f1",
   "metadata": {},
   "outputs": [
    {
     "data": {
      "text/plain": [
       "AnnData object with n_obs × n_vars = 125863 × 36601\n",
       "    obs: 'type', 'sample', 'time_point', 'batch'\n",
       "    var: 'gene_ids', 'feature_types', 'genome'"
      ]
     },
     "execution_count": 5,
     "metadata": {},
     "output_type": "execute_result"
    }
   ],
   "source": [
    "adata = sc.read_h5ad('data/results/pre_qc_dev_cornea_1_to_17.h5ad')\n",
    "adata"
   ]
  },
  {
   "cell_type": "code",
   "execution_count": 6,
   "id": "afd659cf",
   "metadata": {},
   "outputs": [
    {
     "data": {
      "text/html": [
       "<div>\n",
       "<style scoped>\n",
       "    .dataframe tbody tr th:only-of-type {\n",
       "        vertical-align: middle;\n",
       "    }\n",
       "\n",
       "    .dataframe tbody tr th {\n",
       "        vertical-align: top;\n",
       "    }\n",
       "\n",
       "    .dataframe thead th {\n",
       "        text-align: right;\n",
       "    }\n",
       "</style>\n",
       "<table border=\"1\" class=\"dataframe\">\n",
       "  <thead>\n",
       "    <tr style=\"text-align: right;\">\n",
       "      <th></th>\n",
       "      <th>type</th>\n",
       "      <th>sample</th>\n",
       "      <th>time_point</th>\n",
       "      <th>batch</th>\n",
       "    </tr>\n",
       "  </thead>\n",
       "  <tbody>\n",
       "    <tr>\n",
       "      <th>AAACCCAGTAGGGAGG-1-0</th>\n",
       "      <td>dev_cornea</td>\n",
       "      <td>dc1</td>\n",
       "      <td>10PCW</td>\n",
       "      <td>0</td>\n",
       "    </tr>\n",
       "    <tr>\n",
       "      <th>AAACGAACATTGAAGA-1-0</th>\n",
       "      <td>dev_cornea</td>\n",
       "      <td>dc1</td>\n",
       "      <td>10PCW</td>\n",
       "      <td>0</td>\n",
       "    </tr>\n",
       "    <tr>\n",
       "      <th>AAAGGTAGTCCGTTTC-1-0</th>\n",
       "      <td>dev_cornea</td>\n",
       "      <td>dc1</td>\n",
       "      <td>10PCW</td>\n",
       "      <td>0</td>\n",
       "    </tr>\n",
       "    <tr>\n",
       "      <th>AAAGTCCAGAAAGTCT-1-0</th>\n",
       "      <td>dev_cornea</td>\n",
       "      <td>dc1</td>\n",
       "      <td>10PCW</td>\n",
       "      <td>0</td>\n",
       "    </tr>\n",
       "    <tr>\n",
       "      <th>AAAGTCCCAATAACCC-1-0</th>\n",
       "      <td>dev_cornea</td>\n",
       "      <td>dc1</td>\n",
       "      <td>10PCW</td>\n",
       "      <td>0</td>\n",
       "    </tr>\n",
       "    <tr>\n",
       "      <th>...</th>\n",
       "      <td>...</td>\n",
       "      <td>...</td>\n",
       "      <td>...</td>\n",
       "      <td>...</td>\n",
       "    </tr>\n",
       "    <tr>\n",
       "      <th>TTTGTTGGTAAGGTCG-1-16</th>\n",
       "      <td>dev_cornea</td>\n",
       "      <td>dc17</td>\n",
       "      <td>21PCW</td>\n",
       "      <td>16</td>\n",
       "    </tr>\n",
       "    <tr>\n",
       "      <th>TTTGTTGGTATCGCAT-1-16</th>\n",
       "      <td>dev_cornea</td>\n",
       "      <td>dc17</td>\n",
       "      <td>21PCW</td>\n",
       "      <td>16</td>\n",
       "    </tr>\n",
       "    <tr>\n",
       "      <th>TTTGTTGTCCGTGGCA-1-16</th>\n",
       "      <td>dev_cornea</td>\n",
       "      <td>dc17</td>\n",
       "      <td>21PCW</td>\n",
       "      <td>16</td>\n",
       "    </tr>\n",
       "    <tr>\n",
       "      <th>TTTGTTGTCGTTTACT-1-16</th>\n",
       "      <td>dev_cornea</td>\n",
       "      <td>dc17</td>\n",
       "      <td>21PCW</td>\n",
       "      <td>16</td>\n",
       "    </tr>\n",
       "    <tr>\n",
       "      <th>TTTGTTGTCTGAGGTT-1-16</th>\n",
       "      <td>dev_cornea</td>\n",
       "      <td>dc17</td>\n",
       "      <td>21PCW</td>\n",
       "      <td>16</td>\n",
       "    </tr>\n",
       "  </tbody>\n",
       "</table>\n",
       "<p>125863 rows × 4 columns</p>\n",
       "</div>"
      ],
      "text/plain": [
       "                             type sample time_point batch\n",
       "AAACCCAGTAGGGAGG-1-0   dev_cornea    dc1      10PCW     0\n",
       "AAACGAACATTGAAGA-1-0   dev_cornea    dc1      10PCW     0\n",
       "AAAGGTAGTCCGTTTC-1-0   dev_cornea    dc1      10PCW     0\n",
       "AAAGTCCAGAAAGTCT-1-0   dev_cornea    dc1      10PCW     0\n",
       "AAAGTCCCAATAACCC-1-0   dev_cornea    dc1      10PCW     0\n",
       "...                           ...    ...        ...   ...\n",
       "TTTGTTGGTAAGGTCG-1-16  dev_cornea   dc17      21PCW    16\n",
       "TTTGTTGGTATCGCAT-1-16  dev_cornea   dc17      21PCW    16\n",
       "TTTGTTGTCCGTGGCA-1-16  dev_cornea   dc17      21PCW    16\n",
       "TTTGTTGTCGTTTACT-1-16  dev_cornea   dc17      21PCW    16\n",
       "TTTGTTGTCTGAGGTT-1-16  dev_cornea   dc17      21PCW    16\n",
       "\n",
       "[125863 rows x 4 columns]"
      ]
     },
     "execution_count": 6,
     "metadata": {},
     "output_type": "execute_result"
    }
   ],
   "source": [
    "adata.obs"
   ]
  },
  {
   "cell_type": "code",
   "execution_count": 7,
   "id": "0b863ae6",
   "metadata": {},
   "outputs": [
    {
     "name": "stdout",
     "output_type": "stream",
     "text": [
      "dc16    15043\n",
      "dc12    12264\n",
      "dc4     11359\n",
      "dc13    10459\n",
      "dc17    10384\n",
      "dc3      9810\n",
      "dc7      9623\n",
      "dc10     8040\n",
      "dc9      6646\n",
      "dc6      6534\n",
      "dc8      4673\n",
      "dc11     4470\n",
      "dc14     4296\n",
      "dc2      4237\n",
      "dc15     3936\n",
      "dc5      3093\n",
      "dc1       996\n",
      "Name: sample, dtype: int64\n"
     ]
    },
    {
     "data": {
      "text/plain": [
       "AnnData object with n_obs × n_vars = 125863 × 36601\n",
       "    obs: 'type', 'sample', 'time_point', 'batch'\n",
       "    var: 'gene_ids', 'feature_types', 'genome'"
      ]
     },
     "execution_count": 7,
     "metadata": {},
     "output_type": "execute_result"
    }
   ],
   "source": [
    "#You can print a summary of the datasets in the Scanpy object, or a summary of the whole object.\n",
    "print(adata.obs['sample'].value_counts())\n",
    "\n",
    "adata"
   ]
  },
  {
   "cell_type": "markdown",
   "id": "1411ae64",
   "metadata": {},
   "source": [
    "# Calculate QC"
   ]
  },
  {
   "cell_type": "code",
   "execution_count": 8,
   "id": "f8bbc113",
   "metadata": {},
   "outputs": [
    {
     "data": {
      "text/html": [
       "<div>\n",
       "<style scoped>\n",
       "    .dataframe tbody tr th:only-of-type {\n",
       "        vertical-align: middle;\n",
       "    }\n",
       "\n",
       "    .dataframe tbody tr th {\n",
       "        vertical-align: top;\n",
       "    }\n",
       "\n",
       "    .dataframe thead th {\n",
       "        text-align: right;\n",
       "    }\n",
       "</style>\n",
       "<table border=\"1\" class=\"dataframe\">\n",
       "  <thead>\n",
       "    <tr style=\"text-align: right;\">\n",
       "      <th></th>\n",
       "      <th>gene_ids</th>\n",
       "      <th>feature_types</th>\n",
       "      <th>genome</th>\n",
       "      <th>mt</th>\n",
       "      <th>ribo</th>\n",
       "    </tr>\n",
       "  </thead>\n",
       "  <tbody>\n",
       "    <tr>\n",
       "      <th>MIR1302-2HG</th>\n",
       "      <td>ENSG00000243485</td>\n",
       "      <td>Gene Expression</td>\n",
       "      <td>GRCh38</td>\n",
       "      <td>False</td>\n",
       "      <td>False</td>\n",
       "    </tr>\n",
       "    <tr>\n",
       "      <th>FAM138A</th>\n",
       "      <td>ENSG00000237613</td>\n",
       "      <td>Gene Expression</td>\n",
       "      <td>GRCh38</td>\n",
       "      <td>False</td>\n",
       "      <td>False</td>\n",
       "    </tr>\n",
       "    <tr>\n",
       "      <th>OR4F5</th>\n",
       "      <td>ENSG00000186092</td>\n",
       "      <td>Gene Expression</td>\n",
       "      <td>GRCh38</td>\n",
       "      <td>False</td>\n",
       "      <td>False</td>\n",
       "    </tr>\n",
       "    <tr>\n",
       "      <th>AL627309.1</th>\n",
       "      <td>ENSG00000238009</td>\n",
       "      <td>Gene Expression</td>\n",
       "      <td>GRCh38</td>\n",
       "      <td>False</td>\n",
       "      <td>False</td>\n",
       "    </tr>\n",
       "    <tr>\n",
       "      <th>AL627309.3</th>\n",
       "      <td>ENSG00000239945</td>\n",
       "      <td>Gene Expression</td>\n",
       "      <td>GRCh38</td>\n",
       "      <td>False</td>\n",
       "      <td>False</td>\n",
       "    </tr>\n",
       "    <tr>\n",
       "      <th>...</th>\n",
       "      <td>...</td>\n",
       "      <td>...</td>\n",
       "      <td>...</td>\n",
       "      <td>...</td>\n",
       "      <td>...</td>\n",
       "    </tr>\n",
       "    <tr>\n",
       "      <th>AC141272.1</th>\n",
       "      <td>ENSG00000277836</td>\n",
       "      <td>Gene Expression</td>\n",
       "      <td>GRCh38</td>\n",
       "      <td>False</td>\n",
       "      <td>False</td>\n",
       "    </tr>\n",
       "    <tr>\n",
       "      <th>AC023491.2</th>\n",
       "      <td>ENSG00000278633</td>\n",
       "      <td>Gene Expression</td>\n",
       "      <td>GRCh38</td>\n",
       "      <td>False</td>\n",
       "      <td>False</td>\n",
       "    </tr>\n",
       "    <tr>\n",
       "      <th>AC007325.1</th>\n",
       "      <td>ENSG00000276017</td>\n",
       "      <td>Gene Expression</td>\n",
       "      <td>GRCh38</td>\n",
       "      <td>False</td>\n",
       "      <td>False</td>\n",
       "    </tr>\n",
       "    <tr>\n",
       "      <th>AC007325.4</th>\n",
       "      <td>ENSG00000278817</td>\n",
       "      <td>Gene Expression</td>\n",
       "      <td>GRCh38</td>\n",
       "      <td>False</td>\n",
       "      <td>False</td>\n",
       "    </tr>\n",
       "    <tr>\n",
       "      <th>AC007325.2</th>\n",
       "      <td>ENSG00000277196</td>\n",
       "      <td>Gene Expression</td>\n",
       "      <td>GRCh38</td>\n",
       "      <td>False</td>\n",
       "      <td>False</td>\n",
       "    </tr>\n",
       "  </tbody>\n",
       "</table>\n",
       "<p>36601 rows × 5 columns</p>\n",
       "</div>"
      ],
      "text/plain": [
       "                    gene_ids    feature_types  genome     mt   ribo\n",
       "MIR1302-2HG  ENSG00000243485  Gene Expression  GRCh38  False  False\n",
       "FAM138A      ENSG00000237613  Gene Expression  GRCh38  False  False\n",
       "OR4F5        ENSG00000186092  Gene Expression  GRCh38  False  False\n",
       "AL627309.1   ENSG00000238009  Gene Expression  GRCh38  False  False\n",
       "AL627309.3   ENSG00000239945  Gene Expression  GRCh38  False  False\n",
       "...                      ...              ...     ...    ...    ...\n",
       "AC141272.1   ENSG00000277836  Gene Expression  GRCh38  False  False\n",
       "AC023491.2   ENSG00000278633  Gene Expression  GRCh38  False  False\n",
       "AC007325.1   ENSG00000276017  Gene Expression  GRCh38  False  False\n",
       "AC007325.4   ENSG00000278817  Gene Expression  GRCh38  False  False\n",
       "AC007325.2   ENSG00000277196  Gene Expression  GRCh38  False  False\n",
       "\n",
       "[36601 rows x 5 columns]"
      ]
     },
     "execution_count": 8,
     "metadata": {},
     "output_type": "execute_result"
    }
   ],
   "source": [
    "# Mitochondrial genes\n",
    "adata.var['mt'] = adata.var_names.str.startswith(\"MT-\") \n",
    "# Ribosomal genes\n",
    "adata.var['ribo'] = adata.var_names.str.startswith((\"RPS\",\"RPL\"))\n",
    "# Hemoglobin genes (not really relevant to corneas)\n",
    "# adata.var['hb'] = adata.var_names.str.contains((\"^HB[^(P)]\"))\n",
    "\n",
    "adata.var"
   ]
  },
  {
   "cell_type": "code",
   "execution_count": 9,
   "id": "7b7d0b5a",
   "metadata": {},
   "outputs": [],
   "source": [
    "# General qc-stats for genes and cells\n",
    "sc.pp.calculate_qc_metrics(adata, qc_vars=['mt','ribo'], percent_top=None, log1p=False, inplace=True)"
   ]
  },
  {
   "cell_type": "code",
   "execution_count": 10,
   "id": "589f3b91",
   "metadata": {},
   "outputs": [],
   "source": [
    "mito_genes = adata.var_names.str.startswith('MT-')\n",
    "# for each cell compute fraction of counts in mito genes vs. all genes\n",
    "# the `.A1` is only necessary as X is sparse (to transform to a dense array after summing)\n",
    "adata.obs['percent_mt2'] = np.sum(\n",
    "    adata[:, mito_genes].X, axis=1).A1 / np.sum(adata.X, axis=1).A1\n",
    "# add the total counts per cell as observations-annotation to adata\n",
    "adata.obs['n_counts'] = adata.X.sum(axis=1).A1"
   ]
  },
  {
   "cell_type": "code",
   "execution_count": 11,
   "id": "4f021521",
   "metadata": {},
   "outputs": [
    {
     "data": {
      "text/html": [
       "<div>\n",
       "<style scoped>\n",
       "    .dataframe tbody tr th:only-of-type {\n",
       "        vertical-align: middle;\n",
       "    }\n",
       "\n",
       "    .dataframe tbody tr th {\n",
       "        vertical-align: top;\n",
       "    }\n",
       "\n",
       "    .dataframe thead th {\n",
       "        text-align: right;\n",
       "    }\n",
       "</style>\n",
       "<table border=\"1\" class=\"dataframe\">\n",
       "  <thead>\n",
       "    <tr style=\"text-align: right;\">\n",
       "      <th></th>\n",
       "      <th>type</th>\n",
       "      <th>sample</th>\n",
       "      <th>time_point</th>\n",
       "      <th>batch</th>\n",
       "      <th>n_genes_by_counts</th>\n",
       "      <th>total_counts</th>\n",
       "      <th>total_counts_mt</th>\n",
       "      <th>pct_counts_mt</th>\n",
       "      <th>total_counts_ribo</th>\n",
       "      <th>pct_counts_ribo</th>\n",
       "      <th>percent_mt2</th>\n",
       "      <th>n_counts</th>\n",
       "    </tr>\n",
       "  </thead>\n",
       "  <tbody>\n",
       "    <tr>\n",
       "      <th>AAACCCAGTAGGGAGG-1-0</th>\n",
       "      <td>dev_cornea</td>\n",
       "      <td>dc1</td>\n",
       "      <td>10PCW</td>\n",
       "      <td>0</td>\n",
       "      <td>1108</td>\n",
       "      <td>1664.0</td>\n",
       "      <td>6.0</td>\n",
       "      <td>0.360577</td>\n",
       "      <td>43.0</td>\n",
       "      <td>2.584135</td>\n",
       "      <td>0.003606</td>\n",
       "      <td>1664.0</td>\n",
       "    </tr>\n",
       "    <tr>\n",
       "      <th>AAACGAACATTGAAGA-1-0</th>\n",
       "      <td>dev_cornea</td>\n",
       "      <td>dc1</td>\n",
       "      <td>10PCW</td>\n",
       "      <td>0</td>\n",
       "      <td>2730</td>\n",
       "      <td>8938.0</td>\n",
       "      <td>349.0</td>\n",
       "      <td>3.904677</td>\n",
       "      <td>2712.0</td>\n",
       "      <td>30.342358</td>\n",
       "      <td>0.039047</td>\n",
       "      <td>8938.0</td>\n",
       "    </tr>\n",
       "    <tr>\n",
       "      <th>AAAGGTAGTCCGTTTC-1-0</th>\n",
       "      <td>dev_cornea</td>\n",
       "      <td>dc1</td>\n",
       "      <td>10PCW</td>\n",
       "      <td>0</td>\n",
       "      <td>325</td>\n",
       "      <td>773.0</td>\n",
       "      <td>351.0</td>\n",
       "      <td>45.407505</td>\n",
       "      <td>47.0</td>\n",
       "      <td>6.080207</td>\n",
       "      <td>0.454075</td>\n",
       "      <td>773.0</td>\n",
       "    </tr>\n",
       "    <tr>\n",
       "      <th>AAAGTCCAGAAAGTCT-1-0</th>\n",
       "      <td>dev_cornea</td>\n",
       "      <td>dc1</td>\n",
       "      <td>10PCW</td>\n",
       "      <td>0</td>\n",
       "      <td>3398</td>\n",
       "      <td>11587.0</td>\n",
       "      <td>387.0</td>\n",
       "      <td>3.339950</td>\n",
       "      <td>3320.0</td>\n",
       "      <td>28.652800</td>\n",
       "      <td>0.033399</td>\n",
       "      <td>11587.0</td>\n",
       "    </tr>\n",
       "    <tr>\n",
       "      <th>AAAGTCCCAATAACCC-1-0</th>\n",
       "      <td>dev_cornea</td>\n",
       "      <td>dc1</td>\n",
       "      <td>10PCW</td>\n",
       "      <td>0</td>\n",
       "      <td>1288</td>\n",
       "      <td>1998.0</td>\n",
       "      <td>12.0</td>\n",
       "      <td>0.600601</td>\n",
       "      <td>240.0</td>\n",
       "      <td>12.012012</td>\n",
       "      <td>0.006006</td>\n",
       "      <td>1998.0</td>\n",
       "    </tr>\n",
       "    <tr>\n",
       "      <th>...</th>\n",
       "      <td>...</td>\n",
       "      <td>...</td>\n",
       "      <td>...</td>\n",
       "      <td>...</td>\n",
       "      <td>...</td>\n",
       "      <td>...</td>\n",
       "      <td>...</td>\n",
       "      <td>...</td>\n",
       "      <td>...</td>\n",
       "      <td>...</td>\n",
       "      <td>...</td>\n",
       "      <td>...</td>\n",
       "    </tr>\n",
       "    <tr>\n",
       "      <th>TTTGTTGGTAAGGTCG-1-16</th>\n",
       "      <td>dev_cornea</td>\n",
       "      <td>dc17</td>\n",
       "      <td>21PCW</td>\n",
       "      <td>16</td>\n",
       "      <td>5082</td>\n",
       "      <td>17376.0</td>\n",
       "      <td>1974.0</td>\n",
       "      <td>11.360497</td>\n",
       "      <td>3156.0</td>\n",
       "      <td>18.162983</td>\n",
       "      <td>0.113605</td>\n",
       "      <td>17376.0</td>\n",
       "    </tr>\n",
       "    <tr>\n",
       "      <th>TTTGTTGGTATCGCAT-1-16</th>\n",
       "      <td>dev_cornea</td>\n",
       "      <td>dc17</td>\n",
       "      <td>21PCW</td>\n",
       "      <td>16</td>\n",
       "      <td>4268</td>\n",
       "      <td>11912.0</td>\n",
       "      <td>726.0</td>\n",
       "      <td>6.094695</td>\n",
       "      <td>2085.0</td>\n",
       "      <td>17.503359</td>\n",
       "      <td>0.060947</td>\n",
       "      <td>11912.0</td>\n",
       "    </tr>\n",
       "    <tr>\n",
       "      <th>TTTGTTGTCCGTGGCA-1-16</th>\n",
       "      <td>dev_cornea</td>\n",
       "      <td>dc17</td>\n",
       "      <td>21PCW</td>\n",
       "      <td>16</td>\n",
       "      <td>3070</td>\n",
       "      <td>7777.0</td>\n",
       "      <td>806.0</td>\n",
       "      <td>10.363894</td>\n",
       "      <td>1206.0</td>\n",
       "      <td>15.507264</td>\n",
       "      <td>0.103639</td>\n",
       "      <td>7777.0</td>\n",
       "    </tr>\n",
       "    <tr>\n",
       "      <th>TTTGTTGTCGTTTACT-1-16</th>\n",
       "      <td>dev_cornea</td>\n",
       "      <td>dc17</td>\n",
       "      <td>21PCW</td>\n",
       "      <td>16</td>\n",
       "      <td>3498</td>\n",
       "      <td>10044.0</td>\n",
       "      <td>426.0</td>\n",
       "      <td>4.241338</td>\n",
       "      <td>1208.0</td>\n",
       "      <td>12.027081</td>\n",
       "      <td>0.042413</td>\n",
       "      <td>10044.0</td>\n",
       "    </tr>\n",
       "    <tr>\n",
       "      <th>TTTGTTGTCTGAGGTT-1-16</th>\n",
       "      <td>dev_cornea</td>\n",
       "      <td>dc17</td>\n",
       "      <td>21PCW</td>\n",
       "      <td>16</td>\n",
       "      <td>206</td>\n",
       "      <td>1127.0</td>\n",
       "      <td>94.0</td>\n",
       "      <td>8.340728</td>\n",
       "      <td>38.0</td>\n",
       "      <td>3.371783</td>\n",
       "      <td>0.083407</td>\n",
       "      <td>1127.0</td>\n",
       "    </tr>\n",
       "  </tbody>\n",
       "</table>\n",
       "<p>125863 rows × 12 columns</p>\n",
       "</div>"
      ],
      "text/plain": [
       "                             type sample time_point batch  n_genes_by_counts  \\\n",
       "AAACCCAGTAGGGAGG-1-0   dev_cornea    dc1      10PCW     0               1108   \n",
       "AAACGAACATTGAAGA-1-0   dev_cornea    dc1      10PCW     0               2730   \n",
       "AAAGGTAGTCCGTTTC-1-0   dev_cornea    dc1      10PCW     0                325   \n",
       "AAAGTCCAGAAAGTCT-1-0   dev_cornea    dc1      10PCW     0               3398   \n",
       "AAAGTCCCAATAACCC-1-0   dev_cornea    dc1      10PCW     0               1288   \n",
       "...                           ...    ...        ...   ...                ...   \n",
       "TTTGTTGGTAAGGTCG-1-16  dev_cornea   dc17      21PCW    16               5082   \n",
       "TTTGTTGGTATCGCAT-1-16  dev_cornea   dc17      21PCW    16               4268   \n",
       "TTTGTTGTCCGTGGCA-1-16  dev_cornea   dc17      21PCW    16               3070   \n",
       "TTTGTTGTCGTTTACT-1-16  dev_cornea   dc17      21PCW    16               3498   \n",
       "TTTGTTGTCTGAGGTT-1-16  dev_cornea   dc17      21PCW    16                206   \n",
       "\n",
       "                       total_counts  total_counts_mt  pct_counts_mt  \\\n",
       "AAACCCAGTAGGGAGG-1-0         1664.0              6.0       0.360577   \n",
       "AAACGAACATTGAAGA-1-0         8938.0            349.0       3.904677   \n",
       "AAAGGTAGTCCGTTTC-1-0          773.0            351.0      45.407505   \n",
       "AAAGTCCAGAAAGTCT-1-0        11587.0            387.0       3.339950   \n",
       "AAAGTCCCAATAACCC-1-0         1998.0             12.0       0.600601   \n",
       "...                             ...              ...            ...   \n",
       "TTTGTTGGTAAGGTCG-1-16       17376.0           1974.0      11.360497   \n",
       "TTTGTTGGTATCGCAT-1-16       11912.0            726.0       6.094695   \n",
       "TTTGTTGTCCGTGGCA-1-16        7777.0            806.0      10.363894   \n",
       "TTTGTTGTCGTTTACT-1-16       10044.0            426.0       4.241338   \n",
       "TTTGTTGTCTGAGGTT-1-16        1127.0             94.0       8.340728   \n",
       "\n",
       "                       total_counts_ribo  pct_counts_ribo  percent_mt2  \\\n",
       "AAACCCAGTAGGGAGG-1-0                43.0         2.584135     0.003606   \n",
       "AAACGAACATTGAAGA-1-0              2712.0        30.342358     0.039047   \n",
       "AAAGGTAGTCCGTTTC-1-0                47.0         6.080207     0.454075   \n",
       "AAAGTCCAGAAAGTCT-1-0              3320.0        28.652800     0.033399   \n",
       "AAAGTCCCAATAACCC-1-0               240.0        12.012012     0.006006   \n",
       "...                                  ...              ...          ...   \n",
       "TTTGTTGGTAAGGTCG-1-16             3156.0        18.162983     0.113605   \n",
       "TTTGTTGGTATCGCAT-1-16             2085.0        17.503359     0.060947   \n",
       "TTTGTTGTCCGTGGCA-1-16             1206.0        15.507264     0.103639   \n",
       "TTTGTTGTCGTTTACT-1-16             1208.0        12.027081     0.042413   \n",
       "TTTGTTGTCTGAGGTT-1-16               38.0         3.371783     0.083407   \n",
       "\n",
       "                       n_counts  \n",
       "AAACCCAGTAGGGAGG-1-0     1664.0  \n",
       "AAACGAACATTGAAGA-1-0     8938.0  \n",
       "AAAGGTAGTCCGTTTC-1-0      773.0  \n",
       "AAAGTCCAGAAAGTCT-1-0    11587.0  \n",
       "AAAGTCCCAATAACCC-1-0     1998.0  \n",
       "...                         ...  \n",
       "TTTGTTGGTAAGGTCG-1-16   17376.0  \n",
       "TTTGTTGGTATCGCAT-1-16   11912.0  \n",
       "TTTGTTGTCCGTGGCA-1-16    7777.0  \n",
       "TTTGTTGTCGTTTACT-1-16   10044.0  \n",
       "TTTGTTGTCTGAGGTT-1-16    1127.0  \n",
       "\n",
       "[125863 rows x 12 columns]"
      ]
     },
     "execution_count": 11,
     "metadata": {},
     "output_type": "execute_result"
    }
   ],
   "source": [
    "#additional data in the scanpy obs slot.\n",
    "adata.obs"
   ]
  },
  {
   "cell_type": "markdown",
   "id": "cde7430e",
   "metadata": {},
   "source": [
    "# Plot QC"
   ]
  },
  {
   "cell_type": "code",
   "execution_count": 34,
   "id": "0f41beff",
   "metadata": {},
   "outputs": [],
   "source": [
    "#Now we can plot some of the QC-features as violin plots.\n",
    "sc.pl.violin(adata, ['n_genes_by_counts'],\n",
    "             jitter=0, groupby = 'sample', rotation= 45)"
   ]
  },
  {
   "cell_type": "code",
   "execution_count": 33,
   "id": "599854ff",
   "metadata": {},
   "outputs": [],
   "source": [
    "sc.pl.violin(adata, ['n_genes_by_counts', 'total_counts', 'pct_counts_mt','pct_counts_ribo'],\n",
    "             jitter=0.2, groupby = 'sample', rotation= 45)"
   ]
  },
  {
   "cell_type": "code",
   "execution_count": 32,
   "id": "6b691d23",
   "metadata": {},
   "outputs": [],
   "source": [
    "#plot the different QC-measures as scatter plots.\n",
    "sc.pl.scatter(adata, x='total_counts', y='pct_counts_mt', color=\"sample\")"
   ]
  },
  {
   "cell_type": "markdown",
   "id": "fd9ec982",
   "metadata": {},
   "source": [
    "# Filtering"
   ]
  },
  {
   "cell_type": "code",
   "execution_count": 15,
   "id": "f6e67cbb",
   "metadata": {},
   "outputs": [
    {
     "name": "stdout",
     "output_type": "stream",
     "text": [
      "filtered out 47561 cells that have less than 1500 genes expressed\n",
      "filtered out 564 cells that have more than 10000 genes expressed\n",
      "filtered out 3667 genes that are detected in less than 3 cells\n",
      "77738 32934\n"
     ]
    }
   ],
   "source": [
    "#A standard approach is to filter cells \n",
    "#with low amount of reads as well as genes that are present in at least a certain amount of cells.\n",
    "sc.pp.filter_cells(adata, min_genes=1500)\n",
    "sc.pp.filter_cells(adata, max_genes=10000)\n",
    "sc.pp.filter_genes(adata, min_cells=3)\n",
    "\n",
    "\n",
    "print(adata.n_obs, adata.n_vars)"
   ]
  },
  {
   "cell_type": "code",
   "execution_count": 31,
   "id": "81abab00",
   "metadata": {},
   "outputs": [],
   "source": [
    "#which genes contribute the most to such reads. We can for instance plot the percentage of counts per gene.\n",
    "sc.pl.highest_expr_genes(adata, n_top=20)"
   ]
  },
  {
   "cell_type": "markdown",
   "id": "2be88781",
   "metadata": {},
   "source": [
    "# Mito/Ribo filtering"
   ]
  },
  {
   "cell_type": "code",
   "execution_count": 17,
   "id": "8f3debb2",
   "metadata": {},
   "outputs": [
    {
     "name": "stdout",
     "output_type": "stream",
     "text": [
      "Remaining cells 76285\n"
     ]
    }
   ],
   "source": [
    "#lot of cells with high proportion of mitochondrial and low proportion of ribosomal reads. It could be wise to remove those cells\n",
    "\n",
    "# filter for percent mito\n",
    "adata = adata[adata.obs['pct_counts_mt'] < 30, :]\n",
    "\n",
    "# filter for percent ribo > 0.05\n",
    "adata = adata[adata.obs['pct_counts_ribo'] > 5, :]\n",
    "\n",
    "print(\"Remaining cells %d\"%adata.n_obs)"
   ]
  },
  {
   "cell_type": "markdown",
   "id": "9478ac58",
   "metadata": {},
   "source": [
    "# Plot filtered QC"
   ]
  },
  {
   "cell_type": "code",
   "execution_count": 30,
   "id": "bb1f7ded",
   "metadata": {},
   "outputs": [],
   "source": [
    "sc.pl.violin(adata, ['n_genes_by_counts', 'total_counts', 'pct_counts_mt','pct_counts_ribo'],\n",
    "             jitter=0.1, groupby = 'sample', rotation = 45)\n",
    "#jitter=0.4 to see dots"
   ]
  },
  {
   "cell_type": "markdown",
   "id": "76ca22bd",
   "metadata": {},
   "source": [
    "# Filter genes"
   ]
  },
  {
   "cell_type": "code",
   "execution_count": 19,
   "id": "c918b2c5",
   "metadata": {},
   "outputs": [
    {
     "name": "stdout",
     "output_type": "stream",
     "text": [
      "76285 32921\n"
     ]
    }
   ],
   "source": [
    "#Level of expression of mitochondrial and MALAT1 genes are judged as mainly technical, it can be wise to remove them\n",
    "\n",
    "#col1a1 = adata.var_names.str.startswith('COL1A1')\n",
    "# we need to redefine the mito_genes since they were first \n",
    "# calculated on the full object before removing low expressed genes.\n",
    "mito_genes = adata.var_names.str.startswith('MT-')\n",
    "#hb_genes = adata.var_names.str.contains('^HB[^(P)]')\n",
    "\n",
    "#I removed malat from the remove variable and hb genes\n",
    "remove = mito_genes\n",
    "#remove = np.add(remove, hb_genes)\n",
    "keep = np.invert(remove)\n",
    "adata = adata[:,keep]\n",
    "\n",
    "print(adata.n_obs, adata.n_vars)"
   ]
  },
  {
   "cell_type": "markdown",
   "id": "701ce128",
   "metadata": {},
   "source": [
    "# Sample sex"
   ]
  },
  {
   "cell_type": "code",
   "execution_count": 20,
   "id": "9c685ffc",
   "metadata": {},
   "outputs": [],
   "source": [
    "annot = sc.queries.biomart_annotations(\n",
    "        \"hsapiens\",\n",
    "        [\"ensembl_gene_id\", \"external_gene_name\", \"start_position\", \"end_position\", \"chromosome_name\"],\n",
    "    ).set_index(\"external_gene_name\")\n",
    "#>>> adata.var[annot.columns] = annot"
   ]
  },
  {
   "cell_type": "code",
   "execution_count": 21,
   "id": "155c62d5",
   "metadata": {},
   "outputs": [
    {
     "data": {
      "text/plain": [
       "Index(['SRY', 'RPS4Y1', 'ZFY', 'ZFY-AS1', 'LINC00278', 'PCDH11Y', 'AMELY',\n",
       "       'TBL1Y', 'PRKY', 'TTTY18', 'USP9Y', 'DDX3Y', 'UTY', 'TMSB4Y', 'NLGN4Y',\n",
       "       'NLGN4Y-AS1', 'HSFY1', 'HSFY2', 'TTTY14', 'KDM5D', 'TTTY10', 'EIF1AY',\n",
       "       'RPS4Y2', 'PRORY', 'TTTY4', 'TTTY4B', 'DAZ4'],\n",
       "      dtype='object')"
      ]
     },
     "execution_count": 21,
     "metadata": {},
     "output_type": "execute_result"
    }
   ],
   "source": [
    "#we can calculate per cell the proportion of reads that comes from chromosome Y.\n",
    "\n",
    "chrY_genes = adata.var_names.intersection(annot.index[annot.chromosome_name == \"Y\"])\n",
    "chrY_genes"
   ]
  },
  {
   "cell_type": "code",
   "execution_count": 22,
   "id": "ddea9241",
   "metadata": {},
   "outputs": [
    {
     "name": "stderr",
     "output_type": "stream",
     "text": [
      "/tmp/ipykernel_3226058/3571384317.py:1: ImplicitModificationWarning: Trying to modify attribute `.obs` of view, initializing view as actual.\n",
      "  adata.obs['percent_chrY'] = np.sum(\n"
     ]
    }
   ],
   "source": [
    "adata.obs['percent_chrY'] = np.sum(\n",
    "    adata[:, chrY_genes].X, axis=1).A1 / np.sum(adata.X, axis=1).A1 * 100\n",
    "\n",
    "#Now, plot XIST expression vs chrY proportion"
   ]
  },
  {
   "cell_type": "code",
   "execution_count": 29,
   "id": "38f10b67",
   "metadata": {},
   "outputs": [],
   "source": [
    "# color inputs must be from either .obs or .var, so add in XIST expression to obs.\n",
    "adata.obs[\"XIST-counts\"] = adata.X[:,adata.var_names.str.match('XIST')].toarray()\n",
    "\n",
    "sc.pl.scatter(adata, x='XIST-counts', y='percent_chrY', color=\"sample\")"
   ]
  },
  {
   "cell_type": "code",
   "execution_count": 28,
   "id": "710b06e7",
   "metadata": {},
   "outputs": [],
   "source": [
    "#Plot as violins\n",
    "\n",
    "sc.pl.violin(adata, [\"XIST-counts\", \"percent_chrY\"], jitter=0.2, groupby = 'sample', rotation= 45)"
   ]
  },
  {
   "cell_type": "markdown",
   "id": "285cab49",
   "metadata": {},
   "source": [
    "# Calculate cell-cycle scores"
   ]
  },
  {
   "cell_type": "code",
   "execution_count": 25,
   "id": "695f3f10",
   "metadata": {},
   "outputs": [
    {
     "name": "stdout",
     "output_type": "stream",
     "text": [
      "97\n",
      "94\n"
     ]
    }
   ],
   "source": [
    "cell_cycle_genes = [x.strip() for x in open('./data/regev_lab_cell_cycle_genes.txt')]\n",
    "print(len(cell_cycle_genes))\n",
    "\n",
    "# Split into 2 lists\n",
    "s_genes = cell_cycle_genes[:43]\n",
    "g2m_genes = cell_cycle_genes[43:]\n",
    "\n",
    "cell_cycle_genes = [x for x in cell_cycle_genes if x in adata.var_names]\n",
    "print(len(cell_cycle_genes))"
   ]
  },
  {
   "cell_type": "code",
   "execution_count": 26,
   "id": "7041b85a",
   "metadata": {},
   "outputs": [
    {
     "name": "stdout",
     "output_type": "stream",
     "text": [
      "normalizing by total count per cell\n",
      "    finished (0:00:22): normalized adata.X and added    'n_counts', counts per cell before normalization (adata.obs)\n",
      "... as `zero_center=True`, sparse input is densified and may lead to large memory consumption\n"
     ]
    }
   ],
   "source": [
    "#Before running cell cycle we have to normalize the data. \n",
    "#In the scanpy object, the data slot will be overwritten with the normalized data. So first, \n",
    "#save the raw data into the slot raw.\n",
    "#Then run normalization, logarimize and scale the data\n",
    "\n",
    "# save normalized counts in default slot.\n",
    "adata.raw = adata\n",
    "\n",
    "# normalize to depth 10 000\n",
    "sc.pp.normalize_per_cell(adata, counts_per_cell_after=1e4)\n",
    "\n",
    "# logaritmize\n",
    "sc.pp.log1p(adata)\n",
    "\n",
    "# scale\n",
    "sc.pp.scale(adata)"
   ]
  },
  {
   "cell_type": "code",
   "execution_count": 27,
   "id": "44533f2f",
   "metadata": {},
   "outputs": [
    {
     "data": {
      "text/plain": [
       "<76285x32921 sparse matrix of type '<class 'numpy.float32'>'\n",
       "\twith 284692338 stored elements in Compressed Sparse Row format>"
      ]
     },
     "execution_count": 27,
     "metadata": {},
     "output_type": "execute_result"
    }
   ],
   "source": [
    "adata.raw.X"
   ]
  },
  {
   "cell_type": "code",
   "execution_count": 28,
   "id": "d22a4944",
   "metadata": {},
   "outputs": [
    {
     "name": "stdout",
     "output_type": "stream",
     "text": [
      "calculating cell cycle phase\n",
      "computing score 'S_score'\n",
      "WARNING: genes are not in var_names and ignored: ['MLF1IP']\n"
     ]
    },
    {
     "name": "stderr",
     "output_type": "stream",
     "text": [
      "/vol/mbconda/imarais/miniconda3/envs/my_env/lib/python3.9/site-packages/scanpy/tools/_score_genes.py:151: FutureWarning: Passing a set as an indexer is deprecated and will raise in a future version. Use a list instead.\n",
      "  for cut in np.unique(obs_cut.loc[gene_list]):\n"
     ]
    },
    {
     "name": "stdout",
     "output_type": "stream",
     "text": [
      "    finished: added\n",
      "    'S_score', score of gene set (adata.obs).\n",
      "    470 total control genes are used. (0:00:02)\n",
      "computing score 'G2M_score'\n",
      "WARNING: genes are not in var_names and ignored: ['FAM64A', 'HN1']\n"
     ]
    },
    {
     "name": "stderr",
     "output_type": "stream",
     "text": [
      "/vol/mbconda/imarais/miniconda3/envs/my_env/lib/python3.9/site-packages/scanpy/tools/_score_genes.py:151: FutureWarning: Passing a set as an indexer is deprecated and will raise in a future version. Use a list instead.\n",
      "  for cut in np.unique(obs_cut.loc[gene_list]):\n"
     ]
    },
    {
     "name": "stdout",
     "output_type": "stream",
     "text": [
      "    finished: added\n",
      "    'G2M_score', score of gene set (adata.obs).\n",
      "    426 total control genes are used. (0:00:02)\n",
      "-->     'phase', cell cycle phase (adata.obs)\n"
     ]
    }
   ],
   "source": [
    "#Cell cycle scoring adds three slots in data, a score for S phase, a score for G2M phase and the predicted cell cycle phase.\n",
    "\n",
    "sc.tl.score_genes_cell_cycle(adata, s_genes=s_genes, g2m_genes=g2m_genes)"
   ]
  },
  {
   "cell_type": "code",
   "execution_count": 27,
   "id": "476567e2",
   "metadata": {},
   "outputs": [],
   "source": [
    "#Plot a violin plot for the cell cycle scores as well.\n",
    "\n",
    "sc.pl.violin(adata, ['S_score', 'G2M_score'],\n",
    "             jitter=0.2, groupby = 'sample', rotation=45)"
   ]
  },
  {
   "cell_type": "markdown",
   "id": "6655721d",
   "metadata": {},
   "source": [
    "# Predict doublets"
   ]
  },
  {
   "cell_type": "code",
   "execution_count": 30,
   "id": "c9aa4f79",
   "metadata": {},
   "outputs": [
    {
     "name": "stdout",
     "output_type": "stream",
     "text": [
      "dc1 : 527  cells\n",
      "2  predicted_doublets\n",
      "dc2 : 165  cells\n",
      "4  predicted_doublets\n",
      "dc3 : 7122  cells\n",
      "88  predicted_doublets\n",
      "dc4 : 7802  cells\n",
      "226  predicted_doublets\n",
      "dc5 : 880  cells\n",
      "5  predicted_doublets\n",
      "dc6 : 2275  cells\n",
      "8  predicted_doublets\n",
      "dc7 : 6703  cells\n",
      "100  predicted_doublets\n",
      "dc8 : 1550  cells\n",
      "6  predicted_doublets\n",
      "dc9 : 3668  cells\n",
      "76  predicted_doublets\n",
      "dc10 : 5574  cells\n",
      "166  predicted_doublets\n",
      "dc11 : 2432  cells\n",
      "33  predicted_doublets\n",
      "dc12 : 9037  cells\n",
      "356  predicted_doublets\n",
      "dc13 : 5257  cells\n",
      "2  predicted_doublets\n",
      "dc14 : 2169  cells\n",
      "27  predicted_doublets\n",
      "dc15 : 748  cells\n",
      "4  predicted_doublets\n",
      "dc16 : 12345  cells\n",
      "614  predicted_doublets\n",
      "dc17 : 8031  cells\n",
      "335  predicted_doublets\n"
     ]
    }
   ],
   "source": [
    "#Doublets/Mulitples of cells in the same well/droplet is a common issue in scRNAseq protocols\n",
    "\n",
    "#For doublet detection, we will use the package Scrublet, \n",
    "#so first we need to get the raw counts from adata.raw.X and run scrublet with that matrix. \n",
    "\n",
    "import scrublet as scr\n",
    "\n",
    "# split per batch into new objects.\n",
    "batches = adata.obs['sample'].cat.categories.tolist()\n",
    "alldata = {}\n",
    "for batch in batches:\n",
    "    tmp = adata[adata.obs['sample'] == batch,]\n",
    "    print(batch, \":\", tmp.shape[0], \" cells\")\n",
    "    scrub = scr.Scrublet(tmp.raw.X)\n",
    "    out = scrub.scrub_doublets(verbose=False, n_prin_comps = 20)\n",
    "    alldata[batch] = pd.DataFrame({'doublet_score':out[0],'predicted_doublets':out[1]},index = tmp.obs.index)\n",
    "    print(alldata[batch].predicted_doublets.sum(), \" predicted_doublets\")"
   ]
  },
  {
   "cell_type": "code",
   "execution_count": 31,
   "id": "e1330e64",
   "metadata": {},
   "outputs": [
    {
     "data": {
      "text/plain": [
       "2052"
      ]
     },
     "execution_count": 31,
     "metadata": {},
     "output_type": "execute_result"
    }
   ],
   "source": [
    "# add predictions to the adata object.\n",
    "scrub_pred = pd.concat(alldata.values())\n",
    "adata.obs['doublet_scores'] = scrub_pred['doublet_score'] \n",
    "adata.obs['predicted_doublets'] = scrub_pred['predicted_doublets'] \n",
    "\n",
    "sum(adata.obs['predicted_doublets'])"
   ]
  },
  {
   "cell_type": "code",
   "execution_count": 26,
   "id": "6fcbc87f",
   "metadata": {},
   "outputs": [],
   "source": [
    "# add in column with singlet/doublet instead of True/Fals\n",
    "%matplotlib inline\n",
    "\n",
    "adata.obs['doublet_info'] = adata.obs[\"predicted_doublets\"].astype(str)\n",
    "\n",
    "sc.pl.violin(adata, 'n_genes_by_counts',\n",
    "             jitter=0.4, groupby = 'doublet_info', rotation=45)"
   ]
  },
  {
   "cell_type": "code",
   "execution_count": 33,
   "id": "369133fa",
   "metadata": {},
   "outputs": [
    {
     "data": {
      "text/html": [
       "<div>\n",
       "<style scoped>\n",
       "    .dataframe tbody tr th:only-of-type {\n",
       "        vertical-align: middle;\n",
       "    }\n",
       "\n",
       "    .dataframe tbody tr th {\n",
       "        vertical-align: top;\n",
       "    }\n",
       "\n",
       "    .dataframe thead th {\n",
       "        text-align: right;\n",
       "    }\n",
       "</style>\n",
       "<table border=\"1\" class=\"dataframe\">\n",
       "  <thead>\n",
       "    <tr style=\"text-align: right;\">\n",
       "      <th></th>\n",
       "      <th>gene_ids</th>\n",
       "      <th>feature_types</th>\n",
       "      <th>genome</th>\n",
       "      <th>mt</th>\n",
       "      <th>ribo</th>\n",
       "      <th>n_cells_by_counts</th>\n",
       "      <th>mean_counts</th>\n",
       "      <th>pct_dropout_by_counts</th>\n",
       "      <th>total_counts</th>\n",
       "      <th>n_cells</th>\n",
       "      <th>mean</th>\n",
       "      <th>std</th>\n",
       "    </tr>\n",
       "  </thead>\n",
       "  <tbody>\n",
       "  </tbody>\n",
       "</table>\n",
       "</div>"
      ],
      "text/plain": [
       "Empty DataFrame\n",
       "Columns: [gene_ids, feature_types, genome, mt, ribo, n_cells_by_counts, mean_counts, pct_dropout_by_counts, total_counts, n_cells, mean, std]\n",
       "Index: []"
      ]
     },
     "execution_count": 33,
     "metadata": {},
     "output_type": "execute_result"
    }
   ],
   "source": [
    "# adata.var[adata.var[\"n_cells\"]==np.nan]\n",
    "# np.isinf(adata.X.todense()).sum()\n",
    "adata.var[adata.var.isna().any(axis=1)]"
   ]
  },
  {
   "cell_type": "code",
   "execution_count": 35,
   "id": "f3de5e19",
   "metadata": {},
   "outputs": [
    {
     "data": {
      "text/plain": [
       "<76285x32921 sparse matrix of type '<class 'numpy.float32'>'\n",
       "\twith 284692338 stored elements in Compressed Sparse Row format>"
      ]
     },
     "execution_count": 35,
     "metadata": {},
     "output_type": "execute_result"
    }
   ],
   "source": [
    "adata.raw.X"
   ]
  },
  {
   "cell_type": "code",
   "execution_count": 36,
   "id": "c06a05b4",
   "metadata": {},
   "outputs": [],
   "source": [
    "adata_backup = adata.copy()"
   ]
  },
  {
   "cell_type": "code",
   "execution_count": 85,
   "id": "2135a036",
   "metadata": {},
   "outputs": [],
   "source": [
    "# Save the file inbetween\n",
    "save_file = 'data/results/scanpy_qc_filtered_alldata_before_hvg.h5ad'\n",
    "adata.write_h5ad(save_file)"
   ]
  },
  {
   "cell_type": "code",
   "execution_count": 3,
   "id": "8e2cb57d",
   "metadata": {},
   "outputs": [
    {
     "data": {
      "text/plain": [
       "AnnData object with n_obs × n_vars = 76285 × 32921\n",
       "    obs: 'type', 'sample', 'time_point', 'batch', 'n_genes_by_counts', 'total_counts', 'total_counts_mt', 'pct_counts_mt', 'total_counts_ribo', 'pct_counts_ribo', 'percent_mt2', 'n_counts', 'n_genes', 'percent_chrY', 'XIST-counts', 'S_score', 'G2M_score', 'phase', 'doublet_scores', 'predicted_doublets', 'doublet_info'\n",
       "    var: 'gene_ids', 'feature_types', 'genome', 'mt', 'ribo', 'n_cells_by_counts', 'mean_counts', 'pct_dropout_by_counts', 'total_counts', 'n_cells', 'mean', 'std'\n",
       "    uns: 'doublet_info_colors', 'log1p', 'sample_colors'"
      ]
     },
     "execution_count": 3,
     "metadata": {},
     "output_type": "execute_result"
    }
   ],
   "source": [
    "adata=sc.read_h5ad('data/results/scanpy_qc_filtered_alldata_before_hvg.h5ad')\n",
    "adata"
   ]
  },
  {
   "cell_type": "markdown",
   "id": "ee889d36",
   "metadata": {},
   "source": [
    "## START HERE FOR SVM COMPARISONS"
   ]
  },
  {
   "cell_type": "code",
   "execution_count": 3,
   "id": "98b03829",
   "metadata": {},
   "outputs": [],
   "source": [
    "adata = sc.read_h5ad(\"/ceph/rimlsfnwi/data/moldevbio/zhou/imarais/cPredictor/SVM_predicted.h5ad\")\n",
    "\n",
    "svmrej_60 = sc.read_h5ad(\"/ceph/rimlsfnwi/data/moldevbio/zhou/imarais/cPredictor/SVMrej_predicted.h5ad\")"
   ]
  },
  {
   "cell_type": "code",
   "execution_count": 4,
   "id": "8e64d331",
   "metadata": {},
   "outputs": [
    {
     "name": "stdout",
     "output_type": "stream",
     "text": [
      "WARNING: adata.X seems to be already log-transformed.\n"
     ]
    },
    {
     "name": "stderr",
     "output_type": "stream",
     "text": [
      "/vol/mbconda/imarais/miniconda3/envs/my_env/lib/python3.9/site-packages/scanpy/preprocessing/_simple.py:352: RuntimeWarning: invalid value encountered in log1p\n",
      "  np.log1p(X, out=X)\n"
     ]
    },
    {
     "data": {
      "text/plain": [
       "OverloadedDict, wrapping:\n",
       "\t{'doublet_info_colors': array(['#1f77b4', '#ff7f0e'], dtype=object), 'log1p': {'base': None}, 'sample_colors': array(['#1f77b4', '#ff7f0e', '#279e68', '#d62728', '#aa40fc', '#8c564b',\n",
       "       '#e377c2', '#b5bd61', '#17becf', '#aec7e8', '#ffbb78', '#98df8a',\n",
       "       '#ff9896', '#c5b0d5', '#c49c94', '#f7b6d2', '#dbdb8d'],\n",
       "      dtype=object)}\n",
       "With overloaded keys:\n",
       "\t['neighbors']."
      ]
     },
     "execution_count": 4,
     "metadata": {},
     "output_type": "execute_result"
    }
   ],
   "source": [
    "sc.pp.log1p(adata)\n",
    "adata.uns"
   ]
  },
  {
   "cell_type": "code",
   "execution_count": 5,
   "id": "c9bd674b",
   "metadata": {},
   "outputs": [
    {
     "name": "stdout",
     "output_type": "stream",
     "text": [
      "WARNING: adata.X seems to be already log-transformed.\n"
     ]
    },
    {
     "data": {
      "text/plain": [
       "OverloadedDict, wrapping:\n",
       "\t{'doublet_info_colors': array(['#1f77b4', '#ff7f0e'], dtype=object), 'log1p': {'base': None}, 'sample_colors': array(['#1f77b4', '#ff7f0e', '#279e68', '#d62728', '#aa40fc', '#8c564b',\n",
       "       '#e377c2', '#b5bd61', '#17becf', '#aec7e8', '#ffbb78', '#98df8a',\n",
       "       '#ff9896', '#c5b0d5', '#c49c94', '#f7b6d2', '#dbdb8d'],\n",
       "      dtype=object)}\n",
       "With overloaded keys:\n",
       "\t['neighbors']."
      ]
     },
     "execution_count": 5,
     "metadata": {},
     "output_type": "execute_result"
    }
   ],
   "source": [
    "sc.pp.log1p(svmrej_60)\n",
    "svmrej_60.uns"
   ]
  },
  {
   "cell_type": "code",
   "execution_count": 6,
   "id": "e7e00450",
   "metadata": {},
   "outputs": [
    {
     "name": "stdout",
     "output_type": "stream",
     "text": [
      "  (0, 16)\t1.0\n",
      "  (0, 27)\t1.0\n",
      "  (0, 28)\t1.0\n",
      "  (0, 43)\t1.0\n",
      "  (0, 44)\t1.0\n",
      "  (0, 63)\t1.0\n",
      "  (0, 76)\t2.0\n",
      "  (0, 87)\t1.0\n",
      "  (0, 117)\t1.0\n",
      "  (0, 144)\t20.0\n",
      "  (0, 150)\t1.0\n",
      "  (0, 162)\t1.0\n",
      "  (0, 167)\t3.0\n",
      "  (0, 177)\t1.0\n",
      "  (0, 181)\t3.0\n",
      "  (0, 188)\t1.0\n",
      "  (0, 191)\t1.0\n",
      "  (0, 204)\t1.0\n",
      "  (0, 225)\t1.0\n",
      "  (0, 232)\t1.0\n",
      "  (0, 248)\t1.0\n",
      "  (0, 281)\t1.0\n",
      "  (0, 282)\t1.0\n",
      "  (0, 306)\t1.0\n",
      "  (0, 309)\t1.0\n",
      "  :\t:\n",
      "  (76284, 32647)\t1.0\n",
      "  (76284, 32674)\t2.0\n",
      "  (76284, 32700)\t1.0\n",
      "  (76284, 32704)\t3.0\n",
      "  (76284, 32708)\t1.0\n",
      "  (76284, 32714)\t2.0\n",
      "  (76284, 32745)\t1.0\n",
      "  (76284, 32750)\t1.0\n",
      "  (76284, 32772)\t1.0\n",
      "  (76284, 32780)\t1.0\n",
      "  (76284, 32793)\t8.0\n",
      "  (76284, 32799)\t2.0\n",
      "  (76284, 32804)\t2.0\n",
      "  (76284, 32805)\t2.0\n",
      "  (76284, 32823)\t1.0\n",
      "  (76284, 32826)\t44.0\n",
      "  (76284, 32834)\t1.0\n",
      "  (76284, 32838)\t1.0\n",
      "  (76284, 32844)\t1.0\n",
      "  (76284, 32853)\t1.0\n",
      "  (76284, 32866)\t2.0\n",
      "  (76284, 32877)\t3.0\n",
      "  (76284, 32882)\t1.0\n",
      "  (76284, 32891)\t1.0\n",
      "  (76284, 32896)\t1.0\n"
     ]
    }
   ],
   "source": [
    "print(adata.raw.X)"
   ]
  },
  {
   "cell_type": "code",
   "execution_count": 8,
   "id": "e8d59ea5",
   "metadata": {},
   "outputs": [
    {
     "name": "stdout",
     "output_type": "stream",
     "text": [
      "  (0, 16)\t1.0\n",
      "  (0, 27)\t1.0\n",
      "  (0, 28)\t1.0\n",
      "  (0, 43)\t1.0\n",
      "  (0, 44)\t1.0\n",
      "  (0, 63)\t1.0\n",
      "  (0, 76)\t2.0\n",
      "  (0, 87)\t1.0\n",
      "  (0, 117)\t1.0\n",
      "  (0, 144)\t20.0\n",
      "  (0, 150)\t1.0\n",
      "  (0, 162)\t1.0\n",
      "  (0, 167)\t3.0\n",
      "  (0, 177)\t1.0\n",
      "  (0, 181)\t3.0\n",
      "  (0, 188)\t1.0\n",
      "  (0, 191)\t1.0\n",
      "  (0, 204)\t1.0\n",
      "  (0, 225)\t1.0\n",
      "  (0, 232)\t1.0\n",
      "  (0, 248)\t1.0\n",
      "  (0, 281)\t1.0\n",
      "  (0, 282)\t1.0\n",
      "  (0, 306)\t1.0\n",
      "  (0, 309)\t1.0\n",
      "  :\t:\n",
      "  (76284, 32647)\t1.0\n",
      "  (76284, 32674)\t2.0\n",
      "  (76284, 32700)\t1.0\n",
      "  (76284, 32704)\t3.0\n",
      "  (76284, 32708)\t1.0\n",
      "  (76284, 32714)\t2.0\n",
      "  (76284, 32745)\t1.0\n",
      "  (76284, 32750)\t1.0\n",
      "  (76284, 32772)\t1.0\n",
      "  (76284, 32780)\t1.0\n",
      "  (76284, 32793)\t8.0\n",
      "  (76284, 32799)\t2.0\n",
      "  (76284, 32804)\t2.0\n",
      "  (76284, 32805)\t2.0\n",
      "  (76284, 32823)\t1.0\n",
      "  (76284, 32826)\t44.0\n",
      "  (76284, 32834)\t1.0\n",
      "  (76284, 32838)\t1.0\n",
      "  (76284, 32844)\t1.0\n",
      "  (76284, 32853)\t1.0\n",
      "  (76284, 32866)\t2.0\n",
      "  (76284, 32877)\t3.0\n",
      "  (76284, 32882)\t1.0\n",
      "  (76284, 32891)\t1.0\n",
      "  (76284, 32896)\t1.0\n"
     ]
    }
   ],
   "source": [
    "print(svmrej_60.raw.X)"
   ]
  },
  {
   "cell_type": "code",
   "execution_count": 9,
   "id": "aa25f2f3",
   "metadata": {},
   "outputs": [
    {
     "data": {
      "text/plain": [
       "array([[-0.04221796, -0.00980658, -0.08191002, ..., -0.00775177,\n",
       "        -0.2841795 , -0.06937981],\n",
       "       [-0.04221796, -0.00980658, -0.08191002, ..., -0.00775177,\n",
       "        -0.2841795 , -0.06937981],\n",
       "       [-0.04221796, -0.00980658, -0.08191002, ..., -0.00775177,\n",
       "        -0.2841795 , -0.06937981],\n",
       "       ...,\n",
       "       [-0.04221796, -0.00980658, -0.08191002, ..., -0.00775177,\n",
       "        -0.2841795 , -0.06937981],\n",
       "       [-0.04221796, -0.00980658, -0.08191002, ..., -0.00775177,\n",
       "        -0.2841795 , -0.06937981],\n",
       "       [-0.04221796, -0.00980658, -0.08191002, ..., -0.00775177,\n",
       "        -0.2841795 , -0.06937981]], dtype=float32)"
      ]
     },
     "execution_count": 9,
     "metadata": {},
     "output_type": "execute_result"
    }
   ],
   "source": [
    "adata.X"
   ]
  },
  {
   "cell_type": "code",
   "execution_count": 10,
   "id": "b95e6deb",
   "metadata": {},
   "outputs": [
    {
     "data": {
      "text/plain": [
       "array([[-0.04221796, -0.00980658, -0.08191002, ..., -0.00775177,\n",
       "        -0.2841795 , -0.06937981],\n",
       "       [-0.04221796, -0.00980658, -0.08191002, ..., -0.00775177,\n",
       "        -0.2841795 , -0.06937981],\n",
       "       [-0.04221796, -0.00980658, -0.08191002, ..., -0.00775177,\n",
       "        -0.2841795 , -0.06937981],\n",
       "       ...,\n",
       "       [-0.04221796, -0.00980658, -0.08191002, ..., -0.00775177,\n",
       "        -0.2841795 , -0.06937981],\n",
       "       [-0.04221796, -0.00980658, -0.08191002, ..., -0.00775177,\n",
       "        -0.2841795 , -0.06937981],\n",
       "       [-0.04221796, -0.00980658, -0.08191002, ..., -0.00775177,\n",
       "        -0.2841795 , -0.06937981]], dtype=float32)"
      ]
     },
     "execution_count": 10,
     "metadata": {},
     "output_type": "execute_result"
    }
   ],
   "source": [
    "svmrej_60.X"
   ]
  },
  {
   "cell_type": "code",
   "execution_count": 11,
   "id": "a4c9b291",
   "metadata": {},
   "outputs": [],
   "source": [
    "adata.X = adata.raw.X"
   ]
  },
  {
   "cell_type": "code",
   "execution_count": 12,
   "id": "6151d185",
   "metadata": {},
   "outputs": [
    {
     "data": {
      "text/plain": [
       "<76285x32921 sparse matrix of type '<class 'numpy.float32'>'\n",
       "\twith 284692338 stored elements in Compressed Sparse Row format>"
      ]
     },
     "execution_count": 12,
     "metadata": {},
     "output_type": "execute_result"
    }
   ],
   "source": [
    "adata.X"
   ]
  },
  {
   "cell_type": "code",
   "execution_count": 13,
   "id": "818bffd3",
   "metadata": {},
   "outputs": [],
   "source": [
    "svmrej_60.X = svmrej_60.raw.X"
   ]
  },
  {
   "cell_type": "code",
   "execution_count": 14,
   "id": "2a79ae3d",
   "metadata": {},
   "outputs": [
    {
     "data": {
      "text/plain": [
       "<76285x32921 sparse matrix of type '<class 'numpy.float32'>'\n",
       "\twith 284692338 stored elements in Compressed Sparse Row format>"
      ]
     },
     "execution_count": 14,
     "metadata": {},
     "output_type": "execute_result"
    }
   ],
   "source": [
    "svmrej_60.X"
   ]
  },
  {
   "cell_type": "code",
   "execution_count": 23,
   "id": "cec53ed5",
   "metadata": {},
   "outputs": [],
   "source": [
    "# del adata.raw\n",
    "# adata.raw"
   ]
  },
  {
   "cell_type": "code",
   "execution_count": 16,
   "id": "2fbc8f9c",
   "metadata": {},
   "outputs": [
    {
     "data": {
      "text/plain": [
       "<anndata._core.raw.Raw at 0x1491bf937190>"
      ]
     },
     "execution_count": 16,
     "metadata": {},
     "output_type": "execute_result"
    }
   ],
   "source": [
    "svmrej_60.raw"
   ]
  },
  {
   "cell_type": "code",
   "execution_count": 17,
   "id": "5c442625",
   "metadata": {},
   "outputs": [
    {
     "data": {
      "text/plain": [
       "{'base': None}"
      ]
     },
     "execution_count": 17,
     "metadata": {},
     "output_type": "execute_result"
    }
   ],
   "source": [
    "adata.uns['log1p']"
   ]
  },
  {
   "cell_type": "code",
   "execution_count": 18,
   "id": "d8a3c505",
   "metadata": {},
   "outputs": [
    {
     "data": {
      "text/plain": [
       "{'base': None}"
      ]
     },
     "execution_count": 18,
     "metadata": {},
     "output_type": "execute_result"
    }
   ],
   "source": [
    "svmrej_60.uns['log1p']"
   ]
  },
  {
   "cell_type": "code",
   "execution_count": 19,
   "id": "dcc9e6ad",
   "metadata": {},
   "outputs": [],
   "source": [
    "adata.uns['log1p'][\"base\"] = None\n",
    "# https://github.com/scverse/scanpy/issues/2239"
   ]
  },
  {
   "cell_type": "code",
   "execution_count": 20,
   "id": "bb03ffdb",
   "metadata": {},
   "outputs": [],
   "source": [
    "svmrej_60.uns['log1p'][\"base\"] = None"
   ]
  },
  {
   "cell_type": "code",
   "execution_count": 27,
   "id": "adf8e11f",
   "metadata": {},
   "outputs": [
    {
     "name": "stdout",
     "output_type": "stream",
     "text": [
      "WARNING: adata.X seems to be already log-transformed.\n"
     ]
    }
   ],
   "source": [
    "sc.pp.log1p(adata) #you have to do this"
   ]
  },
  {
   "cell_type": "code",
   "execution_count": 28,
   "id": "fdd80fb5",
   "metadata": {},
   "outputs": [
    {
     "name": "stdout",
     "output_type": "stream",
     "text": [
      "extracting highly variable genes\n",
      "    finished (0:00:06)\n",
      "--> added\n",
      "    'highly_variable', boolean vector (adata.var)\n",
      "    'means', float vector (adata.var)\n",
      "    'dispersions', float vector (adata.var)\n",
      "    'dispersions_norm', float vector (adata.var)\n",
      "regressing out ['total_counts', 'pct_counts_mt']\n",
      "    sparse input is densified and may lead to high memory use\n",
      "    finished (0:05:45)\n",
      "computing PCA\n",
      "    on highly variable genes\n",
      "    with n_comps=50\n",
      "    finished (0:00:12)\n",
      "computing neighbors\n",
      "    using 'X_pca' with n_pcs = 40\n"
     ]
    },
    {
     "name": "stderr",
     "output_type": "stream",
     "text": [
      "/vol/mbconda/imarais/miniconda3/envs/my_env/lib/python3.9/site-packages/tqdm/auto.py:22: TqdmWarning: IProgress not found. Please update jupyter and ipywidgets. See https://ipywidgets.readthedocs.io/en/stable/user_install.html\n",
      "  from .autonotebook import tqdm as notebook_tqdm\n"
     ]
    },
    {
     "name": "stdout",
     "output_type": "stream",
     "text": [
      "    finished: added to `.uns['neighbors']`\n",
      "    `.obsp['distances']`, distances for each pair of neighbors\n",
      "    `.obsp['connectivities']`, weighted adjacency matrix (0:00:21)\n",
      "computing UMAP\n",
      "    finished: added\n",
      "    'X_umap', UMAP coordinates (adata.obsm) (0:00:41)\n"
     ]
    }
   ],
   "source": [
    "#Now, lets run PCA and UMAP and plot doublet scores onto umap to check the doublet predictions.\n",
    "#original: min_mean=0.0125, max_mean=3, min_disp=0.5\n",
    "#sc.pp.normalize_per_cell(adata, counts_per_cell_after=1e4,copy=True)\n",
    "\n",
    "#adata.raw = adata\n",
    "\n",
    "sc.pp.highly_variable_genes(adata,flavor='seurat') #, min_mean=0.0125, max_mean=3, min_disp=0.5)\n",
    "adata = adata[:, adata.var.highly_variable]\n",
    "sc.pp.regress_out(adata, ['total_counts', 'pct_counts_mt'])\n",
    "sc.pp.scale(adata, max_value=10)\n",
    "sc.tl.pca(adata, svd_solver='arpack')\n",
    "sc.pp.neighbors(adata, n_neighbors=10, n_pcs=40)\n",
    "sc.tl.umap(adata)"
   ]
  },
  {
   "cell_type": "code",
   "execution_count": 25,
   "id": "eca4a1bb",
   "metadata": {},
   "outputs": [],
   "source": [
    "# del svmrej_60.raw\n",
    "# svmrej_60.raw"
   ]
  },
  {
   "cell_type": "code",
   "execution_count": 29,
   "id": "8d4c1db0",
   "metadata": {},
   "outputs": [
    {
     "name": "stdout",
     "output_type": "stream",
     "text": [
      "WARNING: adata.X seems to be already log-transformed.\n"
     ]
    }
   ],
   "source": [
    "sc.pp.log1p(svmrej_60) #you have to do this"
   ]
  },
  {
   "cell_type": "code",
   "execution_count": 30,
   "id": "ec385a9c",
   "metadata": {},
   "outputs": [
    {
     "name": "stdout",
     "output_type": "stream",
     "text": [
      "extracting highly variable genes\n",
      "    finished (0:00:05)\n",
      "--> added\n",
      "    'highly_variable', boolean vector (adata.var)\n",
      "    'means', float vector (adata.var)\n",
      "    'dispersions', float vector (adata.var)\n",
      "    'dispersions_norm', float vector (adata.var)\n",
      "regressing out ['total_counts', 'pct_counts_mt']\n",
      "    sparse input is densified and may lead to high memory use\n",
      "    finished (0:03:59)\n",
      "computing PCA\n",
      "    on highly variable genes\n",
      "    with n_comps=50\n",
      "    finished (0:00:11)\n",
      "computing neighbors\n",
      "    using 'X_pca' with n_pcs = 40\n",
      "    finished: added to `.uns['neighbors']`\n",
      "    `.obsp['distances']`, distances for each pair of neighbors\n",
      "    `.obsp['connectivities']`, weighted adjacency matrix (0:00:06)\n",
      "computing UMAP\n",
      "    finished: added\n",
      "    'X_umap', UMAP coordinates (adata.obsm) (0:00:41)\n"
     ]
    }
   ],
   "source": [
    "sc.pp.highly_variable_genes(svmrej_60,flavor='seurat') #, min_mean=0.0125, max_mean=3, min_disp=0.5)\n",
    "svmrej_60 = svmrej_60[:, svmrej_60.var.highly_variable]\n",
    "sc.pp.regress_out(svmrej_60, ['total_counts', 'pct_counts_mt'])\n",
    "sc.pp.scale(svmrej_60, max_value=10)\n",
    "sc.tl.pca(svmrej_60, svd_solver='arpack')\n",
    "sc.pp.neighbors(svmrej_60, n_neighbors=10, n_pcs=40)\n",
    "sc.tl.umap(svmrej_60)"
   ]
  },
  {
   "cell_type": "code",
   "execution_count": 24,
   "id": "f5ecb0a2",
   "metadata": {},
   "outputs": [],
   "source": [
    "adata.uns"
   ]
  },
  {
   "cell_type": "code",
   "execution_count": 25,
   "id": "caace5b2",
   "metadata": {},
   "outputs": [],
   "source": [
    "svmrej_60.uns"
   ]
  },
  {
   "cell_type": "code",
   "execution_count": null,
   "id": "01e81874",
   "metadata": {},
   "outputs": [],
   "source": []
  },
  {
   "cell_type": "code",
   "execution_count": null,
   "id": "2b69b504",
   "metadata": {},
   "outputs": [],
   "source": []
  },
  {
   "cell_type": "code",
   "execution_count": 23,
   "id": "424c93de",
   "metadata": {},
   "outputs": [],
   "source": [
    "sc.pl.umap(adata, color=['doublet_scores','doublet_info','sample'])"
   ]
  },
  {
   "cell_type": "code",
   "execution_count": 99,
   "id": "5fbe88ea",
   "metadata": {},
   "outputs": [
    {
     "data": {
      "text/plain": [
       "<76285x32921 sparse matrix of type '<class 'numpy.float32'>'\n",
       "\twith 284692338 stored elements in Compressed Sparse Row format>"
      ]
     },
     "execution_count": 99,
     "metadata": {},
     "output_type": "execute_result"
    }
   ],
   "source": [
    "adata.raw.X"
   ]
  },
  {
   "cell_type": "code",
   "execution_count": 100,
   "id": "1562a431",
   "metadata": {},
   "outputs": [
    {
     "data": {
      "text/plain": [
       "AnnData object with n_obs × n_vars = 76285 × 32921\n",
       "    obs: 'type', 'sample', 'time_point', 'batch', 'n_genes_by_counts', 'total_counts', 'total_counts_mt', 'pct_counts_mt', 'total_counts_ribo', 'pct_counts_ribo', 'percent_mt2', 'n_counts', 'n_genes', 'percent_chrY', 'XIST-counts', 'S_score', 'G2M_score', 'phase', 'doublet_scores', 'predicted_doublets', 'doublet_info'\n",
       "    var: 'gene_ids', 'feature_types', 'genome', 'mt', 'ribo', 'n_cells_by_counts', 'mean_counts', 'pct_dropout_by_counts', 'total_counts', 'n_cells'\n",
       "    uns: 'doublet_info_colors', 'log1p', 'sample_colors', 'hvg', 'pca', 'neighbors', 'umap'\n",
       "    obsm: 'X_pca', 'X_umap'\n",
       "    obsp: 'distances', 'connectivities'"
      ]
     },
     "execution_count": 100,
     "metadata": {},
     "output_type": "execute_result"
    }
   ],
   "source": [
    "adata = adata.raw.to_adata()\n",
    "adata"
   ]
  },
  {
   "cell_type": "code",
   "execution_count": 101,
   "id": "3efc74c8",
   "metadata": {},
   "outputs": [
    {
     "name": "stdout",
     "output_type": "stream",
     "text": [
      "(74233, 32921)\n"
     ]
    }
   ],
   "source": [
    "#lets remove all predicted doublets from our data. \n",
    "\n",
    "adata = adata[adata.obs['doublet_info'] == 'False',:]\n",
    "print(adata.shape)"
   ]
  },
  {
   "cell_type": "markdown",
   "id": "acec58e6",
   "metadata": {},
   "source": [
    "# Save data"
   ]
  },
  {
   "cell_type": "code",
   "execution_count": 102,
   "id": "7d0b39ba",
   "metadata": {},
   "outputs": [],
   "source": [
    "#OS didnt work in yaml file\n",
    "import os\n",
    "os.makedirs('data/results/', exist_ok=True)\n",
    "\n",
    "save_file = 'data/results/scanpy_qc_filtered_dev_cornea_1_to_17.h5ad'\n",
    "adata.write_h5ad(save_file)"
   ]
  },
  {
   "cell_type": "code",
   "execution_count": 35,
   "id": "de6e7736",
   "metadata": {},
   "outputs": [],
   "source": [
    "category_colors = {\"LSC\": \"#66CD00\",\n",
    "                    \"LESC\": \"#76EE00\",\n",
    "                    \"LE\": \"#66CDAA\",\n",
    "                    \"Cj\": \"#191970\",\n",
    "                    \"CE\": \"#1874CD\",\n",
    "                    \"qSK\": \"#FFB90F\",\n",
    "                    \"SK\": \"#EEAD0E\",\n",
    "                    \"TSK\": \"#FF7F00\",\n",
    "                    \"CF\": \"#CD6600\",\n",
    "                    \"EC\": \"#87CEFA\",\n",
    "                    \"Ves\": \"#8B2323\",\n",
    "                    \"Mel\": \"#FFFF00\",\n",
    "                    \"IC\": \"#00CED1\",\n",
    "                    \"nm-cSC\": \"#FF0000\",\n",
    "                    \"MC\": \"#CD3700\",\n",
    "                    \"Unlabeled\": \"#808080\"}"
   ]
  },
  {
   "cell_type": "code",
   "execution_count": 33,
   "id": "c91dee73",
   "metadata": {},
   "outputs": [
    {
     "data": {
      "text/html": [
       "<div>\n",
       "<style scoped>\n",
       "    .dataframe tbody tr th:only-of-type {\n",
       "        vertical-align: middle;\n",
       "    }\n",
       "\n",
       "    .dataframe tbody tr th {\n",
       "        vertical-align: top;\n",
       "    }\n",
       "\n",
       "    .dataframe thead th {\n",
       "        text-align: right;\n",
       "    }\n",
       "</style>\n",
       "<table border=\"1\" class=\"dataframe\">\n",
       "  <thead>\n",
       "    <tr style=\"text-align: right;\">\n",
       "      <th></th>\n",
       "      <th>type</th>\n",
       "      <th>sample</th>\n",
       "      <th>time_point</th>\n",
       "      <th>batch</th>\n",
       "      <th>n_genes_by_counts</th>\n",
       "      <th>total_counts</th>\n",
       "      <th>total_counts_mt</th>\n",
       "      <th>pct_counts_mt</th>\n",
       "      <th>total_counts_ribo</th>\n",
       "      <th>pct_counts_ribo</th>\n",
       "      <th>...</th>\n",
       "      <th>XIST-counts</th>\n",
       "      <th>S_score</th>\n",
       "      <th>G2M_score</th>\n",
       "      <th>phase</th>\n",
       "      <th>doublet_scores</th>\n",
       "      <th>predicted_doublets</th>\n",
       "      <th>doublet_info</th>\n",
       "      <th>SVM_predicted</th>\n",
       "      <th>SVMrej_predicted</th>\n",
       "      <th>SVMrej_predicted_prob</th>\n",
       "    </tr>\n",
       "  </thead>\n",
       "  <tbody>\n",
       "    <tr>\n",
       "      <th>AAACGAACATTGAAGA-1-0</th>\n",
       "      <td>dev_cornea</td>\n",
       "      <td>dc1</td>\n",
       "      <td>10PCW</td>\n",
       "      <td>0</td>\n",
       "      <td>2730</td>\n",
       "      <td>8938.0</td>\n",
       "      <td>349.0</td>\n",
       "      <td>3.904677</td>\n",
       "      <td>2712.0</td>\n",
       "      <td>30.342358</td>\n",
       "      <td>...</td>\n",
       "      <td>3.0</td>\n",
       "      <td>-0.621783</td>\n",
       "      <td>-0.741423</td>\n",
       "      <td>G1</td>\n",
       "      <td>0.108108</td>\n",
       "      <td>False</td>\n",
       "      <td>False</td>\n",
       "      <td>CF</td>\n",
       "      <td>CF</td>\n",
       "      <td>0.722105</td>\n",
       "    </tr>\n",
       "    <tr>\n",
       "      <th>AAAGTCCAGAAAGTCT-1-0</th>\n",
       "      <td>dev_cornea</td>\n",
       "      <td>dc1</td>\n",
       "      <td>10PCW</td>\n",
       "      <td>0</td>\n",
       "      <td>3398</td>\n",
       "      <td>11587.0</td>\n",
       "      <td>387.0</td>\n",
       "      <td>3.339950</td>\n",
       "      <td>3320.0</td>\n",
       "      <td>28.652800</td>\n",
       "      <td>...</td>\n",
       "      <td>1.0</td>\n",
       "      <td>-0.787741</td>\n",
       "      <td>-1.115565</td>\n",
       "      <td>G1</td>\n",
       "      <td>0.076923</td>\n",
       "      <td>False</td>\n",
       "      <td>False</td>\n",
       "      <td>CF</td>\n",
       "      <td>Unlabeled</td>\n",
       "      <td>0.580853</td>\n",
       "    </tr>\n",
       "    <tr>\n",
       "      <th>AAAGTGAAGCGCACAA-1-0</th>\n",
       "      <td>dev_cornea</td>\n",
       "      <td>dc1</td>\n",
       "      <td>10PCW</td>\n",
       "      <td>0</td>\n",
       "      <td>2341</td>\n",
       "      <td>7676.0</td>\n",
       "      <td>407.0</td>\n",
       "      <td>5.302241</td>\n",
       "      <td>2203.0</td>\n",
       "      <td>28.699844</td>\n",
       "      <td>...</td>\n",
       "      <td>2.0</td>\n",
       "      <td>-0.622999</td>\n",
       "      <td>-0.643734</td>\n",
       "      <td>G1</td>\n",
       "      <td>0.085937</td>\n",
       "      <td>False</td>\n",
       "      <td>False</td>\n",
       "      <td>CF</td>\n",
       "      <td>CF</td>\n",
       "      <td>0.663028</td>\n",
       "    </tr>\n",
       "    <tr>\n",
       "      <th>AAAGTGACAGTTGCGC-1-0</th>\n",
       "      <td>dev_cornea</td>\n",
       "      <td>dc1</td>\n",
       "      <td>10PCW</td>\n",
       "      <td>0</td>\n",
       "      <td>1542</td>\n",
       "      <td>3338.0</td>\n",
       "      <td>193.0</td>\n",
       "      <td>5.781905</td>\n",
       "      <td>733.0</td>\n",
       "      <td>21.959257</td>\n",
       "      <td>...</td>\n",
       "      <td>2.0</td>\n",
       "      <td>-0.236170</td>\n",
       "      <td>-0.247923</td>\n",
       "      <td>G1</td>\n",
       "      <td>0.055556</td>\n",
       "      <td>False</td>\n",
       "      <td>False</td>\n",
       "      <td>CF</td>\n",
       "      <td>Unlabeled</td>\n",
       "      <td>0.523867</td>\n",
       "    </tr>\n",
       "    <tr>\n",
       "      <th>AACAAGAAGCGAATGC-1-0</th>\n",
       "      <td>dev_cornea</td>\n",
       "      <td>dc1</td>\n",
       "      <td>10PCW</td>\n",
       "      <td>0</td>\n",
       "      <td>1998</td>\n",
       "      <td>5283.0</td>\n",
       "      <td>88.0</td>\n",
       "      <td>1.665720</td>\n",
       "      <td>1654.0</td>\n",
       "      <td>31.307968</td>\n",
       "      <td>...</td>\n",
       "      <td>2.0</td>\n",
       "      <td>-0.578014</td>\n",
       "      <td>-0.423619</td>\n",
       "      <td>G1</td>\n",
       "      <td>0.085937</td>\n",
       "      <td>False</td>\n",
       "      <td>False</td>\n",
       "      <td>CF</td>\n",
       "      <td>CF</td>\n",
       "      <td>0.741688</td>\n",
       "    </tr>\n",
       "    <tr>\n",
       "      <th>...</th>\n",
       "      <td>...</td>\n",
       "      <td>...</td>\n",
       "      <td>...</td>\n",
       "      <td>...</td>\n",
       "      <td>...</td>\n",
       "      <td>...</td>\n",
       "      <td>...</td>\n",
       "      <td>...</td>\n",
       "      <td>...</td>\n",
       "      <td>...</td>\n",
       "      <td>...</td>\n",
       "      <td>...</td>\n",
       "      <td>...</td>\n",
       "      <td>...</td>\n",
       "      <td>...</td>\n",
       "      <td>...</td>\n",
       "      <td>...</td>\n",
       "      <td>...</td>\n",
       "      <td>...</td>\n",
       "      <td>...</td>\n",
       "      <td>...</td>\n",
       "    </tr>\n",
       "    <tr>\n",
       "      <th>TTTGTTGCACACTTAG-1-16</th>\n",
       "      <td>dev_cornea</td>\n",
       "      <td>dc17</td>\n",
       "      <td>21PCW</td>\n",
       "      <td>16</td>\n",
       "      <td>2719</td>\n",
       "      <td>6286.0</td>\n",
       "      <td>639.0</td>\n",
       "      <td>10.165447</td>\n",
       "      <td>600.0</td>\n",
       "      <td>9.545021</td>\n",
       "      <td>...</td>\n",
       "      <td>0.0</td>\n",
       "      <td>-0.851976</td>\n",
       "      <td>-0.414139</td>\n",
       "      <td>G1</td>\n",
       "      <td>0.033866</td>\n",
       "      <td>False</td>\n",
       "      <td>False</td>\n",
       "      <td>CF</td>\n",
       "      <td>CF</td>\n",
       "      <td>0.711971</td>\n",
       "    </tr>\n",
       "    <tr>\n",
       "      <th>TTTGTTGGTAAGGTCG-1-16</th>\n",
       "      <td>dev_cornea</td>\n",
       "      <td>dc17</td>\n",
       "      <td>21PCW</td>\n",
       "      <td>16</td>\n",
       "      <td>5082</td>\n",
       "      <td>17376.0</td>\n",
       "      <td>1974.0</td>\n",
       "      <td>11.360497</td>\n",
       "      <td>3156.0</td>\n",
       "      <td>18.162983</td>\n",
       "      <td>...</td>\n",
       "      <td>0.0</td>\n",
       "      <td>-0.649645</td>\n",
       "      <td>-1.046407</td>\n",
       "      <td>G1</td>\n",
       "      <td>0.018707</td>\n",
       "      <td>False</td>\n",
       "      <td>False</td>\n",
       "      <td>LESC</td>\n",
       "      <td>Unlabeled</td>\n",
       "      <td>0.387053</td>\n",
       "    </tr>\n",
       "    <tr>\n",
       "      <th>TTTGTTGGTATCGCAT-1-16</th>\n",
       "      <td>dev_cornea</td>\n",
       "      <td>dc17</td>\n",
       "      <td>21PCW</td>\n",
       "      <td>16</td>\n",
       "      <td>4268</td>\n",
       "      <td>11912.0</td>\n",
       "      <td>726.0</td>\n",
       "      <td>6.094695</td>\n",
       "      <td>2085.0</td>\n",
       "      <td>17.503359</td>\n",
       "      <td>...</td>\n",
       "      <td>0.0</td>\n",
       "      <td>-0.304559</td>\n",
       "      <td>-0.789906</td>\n",
       "      <td>G1</td>\n",
       "      <td>0.083252</td>\n",
       "      <td>False</td>\n",
       "      <td>False</td>\n",
       "      <td>Ves</td>\n",
       "      <td>Ves</td>\n",
       "      <td>0.938929</td>\n",
       "    </tr>\n",
       "    <tr>\n",
       "      <th>TTTGTTGTCCGTGGCA-1-16</th>\n",
       "      <td>dev_cornea</td>\n",
       "      <td>dc17</td>\n",
       "      <td>21PCW</td>\n",
       "      <td>16</td>\n",
       "      <td>3070</td>\n",
       "      <td>7777.0</td>\n",
       "      <td>806.0</td>\n",
       "      <td>10.363894</td>\n",
       "      <td>1206.0</td>\n",
       "      <td>15.507264</td>\n",
       "      <td>...</td>\n",
       "      <td>0.0</td>\n",
       "      <td>-0.399595</td>\n",
       "      <td>-0.631997</td>\n",
       "      <td>G1</td>\n",
       "      <td>0.018008</td>\n",
       "      <td>False</td>\n",
       "      <td>False</td>\n",
       "      <td>LESC</td>\n",
       "      <td>Unlabeled</td>\n",
       "      <td>0.427048</td>\n",
       "    </tr>\n",
       "    <tr>\n",
       "      <th>TTTGTTGTCGTTTACT-1-16</th>\n",
       "      <td>dev_cornea</td>\n",
       "      <td>dc17</td>\n",
       "      <td>21PCW</td>\n",
       "      <td>16</td>\n",
       "      <td>3498</td>\n",
       "      <td>10044.0</td>\n",
       "      <td>426.0</td>\n",
       "      <td>4.241338</td>\n",
       "      <td>1208.0</td>\n",
       "      <td>12.027081</td>\n",
       "      <td>...</td>\n",
       "      <td>0.0</td>\n",
       "      <td>-0.901925</td>\n",
       "      <td>-0.740971</td>\n",
       "      <td>G1</td>\n",
       "      <td>0.062972</td>\n",
       "      <td>False</td>\n",
       "      <td>False</td>\n",
       "      <td>CF</td>\n",
       "      <td>CF</td>\n",
       "      <td>0.915123</td>\n",
       "    </tr>\n",
       "  </tbody>\n",
       "</table>\n",
       "<p>76285 rows × 24 columns</p>\n",
       "</div>"
      ],
      "text/plain": [
       "                             type sample time_point batch  n_genes_by_counts  \\\n",
       "AAACGAACATTGAAGA-1-0   dev_cornea    dc1      10PCW     0               2730   \n",
       "AAAGTCCAGAAAGTCT-1-0   dev_cornea    dc1      10PCW     0               3398   \n",
       "AAAGTGAAGCGCACAA-1-0   dev_cornea    dc1      10PCW     0               2341   \n",
       "AAAGTGACAGTTGCGC-1-0   dev_cornea    dc1      10PCW     0               1542   \n",
       "AACAAGAAGCGAATGC-1-0   dev_cornea    dc1      10PCW     0               1998   \n",
       "...                           ...    ...        ...   ...                ...   \n",
       "TTTGTTGCACACTTAG-1-16  dev_cornea   dc17      21PCW    16               2719   \n",
       "TTTGTTGGTAAGGTCG-1-16  dev_cornea   dc17      21PCW    16               5082   \n",
       "TTTGTTGGTATCGCAT-1-16  dev_cornea   dc17      21PCW    16               4268   \n",
       "TTTGTTGTCCGTGGCA-1-16  dev_cornea   dc17      21PCW    16               3070   \n",
       "TTTGTTGTCGTTTACT-1-16  dev_cornea   dc17      21PCW    16               3498   \n",
       "\n",
       "                       total_counts  total_counts_mt  pct_counts_mt  \\\n",
       "AAACGAACATTGAAGA-1-0         8938.0            349.0       3.904677   \n",
       "AAAGTCCAGAAAGTCT-1-0        11587.0            387.0       3.339950   \n",
       "AAAGTGAAGCGCACAA-1-0         7676.0            407.0       5.302241   \n",
       "AAAGTGACAGTTGCGC-1-0         3338.0            193.0       5.781905   \n",
       "AACAAGAAGCGAATGC-1-0         5283.0             88.0       1.665720   \n",
       "...                             ...              ...            ...   \n",
       "TTTGTTGCACACTTAG-1-16        6286.0            639.0      10.165447   \n",
       "TTTGTTGGTAAGGTCG-1-16       17376.0           1974.0      11.360497   \n",
       "TTTGTTGGTATCGCAT-1-16       11912.0            726.0       6.094695   \n",
       "TTTGTTGTCCGTGGCA-1-16        7777.0            806.0      10.363894   \n",
       "TTTGTTGTCGTTTACT-1-16       10044.0            426.0       4.241338   \n",
       "\n",
       "                       total_counts_ribo  pct_counts_ribo  ...  XIST-counts  \\\n",
       "AAACGAACATTGAAGA-1-0              2712.0        30.342358  ...          3.0   \n",
       "AAAGTCCAGAAAGTCT-1-0              3320.0        28.652800  ...          1.0   \n",
       "AAAGTGAAGCGCACAA-1-0              2203.0        28.699844  ...          2.0   \n",
       "AAAGTGACAGTTGCGC-1-0               733.0        21.959257  ...          2.0   \n",
       "AACAAGAAGCGAATGC-1-0              1654.0        31.307968  ...          2.0   \n",
       "...                                  ...              ...  ...          ...   \n",
       "TTTGTTGCACACTTAG-1-16              600.0         9.545021  ...          0.0   \n",
       "TTTGTTGGTAAGGTCG-1-16             3156.0        18.162983  ...          0.0   \n",
       "TTTGTTGGTATCGCAT-1-16             2085.0        17.503359  ...          0.0   \n",
       "TTTGTTGTCCGTGGCA-1-16             1206.0        15.507264  ...          0.0   \n",
       "TTTGTTGTCGTTTACT-1-16             1208.0        12.027081  ...          0.0   \n",
       "\n",
       "                        S_score  G2M_score  phase  doublet_scores  \\\n",
       "AAACGAACATTGAAGA-1-0  -0.621783  -0.741423     G1        0.108108   \n",
       "AAAGTCCAGAAAGTCT-1-0  -0.787741  -1.115565     G1        0.076923   \n",
       "AAAGTGAAGCGCACAA-1-0  -0.622999  -0.643734     G1        0.085937   \n",
       "AAAGTGACAGTTGCGC-1-0  -0.236170  -0.247923     G1        0.055556   \n",
       "AACAAGAAGCGAATGC-1-0  -0.578014  -0.423619     G1        0.085937   \n",
       "...                         ...        ...    ...             ...   \n",
       "TTTGTTGCACACTTAG-1-16 -0.851976  -0.414139     G1        0.033866   \n",
       "TTTGTTGGTAAGGTCG-1-16 -0.649645  -1.046407     G1        0.018707   \n",
       "TTTGTTGGTATCGCAT-1-16 -0.304559  -0.789906     G1        0.083252   \n",
       "TTTGTTGTCCGTGGCA-1-16 -0.399595  -0.631997     G1        0.018008   \n",
       "TTTGTTGTCGTTTACT-1-16 -0.901925  -0.740971     G1        0.062972   \n",
       "\n",
       "                       predicted_doublets  doublet_info SVM_predicted  \\\n",
       "AAACGAACATTGAAGA-1-0                False         False            CF   \n",
       "AAAGTCCAGAAAGTCT-1-0                False         False            CF   \n",
       "AAAGTGAAGCGCACAA-1-0                False         False            CF   \n",
       "AAAGTGACAGTTGCGC-1-0                False         False            CF   \n",
       "AACAAGAAGCGAATGC-1-0                False         False            CF   \n",
       "...                                   ...           ...           ...   \n",
       "TTTGTTGCACACTTAG-1-16               False         False            CF   \n",
       "TTTGTTGGTAAGGTCG-1-16               False         False          LESC   \n",
       "TTTGTTGGTATCGCAT-1-16               False         False           Ves   \n",
       "TTTGTTGTCCGTGGCA-1-16               False         False          LESC   \n",
       "TTTGTTGTCGTTTACT-1-16               False         False            CF   \n",
       "\n",
       "                       SVMrej_predicted  SVMrej_predicted_prob  \n",
       "AAACGAACATTGAAGA-1-0                 CF               0.722105  \n",
       "AAAGTCCAGAAAGTCT-1-0          Unlabeled               0.580853  \n",
       "AAAGTGAAGCGCACAA-1-0                 CF               0.663028  \n",
       "AAAGTGACAGTTGCGC-1-0          Unlabeled               0.523867  \n",
       "AACAAGAAGCGAATGC-1-0                 CF               0.741688  \n",
       "...                                 ...                    ...  \n",
       "TTTGTTGCACACTTAG-1-16                CF               0.711971  \n",
       "TTTGTTGGTAAGGTCG-1-16         Unlabeled               0.387053  \n",
       "TTTGTTGGTATCGCAT-1-16               Ves               0.938929  \n",
       "TTTGTTGTCCGTGGCA-1-16         Unlabeled               0.427048  \n",
       "TTTGTTGTCGTTTACT-1-16                CF               0.915123  \n",
       "\n",
       "[76285 rows x 24 columns]"
      ]
     },
     "execution_count": 33,
     "metadata": {},
     "output_type": "execute_result"
    }
   ],
   "source": [
    "adata.obs"
   ]
  },
  {
   "cell_type": "code",
   "execution_count": 34,
   "id": "087c9200",
   "metadata": {},
   "outputs": [
    {
     "data": {
      "text/html": [
       "<div>\n",
       "<style scoped>\n",
       "    .dataframe tbody tr th:only-of-type {\n",
       "        vertical-align: middle;\n",
       "    }\n",
       "\n",
       "    .dataframe tbody tr th {\n",
       "        vertical-align: top;\n",
       "    }\n",
       "\n",
       "    .dataframe thead th {\n",
       "        text-align: right;\n",
       "    }\n",
       "</style>\n",
       "<table border=\"1\" class=\"dataframe\">\n",
       "  <thead>\n",
       "    <tr style=\"text-align: right;\">\n",
       "      <th></th>\n",
       "      <th>type</th>\n",
       "      <th>sample</th>\n",
       "      <th>time_point</th>\n",
       "      <th>batch</th>\n",
       "      <th>n_genes_by_counts</th>\n",
       "      <th>total_counts</th>\n",
       "      <th>total_counts_mt</th>\n",
       "      <th>pct_counts_mt</th>\n",
       "      <th>total_counts_ribo</th>\n",
       "      <th>pct_counts_ribo</th>\n",
       "      <th>...</th>\n",
       "      <th>XIST-counts</th>\n",
       "      <th>S_score</th>\n",
       "      <th>G2M_score</th>\n",
       "      <th>phase</th>\n",
       "      <th>doublet_scores</th>\n",
       "      <th>predicted_doublets</th>\n",
       "      <th>doublet_info</th>\n",
       "      <th>SVM_predicted</th>\n",
       "      <th>SVMrej_predicted</th>\n",
       "      <th>SVMrej_predicted_prob</th>\n",
       "    </tr>\n",
       "  </thead>\n",
       "  <tbody>\n",
       "    <tr>\n",
       "      <th>AAACGAACATTGAAGA-1-0</th>\n",
       "      <td>dev_cornea</td>\n",
       "      <td>dc1</td>\n",
       "      <td>10PCW</td>\n",
       "      <td>0</td>\n",
       "      <td>2730</td>\n",
       "      <td>8938.0</td>\n",
       "      <td>349.0</td>\n",
       "      <td>3.904677</td>\n",
       "      <td>2712.0</td>\n",
       "      <td>30.342358</td>\n",
       "      <td>...</td>\n",
       "      <td>3.0</td>\n",
       "      <td>-0.621783</td>\n",
       "      <td>-0.741423</td>\n",
       "      <td>G1</td>\n",
       "      <td>0.108108</td>\n",
       "      <td>False</td>\n",
       "      <td>False</td>\n",
       "      <td>CF</td>\n",
       "      <td>CF</td>\n",
       "      <td>0.722105</td>\n",
       "    </tr>\n",
       "    <tr>\n",
       "      <th>AAAGTCCAGAAAGTCT-1-0</th>\n",
       "      <td>dev_cornea</td>\n",
       "      <td>dc1</td>\n",
       "      <td>10PCW</td>\n",
       "      <td>0</td>\n",
       "      <td>3398</td>\n",
       "      <td>11587.0</td>\n",
       "      <td>387.0</td>\n",
       "      <td>3.339950</td>\n",
       "      <td>3320.0</td>\n",
       "      <td>28.652800</td>\n",
       "      <td>...</td>\n",
       "      <td>1.0</td>\n",
       "      <td>-0.787741</td>\n",
       "      <td>-1.115565</td>\n",
       "      <td>G1</td>\n",
       "      <td>0.076923</td>\n",
       "      <td>False</td>\n",
       "      <td>False</td>\n",
       "      <td>CF</td>\n",
       "      <td>Unlabeled</td>\n",
       "      <td>0.580853</td>\n",
       "    </tr>\n",
       "    <tr>\n",
       "      <th>AAAGTGAAGCGCACAA-1-0</th>\n",
       "      <td>dev_cornea</td>\n",
       "      <td>dc1</td>\n",
       "      <td>10PCW</td>\n",
       "      <td>0</td>\n",
       "      <td>2341</td>\n",
       "      <td>7676.0</td>\n",
       "      <td>407.0</td>\n",
       "      <td>5.302241</td>\n",
       "      <td>2203.0</td>\n",
       "      <td>28.699844</td>\n",
       "      <td>...</td>\n",
       "      <td>2.0</td>\n",
       "      <td>-0.622999</td>\n",
       "      <td>-0.643734</td>\n",
       "      <td>G1</td>\n",
       "      <td>0.085937</td>\n",
       "      <td>False</td>\n",
       "      <td>False</td>\n",
       "      <td>CF</td>\n",
       "      <td>CF</td>\n",
       "      <td>0.663028</td>\n",
       "    </tr>\n",
       "    <tr>\n",
       "      <th>AAAGTGACAGTTGCGC-1-0</th>\n",
       "      <td>dev_cornea</td>\n",
       "      <td>dc1</td>\n",
       "      <td>10PCW</td>\n",
       "      <td>0</td>\n",
       "      <td>1542</td>\n",
       "      <td>3338.0</td>\n",
       "      <td>193.0</td>\n",
       "      <td>5.781905</td>\n",
       "      <td>733.0</td>\n",
       "      <td>21.959257</td>\n",
       "      <td>...</td>\n",
       "      <td>2.0</td>\n",
       "      <td>-0.236170</td>\n",
       "      <td>-0.247923</td>\n",
       "      <td>G1</td>\n",
       "      <td>0.055556</td>\n",
       "      <td>False</td>\n",
       "      <td>False</td>\n",
       "      <td>CF</td>\n",
       "      <td>Unlabeled</td>\n",
       "      <td>0.523867</td>\n",
       "    </tr>\n",
       "    <tr>\n",
       "      <th>AACAAGAAGCGAATGC-1-0</th>\n",
       "      <td>dev_cornea</td>\n",
       "      <td>dc1</td>\n",
       "      <td>10PCW</td>\n",
       "      <td>0</td>\n",
       "      <td>1998</td>\n",
       "      <td>5283.0</td>\n",
       "      <td>88.0</td>\n",
       "      <td>1.665720</td>\n",
       "      <td>1654.0</td>\n",
       "      <td>31.307968</td>\n",
       "      <td>...</td>\n",
       "      <td>2.0</td>\n",
       "      <td>-0.578014</td>\n",
       "      <td>-0.423619</td>\n",
       "      <td>G1</td>\n",
       "      <td>0.085937</td>\n",
       "      <td>False</td>\n",
       "      <td>False</td>\n",
       "      <td>CF</td>\n",
       "      <td>CF</td>\n",
       "      <td>0.741688</td>\n",
       "    </tr>\n",
       "    <tr>\n",
       "      <th>...</th>\n",
       "      <td>...</td>\n",
       "      <td>...</td>\n",
       "      <td>...</td>\n",
       "      <td>...</td>\n",
       "      <td>...</td>\n",
       "      <td>...</td>\n",
       "      <td>...</td>\n",
       "      <td>...</td>\n",
       "      <td>...</td>\n",
       "      <td>...</td>\n",
       "      <td>...</td>\n",
       "      <td>...</td>\n",
       "      <td>...</td>\n",
       "      <td>...</td>\n",
       "      <td>...</td>\n",
       "      <td>...</td>\n",
       "      <td>...</td>\n",
       "      <td>...</td>\n",
       "      <td>...</td>\n",
       "      <td>...</td>\n",
       "      <td>...</td>\n",
       "    </tr>\n",
       "    <tr>\n",
       "      <th>TTTGTTGCACACTTAG-1-16</th>\n",
       "      <td>dev_cornea</td>\n",
       "      <td>dc17</td>\n",
       "      <td>21PCW</td>\n",
       "      <td>16</td>\n",
       "      <td>2719</td>\n",
       "      <td>6286.0</td>\n",
       "      <td>639.0</td>\n",
       "      <td>10.165447</td>\n",
       "      <td>600.0</td>\n",
       "      <td>9.545021</td>\n",
       "      <td>...</td>\n",
       "      <td>0.0</td>\n",
       "      <td>-0.851976</td>\n",
       "      <td>-0.414139</td>\n",
       "      <td>G1</td>\n",
       "      <td>0.033866</td>\n",
       "      <td>False</td>\n",
       "      <td>False</td>\n",
       "      <td>CF</td>\n",
       "      <td>CF</td>\n",
       "      <td>0.711971</td>\n",
       "    </tr>\n",
       "    <tr>\n",
       "      <th>TTTGTTGGTAAGGTCG-1-16</th>\n",
       "      <td>dev_cornea</td>\n",
       "      <td>dc17</td>\n",
       "      <td>21PCW</td>\n",
       "      <td>16</td>\n",
       "      <td>5082</td>\n",
       "      <td>17376.0</td>\n",
       "      <td>1974.0</td>\n",
       "      <td>11.360497</td>\n",
       "      <td>3156.0</td>\n",
       "      <td>18.162983</td>\n",
       "      <td>...</td>\n",
       "      <td>0.0</td>\n",
       "      <td>-0.649645</td>\n",
       "      <td>-1.046407</td>\n",
       "      <td>G1</td>\n",
       "      <td>0.018707</td>\n",
       "      <td>False</td>\n",
       "      <td>False</td>\n",
       "      <td>LESC</td>\n",
       "      <td>Unlabeled</td>\n",
       "      <td>0.387053</td>\n",
       "    </tr>\n",
       "    <tr>\n",
       "      <th>TTTGTTGGTATCGCAT-1-16</th>\n",
       "      <td>dev_cornea</td>\n",
       "      <td>dc17</td>\n",
       "      <td>21PCW</td>\n",
       "      <td>16</td>\n",
       "      <td>4268</td>\n",
       "      <td>11912.0</td>\n",
       "      <td>726.0</td>\n",
       "      <td>6.094695</td>\n",
       "      <td>2085.0</td>\n",
       "      <td>17.503359</td>\n",
       "      <td>...</td>\n",
       "      <td>0.0</td>\n",
       "      <td>-0.304559</td>\n",
       "      <td>-0.789906</td>\n",
       "      <td>G1</td>\n",
       "      <td>0.083252</td>\n",
       "      <td>False</td>\n",
       "      <td>False</td>\n",
       "      <td>Ves</td>\n",
       "      <td>Ves</td>\n",
       "      <td>0.938929</td>\n",
       "    </tr>\n",
       "    <tr>\n",
       "      <th>TTTGTTGTCCGTGGCA-1-16</th>\n",
       "      <td>dev_cornea</td>\n",
       "      <td>dc17</td>\n",
       "      <td>21PCW</td>\n",
       "      <td>16</td>\n",
       "      <td>3070</td>\n",
       "      <td>7777.0</td>\n",
       "      <td>806.0</td>\n",
       "      <td>10.363894</td>\n",
       "      <td>1206.0</td>\n",
       "      <td>15.507264</td>\n",
       "      <td>...</td>\n",
       "      <td>0.0</td>\n",
       "      <td>-0.399595</td>\n",
       "      <td>-0.631997</td>\n",
       "      <td>G1</td>\n",
       "      <td>0.018008</td>\n",
       "      <td>False</td>\n",
       "      <td>False</td>\n",
       "      <td>LESC</td>\n",
       "      <td>Unlabeled</td>\n",
       "      <td>0.427048</td>\n",
       "    </tr>\n",
       "    <tr>\n",
       "      <th>TTTGTTGTCGTTTACT-1-16</th>\n",
       "      <td>dev_cornea</td>\n",
       "      <td>dc17</td>\n",
       "      <td>21PCW</td>\n",
       "      <td>16</td>\n",
       "      <td>3498</td>\n",
       "      <td>10044.0</td>\n",
       "      <td>426.0</td>\n",
       "      <td>4.241338</td>\n",
       "      <td>1208.0</td>\n",
       "      <td>12.027081</td>\n",
       "      <td>...</td>\n",
       "      <td>0.0</td>\n",
       "      <td>-0.901925</td>\n",
       "      <td>-0.740971</td>\n",
       "      <td>G1</td>\n",
       "      <td>0.062972</td>\n",
       "      <td>False</td>\n",
       "      <td>False</td>\n",
       "      <td>CF</td>\n",
       "      <td>CF</td>\n",
       "      <td>0.915123</td>\n",
       "    </tr>\n",
       "  </tbody>\n",
       "</table>\n",
       "<p>76285 rows × 24 columns</p>\n",
       "</div>"
      ],
      "text/plain": [
       "                             type sample time_point batch  n_genes_by_counts  \\\n",
       "AAACGAACATTGAAGA-1-0   dev_cornea    dc1      10PCW     0               2730   \n",
       "AAAGTCCAGAAAGTCT-1-0   dev_cornea    dc1      10PCW     0               3398   \n",
       "AAAGTGAAGCGCACAA-1-0   dev_cornea    dc1      10PCW     0               2341   \n",
       "AAAGTGACAGTTGCGC-1-0   dev_cornea    dc1      10PCW     0               1542   \n",
       "AACAAGAAGCGAATGC-1-0   dev_cornea    dc1      10PCW     0               1998   \n",
       "...                           ...    ...        ...   ...                ...   \n",
       "TTTGTTGCACACTTAG-1-16  dev_cornea   dc17      21PCW    16               2719   \n",
       "TTTGTTGGTAAGGTCG-1-16  dev_cornea   dc17      21PCW    16               5082   \n",
       "TTTGTTGGTATCGCAT-1-16  dev_cornea   dc17      21PCW    16               4268   \n",
       "TTTGTTGTCCGTGGCA-1-16  dev_cornea   dc17      21PCW    16               3070   \n",
       "TTTGTTGTCGTTTACT-1-16  dev_cornea   dc17      21PCW    16               3498   \n",
       "\n",
       "                       total_counts  total_counts_mt  pct_counts_mt  \\\n",
       "AAACGAACATTGAAGA-1-0         8938.0            349.0       3.904677   \n",
       "AAAGTCCAGAAAGTCT-1-0        11587.0            387.0       3.339950   \n",
       "AAAGTGAAGCGCACAA-1-0         7676.0            407.0       5.302241   \n",
       "AAAGTGACAGTTGCGC-1-0         3338.0            193.0       5.781905   \n",
       "AACAAGAAGCGAATGC-1-0         5283.0             88.0       1.665720   \n",
       "...                             ...              ...            ...   \n",
       "TTTGTTGCACACTTAG-1-16        6286.0            639.0      10.165447   \n",
       "TTTGTTGGTAAGGTCG-1-16       17376.0           1974.0      11.360497   \n",
       "TTTGTTGGTATCGCAT-1-16       11912.0            726.0       6.094695   \n",
       "TTTGTTGTCCGTGGCA-1-16        7777.0            806.0      10.363894   \n",
       "TTTGTTGTCGTTTACT-1-16       10044.0            426.0       4.241338   \n",
       "\n",
       "                       total_counts_ribo  pct_counts_ribo  ...  XIST-counts  \\\n",
       "AAACGAACATTGAAGA-1-0              2712.0        30.342358  ...          3.0   \n",
       "AAAGTCCAGAAAGTCT-1-0              3320.0        28.652800  ...          1.0   \n",
       "AAAGTGAAGCGCACAA-1-0              2203.0        28.699844  ...          2.0   \n",
       "AAAGTGACAGTTGCGC-1-0               733.0        21.959257  ...          2.0   \n",
       "AACAAGAAGCGAATGC-1-0              1654.0        31.307968  ...          2.0   \n",
       "...                                  ...              ...  ...          ...   \n",
       "TTTGTTGCACACTTAG-1-16              600.0         9.545021  ...          0.0   \n",
       "TTTGTTGGTAAGGTCG-1-16             3156.0        18.162983  ...          0.0   \n",
       "TTTGTTGGTATCGCAT-1-16             2085.0        17.503359  ...          0.0   \n",
       "TTTGTTGTCCGTGGCA-1-16             1206.0        15.507264  ...          0.0   \n",
       "TTTGTTGTCGTTTACT-1-16             1208.0        12.027081  ...          0.0   \n",
       "\n",
       "                        S_score  G2M_score  phase  doublet_scores  \\\n",
       "AAACGAACATTGAAGA-1-0  -0.621783  -0.741423     G1        0.108108   \n",
       "AAAGTCCAGAAAGTCT-1-0  -0.787741  -1.115565     G1        0.076923   \n",
       "AAAGTGAAGCGCACAA-1-0  -0.622999  -0.643734     G1        0.085937   \n",
       "AAAGTGACAGTTGCGC-1-0  -0.236170  -0.247923     G1        0.055556   \n",
       "AACAAGAAGCGAATGC-1-0  -0.578014  -0.423619     G1        0.085937   \n",
       "...                         ...        ...    ...             ...   \n",
       "TTTGTTGCACACTTAG-1-16 -0.851976  -0.414139     G1        0.033866   \n",
       "TTTGTTGGTAAGGTCG-1-16 -0.649645  -1.046407     G1        0.018707   \n",
       "TTTGTTGGTATCGCAT-1-16 -0.304559  -0.789906     G1        0.083252   \n",
       "TTTGTTGTCCGTGGCA-1-16 -0.399595  -0.631997     G1        0.018008   \n",
       "TTTGTTGTCGTTTACT-1-16 -0.901925  -0.740971     G1        0.062972   \n",
       "\n",
       "                       predicted_doublets  doublet_info SVM_predicted  \\\n",
       "AAACGAACATTGAAGA-1-0                False         False            CF   \n",
       "AAAGTCCAGAAAGTCT-1-0                False         False            CF   \n",
       "AAAGTGAAGCGCACAA-1-0                False         False            CF   \n",
       "AAAGTGACAGTTGCGC-1-0                False         False            CF   \n",
       "AACAAGAAGCGAATGC-1-0                False         False            CF   \n",
       "...                                   ...           ...           ...   \n",
       "TTTGTTGCACACTTAG-1-16               False         False            CF   \n",
       "TTTGTTGGTAAGGTCG-1-16               False         False          LESC   \n",
       "TTTGTTGGTATCGCAT-1-16               False         False           Ves   \n",
       "TTTGTTGTCCGTGGCA-1-16               False         False          LESC   \n",
       "TTTGTTGTCGTTTACT-1-16               False         False            CF   \n",
       "\n",
       "                       SVMrej_predicted  SVMrej_predicted_prob  \n",
       "AAACGAACATTGAAGA-1-0                 CF               0.722105  \n",
       "AAAGTCCAGAAAGTCT-1-0          Unlabeled               0.580853  \n",
       "AAAGTGAAGCGCACAA-1-0                 CF               0.663028  \n",
       "AAAGTGACAGTTGCGC-1-0          Unlabeled               0.523867  \n",
       "AACAAGAAGCGAATGC-1-0                 CF               0.741688  \n",
       "...                                 ...                    ...  \n",
       "TTTGTTGCACACTTAG-1-16                CF               0.711971  \n",
       "TTTGTTGGTAAGGTCG-1-16         Unlabeled               0.387053  \n",
       "TTTGTTGGTATCGCAT-1-16               Ves               0.938929  \n",
       "TTTGTTGTCCGTGGCA-1-16         Unlabeled               0.427048  \n",
       "TTTGTTGTCGTTTACT-1-16                CF               0.915123  \n",
       "\n",
       "[76285 rows x 24 columns]"
      ]
     },
     "execution_count": 34,
     "metadata": {},
     "output_type": "execute_result"
    }
   ],
   "source": [
    "svmrej_60.obs"
   ]
  },
  {
   "cell_type": "code",
   "execution_count": 21,
   "id": "0aa32416",
   "metadata": {},
   "outputs": [],
   "source": [
    "#SVMpred\n",
    "sc.pl.umap(adata, color='SVM_predicted', legend_loc='on data',\n",
    "           frameon=False, legend_fontsize=6, legend_fontoutline=2, palette = category_colors, save = 'cPredictor_celltype.pdf')"
   ]
  },
  {
   "cell_type": "code",
   "execution_count": 22,
   "id": "bb7826ad",
   "metadata": {},
   "outputs": [],
   "source": [
    "#SVMrej60\n",
    "sc.pl.umap(svmrej_60, color='SVMrej_predicted', legend_loc='on data',\n",
    "           frameon=False, legend_fontsize=6, legend_fontoutline=2, palette = category_colors, save = 'cPredictor_SVMrej60_celltype.pdf')"
   ]
  },
  {
   "cell_type": "code",
   "execution_count": 35,
   "id": "1e409400",
   "metadata": {},
   "outputs": [],
   "source": [
    "sc.pl.umap(adata, color='TP63')"
   ]
  },
  {
   "cell_type": "markdown",
   "id": "89ae7038",
   "metadata": {},
   "source": [
    "# Core plotting functions for initial visualisation and data analysis"
   ]
  },
  {
   "cell_type": "markdown",
   "id": "86ecfcb1",
   "metadata": {},
   "source": [
    "## Elucidating differences between time points\n",
    "\n",
    "##Differences between the datasets themselves"
   ]
  },
  {
   "cell_type": "code",
   "execution_count": 4,
   "id": "25eeeded",
   "metadata": {},
   "outputs": [],
   "source": [
    "import scanpy as sc\n",
    "import pandas as pd\n",
    "from matplotlib.pyplot import rc_context"
   ]
  },
  {
   "cell_type": "code",
   "execution_count": 5,
   "id": "cf33898e",
   "metadata": {},
   "outputs": [
    {
     "name": "stderr",
     "output_type": "stream",
     "text": [
      "/vol/mbconda/imarais/miniconda3/envs/my_env/lib/python3.9/site-packages/tqdm/auto.py:22: TqdmWarning: IProgress not found. Please update jupyter and ipywidgets. See https://ipywidgets.readthedocs.io/en/stable/user_install.html\n",
      "  from .autonotebook import tqdm as notebook_tqdm\n"
     ]
    },
    {
     "name": "stdout",
     "output_type": "stream",
     "text": [
      "scanpy==1.9.2 anndata==0.8.0 umap==0.5.3 numpy==1.23.5 scipy==1.10.0 pandas==1.5.3 scikit-learn==1.2.1 statsmodels==0.13.5 python-igraph==0.10.4 pynndescent==0.5.8\n"
     ]
    }
   ],
   "source": [
    "sc.set_figure_params(dpi=100, color_map = 'viridis')\n",
    "sc.settings.verbosity = 1\n",
    "sc.logging.print_header()"
   ]
  },
  {
   "cell_type": "code",
   "execution_count": 5,
   "id": "a47474cc",
   "metadata": {},
   "outputs": [],
   "source": [
    "#Load h5ed dataset\n",
    "\n",
    "adata = sc.read_h5ad(\"/ceph/rimlsfnwi/data/moldevbio/zhou/imarais/jupyter_notebook/data/results/scanpy_qc_filtered_dev_cornea_1_to_17.h5ad\")"
   ]
  },
  {
   "cell_type": "code",
   "execution_count": 6,
   "id": "3da3a15a",
   "metadata": {},
   "outputs": [
    {
     "data": {
      "text/plain": [
       "AnnData object with n_obs × n_vars = 74233 × 32921\n",
       "    obs: 'type', 'sample', 'time_point', 'batch', 'n_genes_by_counts', 'total_counts', 'total_counts_mt', 'pct_counts_mt', 'total_counts_ribo', 'pct_counts_ribo', 'percent_mt2', 'n_counts', 'n_genes', 'percent_chrY', 'XIST-counts', 'S_score', 'G2M_score', 'phase', 'doublet_scores', 'predicted_doublets', 'doublet_info'\n",
       "    var: 'gene_ids', 'feature_types', 'genome', 'mt', 'ribo', 'n_cells_by_counts', 'mean_counts', 'pct_dropout_by_counts', 'total_counts', 'n_cells'\n",
       "    uns: 'doublet_info_colors', 'hvg', 'log1p', 'neighbors', 'pca', 'sample_colors', 'umap'\n",
       "    obsm: 'X_pca', 'X_umap'\n",
       "    obsp: 'connectivities', 'distances'"
      ]
     },
     "execution_count": 6,
     "metadata": {},
     "output_type": "execute_result"
    }
   ],
   "source": [
    "adata"
   ]
  },
  {
   "cell_type": "markdown",
   "id": "795d3c90",
   "metadata": {},
   "source": [
    "# Visualization of gene expression and other variables"
   ]
  },
  {
   "cell_type": "code",
   "execution_count": 20,
   "id": "a547a58f",
   "metadata": {},
   "outputs": [],
   "source": [
    "# rc_context is used for the figure size, in this case 4x4\n",
    "with rc_context({'figure.figsize': (4, 4)}):\n",
    "    sc.pl.umap(adata, color='n_genes')"
   ]
  },
  {
   "cell_type": "code",
   "execution_count": 36,
   "id": "cc1f323a",
   "metadata": {},
   "outputs": [],
   "source": [
    "# rc_context is used for the figure size, in this case 4x4\n",
    "with rc_context({'figure.figsize': (4, 4)}):\n",
    "    sc.pl.umap(adata, color='time_point')"
   ]
  },
  {
   "cell_type": "code",
   "execution_count": 19,
   "id": "6f5937bc",
   "metadata": {},
   "outputs": [],
   "source": [
    "# rc_context is used for the figure size, in this case 4x4\n",
    "with rc_context({'figure.figsize': (4, 4)}):\n",
    "    sc.pl.umap(adata, color='COL4A4')"
   ]
  },
  {
   "cell_type": "code",
   "execution_count": 6,
   "id": "bb10b2d3",
   "metadata": {},
   "outputs": [
    {
     "name": "stdout",
     "output_type": "stream",
     "text": [
      "10PCW : 686  cells\n",
      "12PCW : 17752  cells\n",
      "13PCW : 8147  cells\n",
      "14PCW : 9000  cells\n",
      "16PCW : 11080  cells\n",
      "17PCW : 5255  cells\n",
      "18PCW : 2142  cells\n",
      "20PCW : 12475  cells\n",
      "21PCW : 7696  cells\n"
     ]
    }
   ],
   "source": [
    "# split per batch into new objects.\n",
    "batches = adata.obs['time_point'].cat.categories.tolist()\n",
    "alldata = {}\n",
    "for batch in batches:\n",
    "    tmp = adata[adata.obs['time_point'] == batch,]\n",
    "    print(batch, \":\", tmp.shape[0], \" cells\")"
   ]
  },
  {
   "cell_type": "code",
   "execution_count": 7,
   "id": "1826d2a7",
   "metadata": {},
   "outputs": [
    {
     "name": "stdout",
     "output_type": "stream",
     "text": [
      "dc1 : 525  cells\n",
      "dc2 : 161  cells\n",
      "dc3 : 7034  cells\n",
      "dc4 : 7576  cells\n",
      "dc5 : 875  cells\n",
      "dc6 : 2267  cells\n",
      "dc7 : 6603  cells\n",
      "dc8 : 1544  cells\n",
      "dc9 : 3592  cells\n",
      "dc10 : 5408  cells\n",
      "dc11 : 2399  cells\n",
      "dc12 : 8681  cells\n",
      "dc13 : 5255  cells\n",
      "dc14 : 2142  cells\n",
      "dc15 : 744  cells\n",
      "dc16 : 11731  cells\n",
      "dc17 : 7696  cells\n"
     ]
    }
   ],
   "source": [
    "# split per batch into new objects.\n",
    "batches = adata.obs['sample'].cat.categories.tolist()\n",
    "alldata = {}\n",
    "for batch in batches:\n",
    "    tmp = adata[adata.obs['sample'] == batch,]\n",
    "    print(batch, \":\", tmp.shape[0], \" cells\")"
   ]
  },
  {
   "cell_type": "code",
   "execution_count": 18,
   "id": "8a0e0cc3",
   "metadata": {},
   "outputs": [],
   "source": [
    "with rc_context({'figure.figsize': (3, 3)}):\n",
    "    sc.pl.umap(adata, color=['COL1A1', 'KRT13', 'TP63', 'MCAM', 'CXCL14', 'CD34', 'MYL9', 'XIST'], s=50, frameon=False, ncols=4, vmax='p99')"
   ]
  },
  {
   "cell_type": "code",
   "execution_count": 5,
   "id": "86afce94",
   "metadata": {},
   "outputs": [
    {
     "name": "stdout",
     "output_type": "stream",
     "text": [
      "running Leiden clustering\n",
      "    finished: found 25 clusters and added\n",
      "    'clusters', the cluster labels (adata.obs, categorical) (0:00:15)\n"
     ]
    }
   ],
   "source": [
    "# compute clusters using the leiden method and store the results with the name `clusters`\n",
    "#Resolution was decided upon by running the notebook \"notebook_res\", it was 0.25\n",
    "import leidenalg\n",
    "sc.tl.leiden(adata, key_added='clusters', resolution=0.25)"
   ]
  },
  {
   "cell_type": "code",
   "execution_count": 6,
   "id": "ad8f3939",
   "metadata": {},
   "outputs": [],
   "source": [
    "import matplotlib.pyplot as plt"
   ]
  },
  {
   "cell_type": "code",
   "execution_count": 37,
   "id": "65897c91",
   "metadata": {},
   "outputs": [],
   "source": [
    "with rc_context({'figure.figsize': (5, 5)}):\n",
    "    sc.pl.umap(adata, color='clusters', add_outline=True, legend_loc='on data',\n",
    "               legend_fontsize=12, legend_fontoutline=2,frameon=False,\n",
    "               title='Cluster UMAP', palette='Set1', save='cluster_umap.pdf')"
   ]
  },
  {
   "cell_type": "markdown",
   "id": "45044cb0",
   "metadata": {},
   "source": [
    "## Identification of clusters based on known marker genes"
   ]
  },
  {
   "cell_type": "code",
   "execution_count": 6,
   "id": "51929474",
   "metadata": {},
   "outputs": [],
   "source": [
    "#Add more genes that are significant from his plot\n",
    "#SK+CSSC = Corneal_stem_kero\n",
    "marker_genes_dict = {\n",
    "    'Limbal/Epithelial': ['KRT3','KRT14', 'KRT12', 'KRT15', 'S100A8','AREG', 'CXCL17'],\n",
    "    'Limbal': ['CXCL14','PAX6', 'S100A2', 'TP63'],\n",
    "    'Cj': ['S100A2', 'KRT24', 'KRT13'],\n",
    "    'CE': ['KRT24'],\n",
    "    'Corneal_stem_kero': ['THY1', 'NT5E'],\n",
    "    'TSK': ['MMP1', 'MMP2', 'MMP3'],\n",
    "    'CF': ['KRT12', 'MMP2', 'FBLN1', 'COL1A1', 'COL5A1', 'FBLN1', 'NAV1'],\n",
    "    'Mural': ['ACTA2', 'NOTCH3', 'MYL9', 'STOM', 'MCAM', 'CNN1', 'PKIG', 'DES', 'LMOD1'], \n",
    "    'EC': ['COL8A2','CA3', 'CLRN1', 'MRGPRX3', 'HTR1D', 'GRIP1', 'ZP4', 'ALCAM', 'SLC4A11'],\n",
    "    'Ves': ['CD34', 'ACKR1', 'LYVE1', 'PECAM1'],\n",
    "    'Mel': ['DCT','MITF', 'PMEL', 'TYRP1', 'MLANA', 'AC109466.1'],\n",
    "    'IC': ['CCL3', 'CCL4', 'CCL20', 'CXCL2', 'CXCL8', 'PTPRC'],\n",
    "    'nm-cSC': ['SOX10', 'CDH19', 'NGFR', 'SCN7A'],\n",
    "    'new_markers': ['PCNA', 'TOP2A', 'MCM6', 'MKI67', 'LRIG1', 'NOTCH1', 'MEIS1'],\n",
    "    'lens': ['CRYGS', 'HES1'],\n",
    "    'developmental_markers': ['TFRC', 'ABCG2', 'LGR5', 'BST1', 'NT5E', 'ENG', 'TGFB1', 'TGFB2', 'FGF8'],\n",
    "    'general_markers': ['KERA', 'LUM', 'DCN'],\n",
    "}"
   ]
  },
  {
   "cell_type": "code",
   "execution_count": null,
   "id": "ab4b9c60",
   "metadata": {},
   "outputs": [],
   "source": []
  },
  {
   "cell_type": "code",
   "execution_count": null,
   "id": "1639212c",
   "metadata": {},
   "outputs": [],
   "source": [
    "#overlapping developmental genes: 'KRT12', 'KRT15', 'THY1',"
   ]
  },
  {
   "cell_type": "code",
   "execution_count": 24,
   "id": "a8467559",
   "metadata": {},
   "outputs": [],
   "source": [
    "marker_genes_dict_limbal = {\n",
    "    'Limbal/Epithelial': ['KRT3','KRT14', 'KRT12', 'KRT15', 'S100A8','AREG', 'CXCL17'],\n",
    "    'Limbal': ['CXCL14','PAX6', 'S100A2', 'TP63'],\n",
    "    'Cj': ['S100A2', 'KRT24', 'KRT13'],\n",
    "    'CE': ['KRT24'],\n",
    "}"
   ]
  },
  {
   "cell_type": "code",
   "execution_count": 25,
   "id": "96be8c97",
   "metadata": {},
   "outputs": [],
   "source": [
    "marker_genes_dict_stromal = {\n",
    "    'Corneal_stem_kero': ['THY1', 'NT5E'],\n",
    "    'TSK': ['MMP1', 'MMP2', 'MMP3'],\n",
    "    'CF': ['KRT12', 'MMP2', 'FBLN1', 'COL1A1', 'COL5A1', 'FBLN1', 'NAV1'],\n",
    "}"
   ]
  },
  {
   "cell_type": "code",
   "execution_count": 26,
   "id": "e0eaa139",
   "metadata": {},
   "outputs": [],
   "source": [
    "marker_genes_dict_other = {\n",
    "    'EC': ['COL8A2','CA3', 'CLRN1', 'MRGPRX3', 'HTR1D', 'GRIP1', 'ZP4', 'ALCAM', 'SLC4A11'],\n",
    "    'Ves': ['CD34', 'ACKR1', 'LYVE1', 'PECAM1'],\n",
    "    'Mel': ['DCT','MITF', 'PMEL', 'TYRP1', 'MLANA'],\n",
    "    'IC': ['CCL3', 'CCL4', 'CCL20', 'CXCL2', 'CXCL8', 'PTPRC'],\n",
    "    'nm-cSC': ['SOX10', 'CDH19', 'NGFR', 'SCN7A'],\n",
    "    'Mural': ['ACTA2', 'NOTCH3', 'MYL9', 'STOM', 'MCAM', 'CNN1', 'PKIG', 'DES', 'LMOD1'],\n",
    "    'lens': ['CRYGS', 'HES1'],\n",
    "    'general_markers': ['KERA', 'LUM', 'DCN'],\n",
    "}"
   ]
  },
  {
   "cell_type": "markdown",
   "id": "fdc9217f",
   "metadata": {},
   "source": [
    "# Dotplot"
   ]
  },
  {
   "cell_type": "code",
   "execution_count": 38,
   "id": "b33101cf",
   "metadata": {},
   "outputs": [],
   "source": [
    "sc.pl.dotplot(adata, marker_genes_dict, 'clusters', dendrogram=True, save='cluster_dotplot.pdf')"
   ]
  },
  {
   "cell_type": "code",
   "execution_count": 10,
   "id": "082e4d38",
   "metadata": {},
   "outputs": [
    {
     "name": "stdout",
     "output_type": "stream",
     "text": [
      "0 : 17471  cells\n",
      "1 : 11563  cells\n",
      "2 : 9021  cells\n",
      "3 : 7613  cells\n",
      "4 : 5186  cells\n",
      "5 : 4652  cells\n",
      "6 : 4248  cells\n",
      "7 : 3356  cells\n",
      "8 : 2611  cells\n",
      "9 : 1409  cells\n",
      "10 : 1383  cells\n",
      "11 : 890  cells\n",
      "12 : 833  cells\n",
      "13 : 743  cells\n",
      "14 : 643  cells\n",
      "15 : 566  cells\n",
      "16 : 555  cells\n",
      "17 : 412  cells\n",
      "18 : 370  cells\n",
      "19 : 334  cells\n",
      "20 : 252  cells\n",
      "21 : 119  cells\n",
      "22 : 1  cells\n",
      "23 : 1  cells\n",
      "24 : 1  cells\n"
     ]
    }
   ],
   "source": [
    "# split per batch into new objects.\n",
    "batches = adata.obs['clusters'].cat.categories.tolist()\n",
    "alldata = {}\n",
    "for batch in batches:\n",
    "    tmp = adata[adata.obs['clusters'] == batch,]\n",
    "    print(batch, \":\", tmp.shape[0], \" cells\")"
   ]
  },
  {
   "cell_type": "code",
   "execution_count": 11,
   "id": "e9773055",
   "metadata": {},
   "outputs": [],
   "source": [
    "#Filtering out clusters with low numbers of cells after observing the violin plot\n",
    "adata = adata[~adata.obs['clusters'].isin(['22', '23','24']),:]"
   ]
  },
  {
   "cell_type": "code",
   "execution_count": 12,
   "id": "818f5ade",
   "metadata": {},
   "outputs": [
    {
     "name": "stdout",
     "output_type": "stream",
     "text": [
      "0 : 17471  cells\n",
      "1 : 11563  cells\n",
      "2 : 9021  cells\n",
      "3 : 7613  cells\n",
      "4 : 5186  cells\n",
      "5 : 4652  cells\n",
      "6 : 4248  cells\n",
      "7 : 3356  cells\n",
      "8 : 2611  cells\n",
      "9 : 1409  cells\n",
      "10 : 1383  cells\n",
      "11 : 890  cells\n",
      "12 : 833  cells\n",
      "13 : 743  cells\n",
      "14 : 643  cells\n",
      "15 : 566  cells\n",
      "16 : 555  cells\n",
      "17 : 412  cells\n",
      "18 : 370  cells\n",
      "19 : 334  cells\n",
      "20 : 252  cells\n",
      "21 : 119  cells\n"
     ]
    }
   ],
   "source": [
    "# split per batch into new objects.\n",
    "batches = adata.obs['clusters'].cat.categories.tolist()\n",
    "alldata = {}\n",
    "for batch in batches:\n",
    "    tmp = adata[adata.obs['clusters'] == batch,]\n",
    "    print(batch, \":\", tmp.shape[0], \" cells\")"
   ]
  },
  {
   "cell_type": "code",
   "execution_count": 39,
   "id": "ea2de89c",
   "metadata": {},
   "outputs": [],
   "source": [
    "with rc_context({'figure.figsize': (5, 5)}):\n",
    "    sc.pl.umap(adata, color='clusters', add_outline=True, legend_loc='on data',\n",
    "               legend_fontsize=12, legend_fontoutline=2,frameon=False,\n",
    "               title='Cluster UMAP', palette='Set1', save='cluster_umap.pdf')"
   ]
  },
  {
   "cell_type": "code",
   "execution_count": 15,
   "id": "23e43b3c",
   "metadata": {},
   "outputs": [],
   "source": [
    "# create a dictionary to map cluster to annotation label\n",
    "cluster2annotation = {\n",
    "     '0': 'Stroma',\n",
    "     '1': 'Fibroblast',\n",
    "     '2': 'Stroma',\n",
    "     '3': 'Fibroblast',\n",
    "     '4': 'Limbal_stem_cell',\n",
    "     '5': 'Stroma',\n",
    "     '6': 'Mural',\n",
    "     '7': 'Conjunctiva',\n",
    "     '8': 'Cycling_fibroblast',\n",
    "     '9': 'Stroma',\n",
    "    '10': 'Schwann',\n",
    "    '11': 'Mural',\n",
    "    '12': 'Vessels',\n",
    "    '13': 'Stroma',\n",
    "    '14': 'Endothelium',\n",
    "    '15': 'Immune',\n",
    "    '16': 'Melano',\n",
    "    '17': 'Stroma',\n",
    "    '18': 'Fibroblast',\n",
    "    '19': 'Fibroblast',\n",
    "    '20': 'Vessels',\n",
    "    '21': 'Lens',\n",
    "    '22': 'Fibroblast',\n",
    "}\n",
    "\n",
    "# add a new `.obs` column called `cell type` by mapping clusters to annotation using pandas `map` function\n",
    "#cell_type = bulk_labels\n",
    "adata.obs['cell_type'] =adata.obs['clusters'].map(cluster2annotation).astype('category')\n",
    "#Change cell type to SVM_labels after running SVM "
   ]
  },
  {
   "cell_type": "code",
   "execution_count": 16,
   "id": "1a6883db",
   "metadata": {},
   "outputs": [
    {
     "name": "stderr",
     "output_type": "stream",
     "text": [
      "/tmp/ipykernel_2305363/3195761622.py:2: FutureWarning: The `inplace` parameter in pandas.Categorical.reorder_categories is deprecated and will be removed in a future version. Reordering categories will always return a new Categorical object.\n",
      "  adata.obs['cell_type'].cat.reorder_categories(['Limbal_stem_cell', 'Conjunctiva', 'Lens', 'Stroma', 'Fibroblast', 'Cycling_fibroblast', 'Mural', 'Endothelium', 'Vessels', 'Melano', 'Immune', 'Schwann'], inplace=True)\n"
     ]
    }
   ],
   "source": [
    "#reorder\n",
    "adata.obs['cell_type'].cat.reorder_categories(['Limbal_stem_cell', 'Conjunctiva', 'Lens', 'Stroma', 'Fibroblast', 'Cycling_fibroblast', 'Mural', 'Endothelium', 'Vessels', 'Melano', 'Immune', 'Schwann'], inplace=True)"
   ]
  },
  {
   "cell_type": "code",
   "execution_count": 17,
   "id": "df25213c",
   "metadata": {},
   "outputs": [],
   "source": [
    "sc.settings.set_figure_params(scanpy=True, dpi=80, dpi_save=300, frameon=True, vector_friendly=False, fontsize=14)"
   ]
  },
  {
   "cell_type": "code",
   "execution_count": 40,
   "id": "f83ad30e",
   "metadata": {},
   "outputs": [],
   "source": [
    "#my_order=['1: Stroma','2: Stroma','3: Stroma', '4: Stroma', '5: Stroma', '1: Fibroblast','2: Fibroblast', '5: Fibroblast', '6: Fibroblast', '7: Fibroblast','3: MITF+_Fibro','4: Cycling_Fibroblast', '1: Limbal', '2: Limbal_epithelial','3: PAX6_high_limbal', '4: Limbal', '1: Other_1','2: Other_2', '1: Endothelium','1: Melano', '1: Immune', '1: Schwann']\n",
    "sc.pl.dotplot(adata, marker_genes_dict, 'cell_type', dendrogram=False, save='celltype_dotplot.pdf')"
   ]
  },
  {
   "cell_type": "code",
   "execution_count": 19,
   "id": "31e5b8a1",
   "metadata": {},
   "outputs": [],
   "source": [
    "# Save the file inbetween\n",
    "save_file = 'data/results/alldata_scrna_clustered.h5ad'\n",
    "adata.write_h5ad(save_file)"
   ]
  },
  {
   "cell_type": "code",
   "execution_count": 7,
   "id": "f2ca7769",
   "metadata": {},
   "outputs": [],
   "source": [
    "adata = sc.read_h5ad(\"/ceph/rimlsfnwi/data/moldevbio/zhou/imarais/jupyter_notebook/data/results/alldata_scrna_clustered.h5ad\")"
   ]
  },
  {
   "cell_type": "code",
   "execution_count": 8,
   "id": "b012edf2",
   "metadata": {},
   "outputs": [
    {
     "data": {
      "text/plain": [
       "AnnData object with n_obs × n_vars = 74230 × 32921\n",
       "    obs: 'type', 'sample', 'time_point', 'batch', 'n_genes_by_counts', 'total_counts', 'total_counts_mt', 'pct_counts_mt', 'total_counts_ribo', 'pct_counts_ribo', 'percent_mt2', 'n_counts', 'n_genes', 'percent_chrY', 'XIST-counts', 'S_score', 'G2M_score', 'phase', 'doublet_scores', 'predicted_doublets', 'doublet_info', 'clusters', 'cell_type'\n",
       "    var: 'gene_ids', 'feature_types', 'genome', 'mt', 'ribo', 'n_cells_by_counts', 'mean_counts', 'pct_dropout_by_counts', 'total_counts', 'n_cells'\n",
       "    uns: 'clusters_colors', 'dendrogram_clusters', 'doublet_info_colors', 'hvg', 'leiden', 'log1p', 'neighbors', 'pca', 'sample_colors', 'umap'\n",
       "    obsm: 'X_pca', 'X_umap'\n",
       "    obsp: 'connectivities', 'distances'"
      ]
     },
     "execution_count": 8,
     "metadata": {},
     "output_type": "execute_result"
    }
   ],
   "source": [
    "adata #Have to run marker gene dict again"
   ]
  },
  {
   "cell_type": "code",
   "execution_count": 9,
   "id": "6fb6ab1c",
   "metadata": {},
   "outputs": [
    {
     "data": {
      "text/html": [
       "<div>\n",
       "<style scoped>\n",
       "    .dataframe tbody tr th:only-of-type {\n",
       "        vertical-align: middle;\n",
       "    }\n",
       "\n",
       "    .dataframe tbody tr th {\n",
       "        vertical-align: top;\n",
       "    }\n",
       "\n",
       "    .dataframe thead th {\n",
       "        text-align: right;\n",
       "    }\n",
       "</style>\n",
       "<table border=\"1\" class=\"dataframe\">\n",
       "  <thead>\n",
       "    <tr style=\"text-align: right;\">\n",
       "      <th></th>\n",
       "      <th>type</th>\n",
       "      <th>sample</th>\n",
       "      <th>time_point</th>\n",
       "      <th>batch</th>\n",
       "      <th>n_genes_by_counts</th>\n",
       "      <th>total_counts</th>\n",
       "      <th>total_counts_mt</th>\n",
       "      <th>pct_counts_mt</th>\n",
       "      <th>total_counts_ribo</th>\n",
       "      <th>pct_counts_ribo</th>\n",
       "      <th>...</th>\n",
       "      <th>percent_chrY</th>\n",
       "      <th>XIST-counts</th>\n",
       "      <th>S_score</th>\n",
       "      <th>G2M_score</th>\n",
       "      <th>phase</th>\n",
       "      <th>doublet_scores</th>\n",
       "      <th>predicted_doublets</th>\n",
       "      <th>doublet_info</th>\n",
       "      <th>clusters</th>\n",
       "      <th>cell_type</th>\n",
       "    </tr>\n",
       "  </thead>\n",
       "  <tbody>\n",
       "    <tr>\n",
       "      <th>AAACGAACATTGAAGA-1-0</th>\n",
       "      <td>dev_cornea</td>\n",
       "      <td>dc1</td>\n",
       "      <td>10PCW</td>\n",
       "      <td>0</td>\n",
       "      <td>2730</td>\n",
       "      <td>8938.0</td>\n",
       "      <td>349.0</td>\n",
       "      <td>3.904677</td>\n",
       "      <td>2712.0</td>\n",
       "      <td>30.342358</td>\n",
       "      <td>...</td>\n",
       "      <td>0.000000</td>\n",
       "      <td>3.0</td>\n",
       "      <td>-0.621783</td>\n",
       "      <td>-0.741423</td>\n",
       "      <td>G1</td>\n",
       "      <td>0.108108</td>\n",
       "      <td>False</td>\n",
       "      <td>False</td>\n",
       "      <td>18</td>\n",
       "      <td>Fibroblast</td>\n",
       "    </tr>\n",
       "    <tr>\n",
       "      <th>AAAGTCCAGAAAGTCT-1-0</th>\n",
       "      <td>dev_cornea</td>\n",
       "      <td>dc1</td>\n",
       "      <td>10PCW</td>\n",
       "      <td>0</td>\n",
       "      <td>3398</td>\n",
       "      <td>11587.0</td>\n",
       "      <td>387.0</td>\n",
       "      <td>3.339950</td>\n",
       "      <td>3320.0</td>\n",
       "      <td>28.652800</td>\n",
       "      <td>...</td>\n",
       "      <td>0.000000</td>\n",
       "      <td>1.0</td>\n",
       "      <td>-0.787741</td>\n",
       "      <td>-1.115565</td>\n",
       "      <td>G1</td>\n",
       "      <td>0.076923</td>\n",
       "      <td>False</td>\n",
       "      <td>False</td>\n",
       "      <td>18</td>\n",
       "      <td>Fibroblast</td>\n",
       "    </tr>\n",
       "    <tr>\n",
       "      <th>AAAGTGAAGCGCACAA-1-0</th>\n",
       "      <td>dev_cornea</td>\n",
       "      <td>dc1</td>\n",
       "      <td>10PCW</td>\n",
       "      <td>0</td>\n",
       "      <td>2341</td>\n",
       "      <td>7676.0</td>\n",
       "      <td>407.0</td>\n",
       "      <td>5.302241</td>\n",
       "      <td>2203.0</td>\n",
       "      <td>28.699844</td>\n",
       "      <td>...</td>\n",
       "      <td>0.000000</td>\n",
       "      <td>2.0</td>\n",
       "      <td>-0.622999</td>\n",
       "      <td>-0.643734</td>\n",
       "      <td>G1</td>\n",
       "      <td>0.085937</td>\n",
       "      <td>False</td>\n",
       "      <td>False</td>\n",
       "      <td>18</td>\n",
       "      <td>Fibroblast</td>\n",
       "    </tr>\n",
       "    <tr>\n",
       "      <th>AAAGTGACAGTTGCGC-1-0</th>\n",
       "      <td>dev_cornea</td>\n",
       "      <td>dc1</td>\n",
       "      <td>10PCW</td>\n",
       "      <td>0</td>\n",
       "      <td>1542</td>\n",
       "      <td>3338.0</td>\n",
       "      <td>193.0</td>\n",
       "      <td>5.781905</td>\n",
       "      <td>733.0</td>\n",
       "      <td>21.959257</td>\n",
       "      <td>...</td>\n",
       "      <td>0.000000</td>\n",
       "      <td>2.0</td>\n",
       "      <td>-0.236170</td>\n",
       "      <td>-0.247923</td>\n",
       "      <td>G1</td>\n",
       "      <td>0.055556</td>\n",
       "      <td>False</td>\n",
       "      <td>False</td>\n",
       "      <td>3</td>\n",
       "      <td>Fibroblast</td>\n",
       "    </tr>\n",
       "    <tr>\n",
       "      <th>AACAAGAAGCGAATGC-1-0</th>\n",
       "      <td>dev_cornea</td>\n",
       "      <td>dc1</td>\n",
       "      <td>10PCW</td>\n",
       "      <td>0</td>\n",
       "      <td>1998</td>\n",
       "      <td>5283.0</td>\n",
       "      <td>88.0</td>\n",
       "      <td>1.665720</td>\n",
       "      <td>1654.0</td>\n",
       "      <td>31.307968</td>\n",
       "      <td>...</td>\n",
       "      <td>0.000000</td>\n",
       "      <td>2.0</td>\n",
       "      <td>-0.578014</td>\n",
       "      <td>-0.423619</td>\n",
       "      <td>G1</td>\n",
       "      <td>0.085937</td>\n",
       "      <td>False</td>\n",
       "      <td>False</td>\n",
       "      <td>3</td>\n",
       "      <td>Fibroblast</td>\n",
       "    </tr>\n",
       "    <tr>\n",
       "      <th>...</th>\n",
       "      <td>...</td>\n",
       "      <td>...</td>\n",
       "      <td>...</td>\n",
       "      <td>...</td>\n",
       "      <td>...</td>\n",
       "      <td>...</td>\n",
       "      <td>...</td>\n",
       "      <td>...</td>\n",
       "      <td>...</td>\n",
       "      <td>...</td>\n",
       "      <td>...</td>\n",
       "      <td>...</td>\n",
       "      <td>...</td>\n",
       "      <td>...</td>\n",
       "      <td>...</td>\n",
       "      <td>...</td>\n",
       "      <td>...</td>\n",
       "      <td>...</td>\n",
       "      <td>...</td>\n",
       "      <td>...</td>\n",
       "      <td>...</td>\n",
       "    </tr>\n",
       "    <tr>\n",
       "      <th>TTTGTTGCACACTTAG-1-16</th>\n",
       "      <td>dev_cornea</td>\n",
       "      <td>dc17</td>\n",
       "      <td>21PCW</td>\n",
       "      <td>16</td>\n",
       "      <td>2719</td>\n",
       "      <td>6286.0</td>\n",
       "      <td>639.0</td>\n",
       "      <td>10.165447</td>\n",
       "      <td>600.0</td>\n",
       "      <td>9.545021</td>\n",
       "      <td>...</td>\n",
       "      <td>0.017712</td>\n",
       "      <td>0.0</td>\n",
       "      <td>-0.851976</td>\n",
       "      <td>-0.414139</td>\n",
       "      <td>G1</td>\n",
       "      <td>0.033866</td>\n",
       "      <td>False</td>\n",
       "      <td>False</td>\n",
       "      <td>3</td>\n",
       "      <td>Fibroblast</td>\n",
       "    </tr>\n",
       "    <tr>\n",
       "      <th>TTTGTTGGTAAGGTCG-1-16</th>\n",
       "      <td>dev_cornea</td>\n",
       "      <td>dc17</td>\n",
       "      <td>21PCW</td>\n",
       "      <td>16</td>\n",
       "      <td>5082</td>\n",
       "      <td>17376.0</td>\n",
       "      <td>1974.0</td>\n",
       "      <td>11.360497</td>\n",
       "      <td>3156.0</td>\n",
       "      <td>18.162983</td>\n",
       "      <td>...</td>\n",
       "      <td>0.110375</td>\n",
       "      <td>0.0</td>\n",
       "      <td>-0.649645</td>\n",
       "      <td>-1.046407</td>\n",
       "      <td>G1</td>\n",
       "      <td>0.018707</td>\n",
       "      <td>False</td>\n",
       "      <td>False</td>\n",
       "      <td>4</td>\n",
       "      <td>Limbal_stem_cell</td>\n",
       "    </tr>\n",
       "    <tr>\n",
       "      <th>TTTGTTGGTATCGCAT-1-16</th>\n",
       "      <td>dev_cornea</td>\n",
       "      <td>dc17</td>\n",
       "      <td>21PCW</td>\n",
       "      <td>16</td>\n",
       "      <td>4268</td>\n",
       "      <td>11912.0</td>\n",
       "      <td>726.0</td>\n",
       "      <td>6.094695</td>\n",
       "      <td>2085.0</td>\n",
       "      <td>17.503359</td>\n",
       "      <td>...</td>\n",
       "      <td>0.134096</td>\n",
       "      <td>0.0</td>\n",
       "      <td>-0.304559</td>\n",
       "      <td>-0.789906</td>\n",
       "      <td>G1</td>\n",
       "      <td>0.083252</td>\n",
       "      <td>False</td>\n",
       "      <td>False</td>\n",
       "      <td>12</td>\n",
       "      <td>Vessels</td>\n",
       "    </tr>\n",
       "    <tr>\n",
       "      <th>TTTGTTGTCCGTGGCA-1-16</th>\n",
       "      <td>dev_cornea</td>\n",
       "      <td>dc17</td>\n",
       "      <td>21PCW</td>\n",
       "      <td>16</td>\n",
       "      <td>3070</td>\n",
       "      <td>7777.0</td>\n",
       "      <td>806.0</td>\n",
       "      <td>10.363894</td>\n",
       "      <td>1206.0</td>\n",
       "      <td>15.507264</td>\n",
       "      <td>...</td>\n",
       "      <td>0.071726</td>\n",
       "      <td>0.0</td>\n",
       "      <td>-0.399595</td>\n",
       "      <td>-0.631997</td>\n",
       "      <td>G1</td>\n",
       "      <td>0.018008</td>\n",
       "      <td>False</td>\n",
       "      <td>False</td>\n",
       "      <td>4</td>\n",
       "      <td>Limbal_stem_cell</td>\n",
       "    </tr>\n",
       "    <tr>\n",
       "      <th>TTTGTTGTCGTTTACT-1-16</th>\n",
       "      <td>dev_cornea</td>\n",
       "      <td>dc17</td>\n",
       "      <td>21PCW</td>\n",
       "      <td>16</td>\n",
       "      <td>3498</td>\n",
       "      <td>10044.0</td>\n",
       "      <td>426.0</td>\n",
       "      <td>4.241338</td>\n",
       "      <td>1208.0</td>\n",
       "      <td>12.027081</td>\n",
       "      <td>...</td>\n",
       "      <td>0.083177</td>\n",
       "      <td>0.0</td>\n",
       "      <td>-0.901925</td>\n",
       "      <td>-0.740971</td>\n",
       "      <td>G1</td>\n",
       "      <td>0.062972</td>\n",
       "      <td>False</td>\n",
       "      <td>False</td>\n",
       "      <td>1</td>\n",
       "      <td>Fibroblast</td>\n",
       "    </tr>\n",
       "  </tbody>\n",
       "</table>\n",
       "<p>74230 rows × 23 columns</p>\n",
       "</div>"
      ],
      "text/plain": [
       "                             type sample time_point batch  n_genes_by_counts  \\\n",
       "AAACGAACATTGAAGA-1-0   dev_cornea    dc1      10PCW     0               2730   \n",
       "AAAGTCCAGAAAGTCT-1-0   dev_cornea    dc1      10PCW     0               3398   \n",
       "AAAGTGAAGCGCACAA-1-0   dev_cornea    dc1      10PCW     0               2341   \n",
       "AAAGTGACAGTTGCGC-1-0   dev_cornea    dc1      10PCW     0               1542   \n",
       "AACAAGAAGCGAATGC-1-0   dev_cornea    dc1      10PCW     0               1998   \n",
       "...                           ...    ...        ...   ...                ...   \n",
       "TTTGTTGCACACTTAG-1-16  dev_cornea   dc17      21PCW    16               2719   \n",
       "TTTGTTGGTAAGGTCG-1-16  dev_cornea   dc17      21PCW    16               5082   \n",
       "TTTGTTGGTATCGCAT-1-16  dev_cornea   dc17      21PCW    16               4268   \n",
       "TTTGTTGTCCGTGGCA-1-16  dev_cornea   dc17      21PCW    16               3070   \n",
       "TTTGTTGTCGTTTACT-1-16  dev_cornea   dc17      21PCW    16               3498   \n",
       "\n",
       "                       total_counts  total_counts_mt  pct_counts_mt  \\\n",
       "AAACGAACATTGAAGA-1-0         8938.0            349.0       3.904677   \n",
       "AAAGTCCAGAAAGTCT-1-0        11587.0            387.0       3.339950   \n",
       "AAAGTGAAGCGCACAA-1-0         7676.0            407.0       5.302241   \n",
       "AAAGTGACAGTTGCGC-1-0         3338.0            193.0       5.781905   \n",
       "AACAAGAAGCGAATGC-1-0         5283.0             88.0       1.665720   \n",
       "...                             ...              ...            ...   \n",
       "TTTGTTGCACACTTAG-1-16        6286.0            639.0      10.165447   \n",
       "TTTGTTGGTAAGGTCG-1-16       17376.0           1974.0      11.360497   \n",
       "TTTGTTGGTATCGCAT-1-16       11912.0            726.0       6.094695   \n",
       "TTTGTTGTCCGTGGCA-1-16        7777.0            806.0      10.363894   \n",
       "TTTGTTGTCGTTTACT-1-16       10044.0            426.0       4.241338   \n",
       "\n",
       "                       total_counts_ribo  pct_counts_ribo  ...  percent_chrY  \\\n",
       "AAACGAACATTGAAGA-1-0              2712.0        30.342358  ...      0.000000   \n",
       "AAAGTCCAGAAAGTCT-1-0              3320.0        28.652800  ...      0.000000   \n",
       "AAAGTGAAGCGCACAA-1-0              2203.0        28.699844  ...      0.000000   \n",
       "AAAGTGACAGTTGCGC-1-0               733.0        21.959257  ...      0.000000   \n",
       "AACAAGAAGCGAATGC-1-0              1654.0        31.307968  ...      0.000000   \n",
       "...                                  ...              ...  ...           ...   \n",
       "TTTGTTGCACACTTAG-1-16              600.0         9.545021  ...      0.017712   \n",
       "TTTGTTGGTAAGGTCG-1-16             3156.0        18.162983  ...      0.110375   \n",
       "TTTGTTGGTATCGCAT-1-16             2085.0        17.503359  ...      0.134096   \n",
       "TTTGTTGTCCGTGGCA-1-16             1206.0        15.507264  ...      0.071726   \n",
       "TTTGTTGTCGTTTACT-1-16             1208.0        12.027081  ...      0.083177   \n",
       "\n",
       "                       XIST-counts   S_score  G2M_score  phase  \\\n",
       "AAACGAACATTGAAGA-1-0           3.0 -0.621783  -0.741423     G1   \n",
       "AAAGTCCAGAAAGTCT-1-0           1.0 -0.787741  -1.115565     G1   \n",
       "AAAGTGAAGCGCACAA-1-0           2.0 -0.622999  -0.643734     G1   \n",
       "AAAGTGACAGTTGCGC-1-0           2.0 -0.236170  -0.247923     G1   \n",
       "AACAAGAAGCGAATGC-1-0           2.0 -0.578014  -0.423619     G1   \n",
       "...                            ...       ...        ...    ...   \n",
       "TTTGTTGCACACTTAG-1-16          0.0 -0.851976  -0.414139     G1   \n",
       "TTTGTTGGTAAGGTCG-1-16          0.0 -0.649645  -1.046407     G1   \n",
       "TTTGTTGGTATCGCAT-1-16          0.0 -0.304559  -0.789906     G1   \n",
       "TTTGTTGTCCGTGGCA-1-16          0.0 -0.399595  -0.631997     G1   \n",
       "TTTGTTGTCGTTTACT-1-16          0.0 -0.901925  -0.740971     G1   \n",
       "\n",
       "                       doublet_scores  predicted_doublets doublet_info  \\\n",
       "AAACGAACATTGAAGA-1-0         0.108108               False        False   \n",
       "AAAGTCCAGAAAGTCT-1-0         0.076923               False        False   \n",
       "AAAGTGAAGCGCACAA-1-0         0.085937               False        False   \n",
       "AAAGTGACAGTTGCGC-1-0         0.055556               False        False   \n",
       "AACAAGAAGCGAATGC-1-0         0.085937               False        False   \n",
       "...                               ...                 ...          ...   \n",
       "TTTGTTGCACACTTAG-1-16        0.033866               False        False   \n",
       "TTTGTTGGTAAGGTCG-1-16        0.018707               False        False   \n",
       "TTTGTTGGTATCGCAT-1-16        0.083252               False        False   \n",
       "TTTGTTGTCCGTGGCA-1-16        0.018008               False        False   \n",
       "TTTGTTGTCGTTTACT-1-16        0.062972               False        False   \n",
       "\n",
       "                       clusters         cell_type  \n",
       "AAACGAACATTGAAGA-1-0         18        Fibroblast  \n",
       "AAAGTCCAGAAAGTCT-1-0         18        Fibroblast  \n",
       "AAAGTGAAGCGCACAA-1-0         18        Fibroblast  \n",
       "AAAGTGACAGTTGCGC-1-0          3        Fibroblast  \n",
       "AACAAGAAGCGAATGC-1-0          3        Fibroblast  \n",
       "...                         ...               ...  \n",
       "TTTGTTGCACACTTAG-1-16         3        Fibroblast  \n",
       "TTTGTTGGTAAGGTCG-1-16         4  Limbal_stem_cell  \n",
       "TTTGTTGGTATCGCAT-1-16        12           Vessels  \n",
       "TTTGTTGTCCGTGGCA-1-16         4  Limbal_stem_cell  \n",
       "TTTGTTGTCGTTTACT-1-16         1        Fibroblast  \n",
       "\n",
       "[74230 rows x 23 columns]"
      ]
     },
     "execution_count": 9,
     "metadata": {},
     "output_type": "execute_result"
    }
   ],
   "source": [
    "adata.obs"
   ]
  },
  {
   "cell_type": "markdown",
   "id": "d344c444",
   "metadata": {},
   "source": [
    "## Subsets"
   ]
  },
  {
   "cell_type": "code",
   "execution_count": 21,
   "id": "7d6b7f2e",
   "metadata": {},
   "outputs": [],
   "source": [
    "# #Try subset limbal\n",
    "adata_subset_limbal = adata[adata.obs['cell_type'].isin(['Limbal_stem_cell', 'Conjunctiva'])]"
   ]
  },
  {
   "cell_type": "code",
   "execution_count": null,
   "id": "b4266170",
   "metadata": {},
   "outputs": [],
   "source": [
    "# sc.pl.dotplot(adata_subset_limbal, marker_genes_dict_limbal, 'cell_type', dendrogram=False)"
   ]
  },
  {
   "cell_type": "code",
   "execution_count": 22,
   "id": "8b4abf97",
   "metadata": {},
   "outputs": [],
   "source": [
    "# #Try subset stromal\n",
    "adata_subset_stromal = adata[adata.obs['cell_type'].isin(['Stroma', 'Fibroblast', 'Cycling_fibroblast'])]"
   ]
  },
  {
   "cell_type": "code",
   "execution_count": null,
   "id": "b6dee5f7",
   "metadata": {},
   "outputs": [],
   "source": [
    "# sc.pl.dotplot(adata_subset_stromal, marker_genes_dict_stromal, 'cell_type', dendrogram=False)"
   ]
  },
  {
   "cell_type": "code",
   "execution_count": 23,
   "id": "76c11f28",
   "metadata": {},
   "outputs": [],
   "source": [
    "# #Try subset other\n",
    "adata_subset_other = adata[adata.obs['cell_type'].isin(['Mural','Endothelium', 'Vessels', 'Melano', 'Immune', 'Schwann', 'Lens'])]"
   ]
  },
  {
   "cell_type": "code",
   "execution_count": null,
   "id": "d25d9e3f",
   "metadata": {},
   "outputs": [],
   "source": [
    "# sc.pl.dotplot(adata_subset_other, marker_genes_dict_other, 'cell_type', dendrogram=False)"
   ]
  },
  {
   "cell_type": "code",
   "execution_count": 41,
   "id": "49745f32",
   "metadata": {},
   "outputs": [],
   "source": [
    "sc.pl.umap(adata, color='cell_type', legend_loc='on data',\n",
    "           frameon=False, legend_fontsize=6, legend_fontoutline=2, save='celltype_umap.pdf')"
   ]
  },
  {
   "cell_type": "code",
   "execution_count": 17,
   "id": "6b3b01b5",
   "metadata": {},
   "outputs": [],
   "source": [
    "with rc_context({'figure.figsize': (4, 4)}):\n",
    "    sc.pl.umap(adata, color='cell_type', save='celltype_umap_2.pdf')"
   ]
  },
  {
   "cell_type": "code",
   "execution_count": 10,
   "id": "0ab3ea07",
   "metadata": {},
   "outputs": [
    {
     "data": {
      "text/html": [
       "<div>\n",
       "<style scoped>\n",
       "    .dataframe tbody tr th:only-of-type {\n",
       "        vertical-align: middle;\n",
       "    }\n",
       "\n",
       "    .dataframe tbody tr th {\n",
       "        vertical-align: top;\n",
       "    }\n",
       "\n",
       "    .dataframe thead th {\n",
       "        text-align: right;\n",
       "    }\n",
       "</style>\n",
       "<table border=\"1\" class=\"dataframe\">\n",
       "  <thead>\n",
       "    <tr style=\"text-align: right;\">\n",
       "      <th></th>\n",
       "      <th>type</th>\n",
       "      <th>sample</th>\n",
       "      <th>time_point</th>\n",
       "      <th>batch</th>\n",
       "      <th>n_genes_by_counts</th>\n",
       "      <th>total_counts</th>\n",
       "      <th>total_counts_mt</th>\n",
       "      <th>pct_counts_mt</th>\n",
       "      <th>total_counts_ribo</th>\n",
       "      <th>pct_counts_ribo</th>\n",
       "      <th>...</th>\n",
       "      <th>XIST-counts</th>\n",
       "      <th>S_score</th>\n",
       "      <th>G2M_score</th>\n",
       "      <th>phase</th>\n",
       "      <th>doublet_scores</th>\n",
       "      <th>predicted_doublets</th>\n",
       "      <th>doublet_info</th>\n",
       "      <th>clusters</th>\n",
       "      <th>cell_type</th>\n",
       "      <th>timepoint_celltype</th>\n",
       "    </tr>\n",
       "  </thead>\n",
       "  <tbody>\n",
       "    <tr>\n",
       "      <th>AAACGAACATTGAAGA-1-0</th>\n",
       "      <td>dev_cornea</td>\n",
       "      <td>dc1</td>\n",
       "      <td>10PCW</td>\n",
       "      <td>0</td>\n",
       "      <td>2730</td>\n",
       "      <td>8938.0</td>\n",
       "      <td>349.0</td>\n",
       "      <td>3.904677</td>\n",
       "      <td>2712.0</td>\n",
       "      <td>30.342358</td>\n",
       "      <td>...</td>\n",
       "      <td>3.0</td>\n",
       "      <td>-0.621783</td>\n",
       "      <td>-0.741423</td>\n",
       "      <td>G1</td>\n",
       "      <td>0.108108</td>\n",
       "      <td>False</td>\n",
       "      <td>False</td>\n",
       "      <td>18</td>\n",
       "      <td>Fibroblast</td>\n",
       "      <td>Fibroblast_10PCW</td>\n",
       "    </tr>\n",
       "    <tr>\n",
       "      <th>AAAGTCCAGAAAGTCT-1-0</th>\n",
       "      <td>dev_cornea</td>\n",
       "      <td>dc1</td>\n",
       "      <td>10PCW</td>\n",
       "      <td>0</td>\n",
       "      <td>3398</td>\n",
       "      <td>11587.0</td>\n",
       "      <td>387.0</td>\n",
       "      <td>3.339950</td>\n",
       "      <td>3320.0</td>\n",
       "      <td>28.652800</td>\n",
       "      <td>...</td>\n",
       "      <td>1.0</td>\n",
       "      <td>-0.787741</td>\n",
       "      <td>-1.115565</td>\n",
       "      <td>G1</td>\n",
       "      <td>0.076923</td>\n",
       "      <td>False</td>\n",
       "      <td>False</td>\n",
       "      <td>18</td>\n",
       "      <td>Fibroblast</td>\n",
       "      <td>Fibroblast_10PCW</td>\n",
       "    </tr>\n",
       "    <tr>\n",
       "      <th>AAAGTGAAGCGCACAA-1-0</th>\n",
       "      <td>dev_cornea</td>\n",
       "      <td>dc1</td>\n",
       "      <td>10PCW</td>\n",
       "      <td>0</td>\n",
       "      <td>2341</td>\n",
       "      <td>7676.0</td>\n",
       "      <td>407.0</td>\n",
       "      <td>5.302241</td>\n",
       "      <td>2203.0</td>\n",
       "      <td>28.699844</td>\n",
       "      <td>...</td>\n",
       "      <td>2.0</td>\n",
       "      <td>-0.622999</td>\n",
       "      <td>-0.643734</td>\n",
       "      <td>G1</td>\n",
       "      <td>0.085937</td>\n",
       "      <td>False</td>\n",
       "      <td>False</td>\n",
       "      <td>18</td>\n",
       "      <td>Fibroblast</td>\n",
       "      <td>Fibroblast_10PCW</td>\n",
       "    </tr>\n",
       "    <tr>\n",
       "      <th>AAAGTGACAGTTGCGC-1-0</th>\n",
       "      <td>dev_cornea</td>\n",
       "      <td>dc1</td>\n",
       "      <td>10PCW</td>\n",
       "      <td>0</td>\n",
       "      <td>1542</td>\n",
       "      <td>3338.0</td>\n",
       "      <td>193.0</td>\n",
       "      <td>5.781905</td>\n",
       "      <td>733.0</td>\n",
       "      <td>21.959257</td>\n",
       "      <td>...</td>\n",
       "      <td>2.0</td>\n",
       "      <td>-0.236170</td>\n",
       "      <td>-0.247923</td>\n",
       "      <td>G1</td>\n",
       "      <td>0.055556</td>\n",
       "      <td>False</td>\n",
       "      <td>False</td>\n",
       "      <td>3</td>\n",
       "      <td>Fibroblast</td>\n",
       "      <td>Fibroblast_10PCW</td>\n",
       "    </tr>\n",
       "    <tr>\n",
       "      <th>AACAAGAAGCGAATGC-1-0</th>\n",
       "      <td>dev_cornea</td>\n",
       "      <td>dc1</td>\n",
       "      <td>10PCW</td>\n",
       "      <td>0</td>\n",
       "      <td>1998</td>\n",
       "      <td>5283.0</td>\n",
       "      <td>88.0</td>\n",
       "      <td>1.665720</td>\n",
       "      <td>1654.0</td>\n",
       "      <td>31.307968</td>\n",
       "      <td>...</td>\n",
       "      <td>2.0</td>\n",
       "      <td>-0.578014</td>\n",
       "      <td>-0.423619</td>\n",
       "      <td>G1</td>\n",
       "      <td>0.085937</td>\n",
       "      <td>False</td>\n",
       "      <td>False</td>\n",
       "      <td>3</td>\n",
       "      <td>Fibroblast</td>\n",
       "      <td>Fibroblast_10PCW</td>\n",
       "    </tr>\n",
       "    <tr>\n",
       "      <th>...</th>\n",
       "      <td>...</td>\n",
       "      <td>...</td>\n",
       "      <td>...</td>\n",
       "      <td>...</td>\n",
       "      <td>...</td>\n",
       "      <td>...</td>\n",
       "      <td>...</td>\n",
       "      <td>...</td>\n",
       "      <td>...</td>\n",
       "      <td>...</td>\n",
       "      <td>...</td>\n",
       "      <td>...</td>\n",
       "      <td>...</td>\n",
       "      <td>...</td>\n",
       "      <td>...</td>\n",
       "      <td>...</td>\n",
       "      <td>...</td>\n",
       "      <td>...</td>\n",
       "      <td>...</td>\n",
       "      <td>...</td>\n",
       "      <td>...</td>\n",
       "    </tr>\n",
       "    <tr>\n",
       "      <th>TTTGTTGCACACTTAG-1-16</th>\n",
       "      <td>dev_cornea</td>\n",
       "      <td>dc17</td>\n",
       "      <td>21PCW</td>\n",
       "      <td>16</td>\n",
       "      <td>2719</td>\n",
       "      <td>6286.0</td>\n",
       "      <td>639.0</td>\n",
       "      <td>10.165447</td>\n",
       "      <td>600.0</td>\n",
       "      <td>9.545021</td>\n",
       "      <td>...</td>\n",
       "      <td>0.0</td>\n",
       "      <td>-0.851976</td>\n",
       "      <td>-0.414139</td>\n",
       "      <td>G1</td>\n",
       "      <td>0.033866</td>\n",
       "      <td>False</td>\n",
       "      <td>False</td>\n",
       "      <td>3</td>\n",
       "      <td>Fibroblast</td>\n",
       "      <td>Fibroblast_21PCW</td>\n",
       "    </tr>\n",
       "    <tr>\n",
       "      <th>TTTGTTGGTAAGGTCG-1-16</th>\n",
       "      <td>dev_cornea</td>\n",
       "      <td>dc17</td>\n",
       "      <td>21PCW</td>\n",
       "      <td>16</td>\n",
       "      <td>5082</td>\n",
       "      <td>17376.0</td>\n",
       "      <td>1974.0</td>\n",
       "      <td>11.360497</td>\n",
       "      <td>3156.0</td>\n",
       "      <td>18.162983</td>\n",
       "      <td>...</td>\n",
       "      <td>0.0</td>\n",
       "      <td>-0.649645</td>\n",
       "      <td>-1.046407</td>\n",
       "      <td>G1</td>\n",
       "      <td>0.018707</td>\n",
       "      <td>False</td>\n",
       "      <td>False</td>\n",
       "      <td>4</td>\n",
       "      <td>Limbal_stem_cell</td>\n",
       "      <td>Limbal_stem_cell_21PCW</td>\n",
       "    </tr>\n",
       "    <tr>\n",
       "      <th>TTTGTTGGTATCGCAT-1-16</th>\n",
       "      <td>dev_cornea</td>\n",
       "      <td>dc17</td>\n",
       "      <td>21PCW</td>\n",
       "      <td>16</td>\n",
       "      <td>4268</td>\n",
       "      <td>11912.0</td>\n",
       "      <td>726.0</td>\n",
       "      <td>6.094695</td>\n",
       "      <td>2085.0</td>\n",
       "      <td>17.503359</td>\n",
       "      <td>...</td>\n",
       "      <td>0.0</td>\n",
       "      <td>-0.304559</td>\n",
       "      <td>-0.789906</td>\n",
       "      <td>G1</td>\n",
       "      <td>0.083252</td>\n",
       "      <td>False</td>\n",
       "      <td>False</td>\n",
       "      <td>12</td>\n",
       "      <td>Vessels</td>\n",
       "      <td>Vessels_21PCW</td>\n",
       "    </tr>\n",
       "    <tr>\n",
       "      <th>TTTGTTGTCCGTGGCA-1-16</th>\n",
       "      <td>dev_cornea</td>\n",
       "      <td>dc17</td>\n",
       "      <td>21PCW</td>\n",
       "      <td>16</td>\n",
       "      <td>3070</td>\n",
       "      <td>7777.0</td>\n",
       "      <td>806.0</td>\n",
       "      <td>10.363894</td>\n",
       "      <td>1206.0</td>\n",
       "      <td>15.507264</td>\n",
       "      <td>...</td>\n",
       "      <td>0.0</td>\n",
       "      <td>-0.399595</td>\n",
       "      <td>-0.631997</td>\n",
       "      <td>G1</td>\n",
       "      <td>0.018008</td>\n",
       "      <td>False</td>\n",
       "      <td>False</td>\n",
       "      <td>4</td>\n",
       "      <td>Limbal_stem_cell</td>\n",
       "      <td>Limbal_stem_cell_21PCW</td>\n",
       "    </tr>\n",
       "    <tr>\n",
       "      <th>TTTGTTGTCGTTTACT-1-16</th>\n",
       "      <td>dev_cornea</td>\n",
       "      <td>dc17</td>\n",
       "      <td>21PCW</td>\n",
       "      <td>16</td>\n",
       "      <td>3498</td>\n",
       "      <td>10044.0</td>\n",
       "      <td>426.0</td>\n",
       "      <td>4.241338</td>\n",
       "      <td>1208.0</td>\n",
       "      <td>12.027081</td>\n",
       "      <td>...</td>\n",
       "      <td>0.0</td>\n",
       "      <td>-0.901925</td>\n",
       "      <td>-0.740971</td>\n",
       "      <td>G1</td>\n",
       "      <td>0.062972</td>\n",
       "      <td>False</td>\n",
       "      <td>False</td>\n",
       "      <td>1</td>\n",
       "      <td>Fibroblast</td>\n",
       "      <td>Fibroblast_21PCW</td>\n",
       "    </tr>\n",
       "  </tbody>\n",
       "</table>\n",
       "<p>74230 rows × 24 columns</p>\n",
       "</div>"
      ],
      "text/plain": [
       "                             type sample time_point batch  n_genes_by_counts  \\\n",
       "AAACGAACATTGAAGA-1-0   dev_cornea    dc1      10PCW     0               2730   \n",
       "AAAGTCCAGAAAGTCT-1-0   dev_cornea    dc1      10PCW     0               3398   \n",
       "AAAGTGAAGCGCACAA-1-0   dev_cornea    dc1      10PCW     0               2341   \n",
       "AAAGTGACAGTTGCGC-1-0   dev_cornea    dc1      10PCW     0               1542   \n",
       "AACAAGAAGCGAATGC-1-0   dev_cornea    dc1      10PCW     0               1998   \n",
       "...                           ...    ...        ...   ...                ...   \n",
       "TTTGTTGCACACTTAG-1-16  dev_cornea   dc17      21PCW    16               2719   \n",
       "TTTGTTGGTAAGGTCG-1-16  dev_cornea   dc17      21PCW    16               5082   \n",
       "TTTGTTGGTATCGCAT-1-16  dev_cornea   dc17      21PCW    16               4268   \n",
       "TTTGTTGTCCGTGGCA-1-16  dev_cornea   dc17      21PCW    16               3070   \n",
       "TTTGTTGTCGTTTACT-1-16  dev_cornea   dc17      21PCW    16               3498   \n",
       "\n",
       "                       total_counts  total_counts_mt  pct_counts_mt  \\\n",
       "AAACGAACATTGAAGA-1-0         8938.0            349.0       3.904677   \n",
       "AAAGTCCAGAAAGTCT-1-0        11587.0            387.0       3.339950   \n",
       "AAAGTGAAGCGCACAA-1-0         7676.0            407.0       5.302241   \n",
       "AAAGTGACAGTTGCGC-1-0         3338.0            193.0       5.781905   \n",
       "AACAAGAAGCGAATGC-1-0         5283.0             88.0       1.665720   \n",
       "...                             ...              ...            ...   \n",
       "TTTGTTGCACACTTAG-1-16        6286.0            639.0      10.165447   \n",
       "TTTGTTGGTAAGGTCG-1-16       17376.0           1974.0      11.360497   \n",
       "TTTGTTGGTATCGCAT-1-16       11912.0            726.0       6.094695   \n",
       "TTTGTTGTCCGTGGCA-1-16        7777.0            806.0      10.363894   \n",
       "TTTGTTGTCGTTTACT-1-16       10044.0            426.0       4.241338   \n",
       "\n",
       "                       total_counts_ribo  pct_counts_ribo  ...  XIST-counts  \\\n",
       "AAACGAACATTGAAGA-1-0              2712.0        30.342358  ...          3.0   \n",
       "AAAGTCCAGAAAGTCT-1-0              3320.0        28.652800  ...          1.0   \n",
       "AAAGTGAAGCGCACAA-1-0              2203.0        28.699844  ...          2.0   \n",
       "AAAGTGACAGTTGCGC-1-0               733.0        21.959257  ...          2.0   \n",
       "AACAAGAAGCGAATGC-1-0              1654.0        31.307968  ...          2.0   \n",
       "...                                  ...              ...  ...          ...   \n",
       "TTTGTTGCACACTTAG-1-16              600.0         9.545021  ...          0.0   \n",
       "TTTGTTGGTAAGGTCG-1-16             3156.0        18.162983  ...          0.0   \n",
       "TTTGTTGGTATCGCAT-1-16             2085.0        17.503359  ...          0.0   \n",
       "TTTGTTGTCCGTGGCA-1-16             1206.0        15.507264  ...          0.0   \n",
       "TTTGTTGTCGTTTACT-1-16             1208.0        12.027081  ...          0.0   \n",
       "\n",
       "                        S_score  G2M_score  phase  doublet_scores  \\\n",
       "AAACGAACATTGAAGA-1-0  -0.621783  -0.741423     G1        0.108108   \n",
       "AAAGTCCAGAAAGTCT-1-0  -0.787741  -1.115565     G1        0.076923   \n",
       "AAAGTGAAGCGCACAA-1-0  -0.622999  -0.643734     G1        0.085937   \n",
       "AAAGTGACAGTTGCGC-1-0  -0.236170  -0.247923     G1        0.055556   \n",
       "AACAAGAAGCGAATGC-1-0  -0.578014  -0.423619     G1        0.085937   \n",
       "...                         ...        ...    ...             ...   \n",
       "TTTGTTGCACACTTAG-1-16 -0.851976  -0.414139     G1        0.033866   \n",
       "TTTGTTGGTAAGGTCG-1-16 -0.649645  -1.046407     G1        0.018707   \n",
       "TTTGTTGGTATCGCAT-1-16 -0.304559  -0.789906     G1        0.083252   \n",
       "TTTGTTGTCCGTGGCA-1-16 -0.399595  -0.631997     G1        0.018008   \n",
       "TTTGTTGTCGTTTACT-1-16 -0.901925  -0.740971     G1        0.062972   \n",
       "\n",
       "                       predicted_doublets  doublet_info clusters  \\\n",
       "AAACGAACATTGAAGA-1-0                False         False       18   \n",
       "AAAGTCCAGAAAGTCT-1-0                False         False       18   \n",
       "AAAGTGAAGCGCACAA-1-0                False         False       18   \n",
       "AAAGTGACAGTTGCGC-1-0                False         False        3   \n",
       "AACAAGAAGCGAATGC-1-0                False         False        3   \n",
       "...                                   ...           ...      ...   \n",
       "TTTGTTGCACACTTAG-1-16               False         False        3   \n",
       "TTTGTTGGTAAGGTCG-1-16               False         False        4   \n",
       "TTTGTTGGTATCGCAT-1-16               False         False       12   \n",
       "TTTGTTGTCCGTGGCA-1-16               False         False        4   \n",
       "TTTGTTGTCGTTTACT-1-16               False         False        1   \n",
       "\n",
       "                              cell_type      timepoint_celltype  \n",
       "AAACGAACATTGAAGA-1-0         Fibroblast        Fibroblast_10PCW  \n",
       "AAAGTCCAGAAAGTCT-1-0         Fibroblast        Fibroblast_10PCW  \n",
       "AAAGTGAAGCGCACAA-1-0         Fibroblast        Fibroblast_10PCW  \n",
       "AAAGTGACAGTTGCGC-1-0         Fibroblast        Fibroblast_10PCW  \n",
       "AACAAGAAGCGAATGC-1-0         Fibroblast        Fibroblast_10PCW  \n",
       "...                                 ...                     ...  \n",
       "TTTGTTGCACACTTAG-1-16        Fibroblast        Fibroblast_21PCW  \n",
       "TTTGTTGGTAAGGTCG-1-16  Limbal_stem_cell  Limbal_stem_cell_21PCW  \n",
       "TTTGTTGGTATCGCAT-1-16           Vessels           Vessels_21PCW  \n",
       "TTTGTTGTCCGTGGCA-1-16  Limbal_stem_cell  Limbal_stem_cell_21PCW  \n",
       "TTTGTTGTCGTTTACT-1-16        Fibroblast        Fibroblast_21PCW  \n",
       "\n",
       "[74230 rows x 24 columns]"
      ]
     },
     "execution_count": 10,
     "metadata": {},
     "output_type": "execute_result"
    }
   ],
   "source": [
    "adata.obs['timepoint_celltype'] = adata.obs['cell_type'].astype(str) + '_' + adata.obs['time_point'].astype(str)\n",
    "adata.obs"
   ]
  },
  {
   "cell_type": "code",
   "execution_count": 11,
   "id": "fb356da3",
   "metadata": {},
   "outputs": [
    {
     "data": {
      "text/plain": [
       "AnnData object with n_obs × n_vars = 74230 × 32921\n",
       "    obs: 'type', 'sample', 'time_point', 'batch', 'n_genes_by_counts', 'total_counts', 'total_counts_mt', 'pct_counts_mt', 'total_counts_ribo', 'pct_counts_ribo', 'percent_mt2', 'n_counts', 'n_genes', 'percent_chrY', 'XIST-counts', 'S_score', 'G2M_score', 'phase', 'doublet_scores', 'predicted_doublets', 'doublet_info', 'clusters', 'cell_type', 'timepoint_celltype'\n",
       "    var: 'gene_ids', 'feature_types', 'genome', 'mt', 'ribo', 'n_cells_by_counts', 'mean_counts', 'pct_dropout_by_counts', 'total_counts', 'n_cells'\n",
       "    uns: 'clusters_colors', 'dendrogram_clusters', 'doublet_info_colors', 'hvg', 'leiden', 'log1p', 'neighbors', 'pca', 'sample_colors', 'umap'\n",
       "    obsm: 'X_pca', 'X_umap'\n",
       "    obsp: 'connectivities', 'distances'"
      ]
     },
     "execution_count": 11,
     "metadata": {},
     "output_type": "execute_result"
    }
   ],
   "source": [
    "adata"
   ]
  },
  {
   "cell_type": "code",
   "execution_count": 16,
   "id": "89fa0a0a",
   "metadata": {},
   "outputs": [],
   "source": [
    "#Plotting timepoint of only lens cluster\n",
    "ax = sc.pl.umap(adata, size=10, show=False)\n",
    "sc.pl.umap(\n",
    "    adata[adata.obs[\"cell_type\"] == \"Lens\"],\n",
    "    size=10,\n",
    "    color=\"time_point\",\n",
    "    ax=ax\n",
    ")"
   ]
  },
  {
   "cell_type": "code",
   "execution_count": 15,
   "id": "c100dfae",
   "metadata": {},
   "outputs": [],
   "source": [
    "#Plotting only stroma cluster\n",
    "ax = sc.pl.umap(adata, size=10, show=False)\n",
    "sc.pl.umap(\n",
    "    adata[adata.obs[\"cell_type\"] == \"Stroma\"],\n",
    "    size=10,\n",
    "    color=\"cell_type\",\n",
    "    ax=ax\n",
    ")"
   ]
  },
  {
   "cell_type": "code",
   "execution_count": 14,
   "id": "58a80c88",
   "metadata": {},
   "outputs": [],
   "source": [
    "#Schwann cluster 10\n",
    "ax = sc.pl.umap(adata, size=10, show=False)\n",
    "sc.pl.umap(\n",
    "    adata[adata.obs[\"clusters\"] == \"10\"],\n",
    "    size=10,\n",
    "    color=\"n_genes\",\n",
    "    ax=ax\n",
    ")"
   ]
  },
  {
   "cell_type": "code",
   "execution_count": 13,
   "id": "96c64589",
   "metadata": {},
   "outputs": [],
   "source": [
    "PCW = ['10PCW', '12PCW', '13PCW', '14PCW', '16PCW', '17PCW', '18PCW', '20PCW', '21PCW']\n",
    "for time in PCW:\n",
    "    ax = sc.pl.umap(adata, size=10, show=False)\n",
    "    sc.pl.umap(\n",
    "        adata[adata.obs[\"time_point\"] == time],\n",
    "        size=10,\n",
    "        color=\"time_point\",\n",
    "        ax=ax\n",
    "    )"
   ]
  },
  {
   "cell_type": "code",
   "execution_count": 12,
   "id": "6387c2df",
   "metadata": {},
   "outputs": [],
   "source": [
    "cell_types = ['Limbal_stem_cell', 'Conjunctiva', 'Lens', 'Stroma', 'Fibroblast', 'Cycling_fibroblast', 'Mural', 'Endothelium', 'Vessels', 'Melano', 'Immune', 'Schwann']\n",
    "PCW = ['10PCW', '12PCW', '13PCW', '14PCW', '16PCW', '17PCW', '18PCW', '20PCW', '21PCW']\n",
    "for celltype in cell_types:\n",
    "    ax = sc.pl.umap(adata, size=10, show=False)\n",
    "    sc.pl.umap(\n",
    "        adata[adata.obs[\"cell_type\"] == celltype],\n",
    "        size=10,\n",
    "        color=\"time_point\",\n",
    "        ax=ax\n",
    "    )\n",
    "    for time in PCW:\n",
    "        ax = sc.pl.umap(adata, size=10, show=False)\n",
    "        sc.pl.umap(\n",
    "            adata[adata.obs[\"time_point\"] == time],\n",
    "            size=10,\n",
    "            color=\"cell_type\",\n",
    "            ax=ax\n",
    "        )"
   ]
  },
  {
   "cell_type": "code",
   "execution_count": null,
   "id": "986f1289",
   "metadata": {},
   "outputs": [],
   "source": [
    "# fig, (ax1, ax2) = plt.subplots(1, 2) #this specifies that this is a horizontal stacked plot\n",
    "# fig.suptitle(pcw)\n",
    "# ax1.plot(x, y) #what is x and y in our data\n",
    "# ax2.plot(x, -y)"
   ]
  },
  {
   "cell_type": "code",
   "execution_count": 1,
   "id": "5ae91b28",
   "metadata": {},
   "outputs": [],
   "source": [
    "cell_types = ['Limbal_stem_cell', 'Conjunctiva', 'Lens', 'Stroma', 'Fibroblast', 'Cycling_fibroblast', 'Mural', 'Endothelium', 'Vessels', 'Melano', 'Immune', 'Schwann']\n",
    "PCW = ['10PCW', '12PCW', '13PCW', '14PCW', '16PCW', '17PCW', '18PCW', '20PCW', '21PCW']\n",
    "for celltype in cell_types:\n",
    "    start = 0  #specify subplots 9 timepoints, specify starting number \n",
    "    for pcw in PCW:\n",
    "        ax = sc.pl.umap(adata, size=10, show=False)\n",
    "        sc.pl.umap(\n",
    "            adata[(adata.obs[\"cell_type\"] == celltype) & (adata.obs[\"time_point\"] == pcw)],\n",
    "            size = 10,\n",
    "            color = \"cell_type\",\n",
    "            ax = ax, #sc.pl.umap(adata, size=10, show=False)\n",
    "            title = pcw,\n",
    "        save = 'timepoint_celltype.pdf' #F-strings to sort out overwriting issue\n",
    "        )\n",
    "\n",
    "        \n",
    "#I have added start variable set to 0\n",
    "#I have specified the subplot to have 9 columns\n",
    "#I have added a title (pcw)\n",
    "#Not sure hoe to include the ax1/ax2 inside the loop but i have added the ax1 to 9\n",
    "#And how start is incorporated in the for loop "
   ]
  },
  {
   "cell_type": "code",
   "execution_count": 21,
   "id": "23afb9c6",
   "metadata": {},
   "outputs": [],
   "source": [
    "import matplotlib.pyplot as plt"
   ]
  },
  {
   "cell_type": "code",
   "execution_count": 2,
   "id": "b84a69a5",
   "metadata": {},
   "outputs": [],
   "source": [
    "cell_types = ['Limbal_stem_cell', 'Conjunctiva', 'Lens', 'Stroma', 'Fibroblast', 'Cycling_fibroblast', 'Mural', 'Endothelium', 'Vessels', 'Melano', 'Immune', 'Schwann']\n",
    "#cell_types = ['Stroma']\n",
    "PCW = ['10PCW', '12PCW', '13PCW', '14PCW', '16PCW', '17PCW', '18PCW', '20PCW', '21PCW']\n",
    "#axes = [ax1, ax2, ax3, ax4, ax5, ax6, ax7, ax8, ax9]\n",
    "for celltype in cell_types:\n",
    "    figure, axs = plt.subplots(9, 1, figsize=(4,40))\n",
    "    axs[0].plot(1, 1)\n",
    "    axs[1].plot(2, 1)\n",
    "    axs[2].plot(3, 1)\n",
    "    axs[3].plot(4, 1)\n",
    "    axs[4].plot(5, 1)\n",
    "    axs[5].plot(6, 1)\n",
    "    axs[6].plot(7, 1)\n",
    "    axs[7].plot(8, 1)\n",
    "    axs[8].plot(9, 1)\n",
    "    start = 0 \n",
    "    for pcw in PCW:\n",
    "        def categorise(row):  \n",
    "            if row['cell_type'] == celltype and row[\"time_point\"] == pcw:\n",
    "                return celltype\n",
    "            return \"other\"\n",
    "        adata.obs['map'] = adata.obs.apply(lambda row: categorise(row), axis=1)\n",
    "        adata.obs[\"map\"]=adata.obs[\"map\"].astype('category')\n",
    "        print(adata.obs['map'].value_counts())\n",
    "        sc.pl.umap(\n",
    "            adata, #(adata.obs[\"cell_type\"] == celltype)\n",
    "            show = False,\n",
    "            size = 10,\n",
    "            color=[\"map\"], \n",
    "            ax = axs[start], #sc.pl.umap(adata, size=10, show=False)\n",
    "            title = pcw,\n",
    "            palette={\n",
    "            celltype: \"#C70039\", #Change to red or something\n",
    "            \"other\": \"gainsboro\"},\n",
    "        )\n",
    "        start = start + 1\n",
    "        \n",
    "plt.savefig(\"umap_column.png\")"
   ]
  },
  {
   "cell_type": "code",
   "execution_count": 3,
   "id": "6d733524",
   "metadata": {},
   "outputs": [],
   "source": [
    "import scanpy as sc\n",
    "import matplotlib.pyplot as plt\n",
    "\n",
    "cell_types = ['Limbal_stem_cell', 'Conjunctiva', 'Lens', 'Stroma', 'Fibroblast', 'Cycling_fibroblast', 'Mural', 'Endothelium', 'Vessels', 'Melano', 'Immune', 'Schwann']\n",
    "PCW = ['10PCW', '12PCW', '13PCW', '14PCW', '16PCW', '17PCW', '18PCW', '20PCW', '21PCW']\n",
    "colors = {\n",
    "    'Limbal_stem_cell': '#C70039',\n",
    "    'Conjunctiva': '#FF5733',\n",
    "    'Lens': '#FFC300',\n",
    "    'Stroma': '#900C3F',\n",
    "    'Fibroblast': '#581845',\n",
    "    'Cycling_fibroblast': '#8D3E28',\n",
    "    'Mural': '#006266',\n",
    "    'Endothelium': '#1B4F72',\n",
    "    'Vessels': '#273746',\n",
    "    'Melano': '#FFC312',\n",
    "    'Immune': '#FF5733',\n",
    "    'Schwann': '#F4D03F',\n",
    "    'other': 'gainsboro'\n",
    "}\n",
    "for celltype in cell_types:\n",
    "    start = 0\n",
    "    for pcw in PCW:\n",
    "        ax = sc.pl.umap(adata, size=8, show=False)\n",
    "        sc.pl.umap(\n",
    "            adata[(adata.obs[\"cell_type\"] == celltype) & (adata.obs[\"time_point\"] == pcw)],\n",
    "            size=10,\n",
    "            color=\"cell_type\",\n",
    "            ax=ax,\n",
    "            title=pcw,\n",
    "            palette=colors,\n",
    "            save = f'timepoint_celltype_version1{celltype}_{pcw}_1.png'\n",
    "        )\n",
    "\n",
    "        # Save the plot as an image file using an f-string\n",
    "#         plt.savefig(f'timepoint_celltype_version1{celltype}_{pcw}_1.png')\n",
    "#         plt.show()\n",
    "        \n",
    "        start += 1"
   ]
  },
  {
   "cell_type": "code",
   "execution_count": 4,
   "id": "43469115",
   "metadata": {},
   "outputs": [],
   "source": [
    "cell_types = ['Limbal_stem_cell', 'Conjunctiva', 'Lens', 'Stroma', 'Fibroblast', 'Cycling_fibroblast', 'Mural', 'Endothelium', 'Vessels', 'Melano', 'Immune', 'Schwann']\n",
    "PCW = ['10PCW', '12PCW', '13PCW', '14PCW', '16PCW', '17PCW', '18PCW', '20PCW', '21PCW']\n",
    "colors = {\n",
    "    'Limbal_stem_cell': '#C70039',\n",
    "    'Conjunctiva': '#FF5733',\n",
    "    'Lens': '#FFC300',\n",
    "    'Stroma': '#900C3F',\n",
    "    'Fibroblast': '#581845',\n",
    "    'Cycling_fibroblast': '#8D3E28',\n",
    "    'Mural': '#006266',\n",
    "    'Endothelium': '#1B4F72',\n",
    "    'Vessels': '#273746',\n",
    "    'Melano': '#FFC312',\n",
    "    'Immune': '#FF5733',\n",
    "    'Schwann': '#F4D03F',\n",
    "    'other': 'gainsboro'\n",
    "}\n",
    "for celltype in cell_types:\n",
    "    fig, axs = plt.subplots(1, len(PCW), figsize=(40, 4))\n",
    "\n",
    "    for i, pcw in enumerate(PCW):\n",
    "        ax = axs[i]\n",
    "        sc.pl.umap(\n",
    "            adata[(adata.obs[\"cell_type\"] == celltype) & (adata.obs[\"time_point\"] == pcw)],\n",
    "            size=10,\n",
    "            color=\"cell_type\",\n",
    "            ax=ax,\n",
    "            title=pcw,\n",
    "            palette=colors\n",
    "        )\n",
    "\n",
    "    # Save the plot as an image file using an f-string\n",
    "    fig.savefig(f'timepoint_celltype_{celltype}_1.png')\n",
    "    plt.close(fig)"
   ]
  },
  {
   "cell_type": "code",
   "execution_count": 5,
   "id": "3f37f68e",
   "metadata": {},
   "outputs": [],
   "source": [
    "with rc_context({'figure.figsize': (9, 6)}):\n",
    "    sc.pl.violin(adata, ['n_genes', 'percent_mt2'], groupby='clusters', stripplot=False, inner='box')  \n",
    "# use stripplot=False to remove the internal dots, inner='box' adds a boxplot inside violins"
   ]
  },
  {
   "cell_type": "markdown",
   "id": "007abcb1",
   "metadata": {},
   "source": [
    "# Stacked-violin plot"
   ]
  },
  {
   "cell_type": "code",
   "execution_count": 20,
   "id": "96e04946",
   "metadata": {},
   "outputs": [
    {
     "name": "stdout",
     "output_type": "stream",
     "text": [
      "WARNING: saving figure to file figures/stacked_violin_celltype_stackedviolin.pdf\n"
     ]
    },
    {
     "data": {
      "image/png": "[encoded data removed]",
      "text/plain": [
       "<Figure size 2665.6x416 with 16 Axes>"
      ]
     },
     "metadata": {
      "image/png": {
       "height": 558,
       "width": 2232
      }
     },
     "output_type": "display_data"
    }
   ],
   "source": [
    "ax = sc.pl.stacked_violin(adata, marker_genes_dict, groupby='cell_type', swap_axes=False, dendrogram=False, save= 'celltype_stackedviolin.pdf')"
   ]
  },
  {
   "cell_type": "code",
   "execution_count": 6,
   "id": "e31c9abd",
   "metadata": {},
   "outputs": [],
   "source": [
    "ax = sc.pl.stacked_violin(adata, marker_genes_dict, groupby='timepoint_celltype', swap_axes=False, dendrogram=False, save= 'timepointcelltype_stackedviolin.pdf')"
   ]
  },
  {
   "cell_type": "code",
   "execution_count": 12,
   "id": "28137620",
   "metadata": {},
   "outputs": [],
   "source": [
    "#ax = sc.pl.stacked_violin(adata_subset_limbal, marker_genes_dict_limbal, groupby='cell_type', swap_axes=False, dendrogram=False, save= 'limbal_stackedviolin.pdf')"
   ]
  },
  {
   "cell_type": "code",
   "execution_count": 13,
   "id": "4491c015",
   "metadata": {},
   "outputs": [],
   "source": [
    "#ax = sc.pl.stacked_violin(adata_subset_stromal, marker_genes_dict_stromal, groupby='cell_type', swap_axes=False, dendrogram=False, save= 'stromal_stackedviolin.pdf')"
   ]
  },
  {
   "cell_type": "code",
   "execution_count": 14,
   "id": "96e75fc3",
   "metadata": {},
   "outputs": [],
   "source": [
    "#ax = sc.pl.stacked_violin(adata_subset_other, marker_genes_dict_other, groupby='cell_type', swap_axes=False, dendrogram=False, save= 'other_stackedviolin.pdf')"
   ]
  },
  {
   "cell_type": "markdown",
   "id": "b97c3d4e",
   "metadata": {},
   "source": [
    "# Matrixplot"
   ]
  },
  {
   "cell_type": "code",
   "execution_count": 42,
   "id": "93f57613",
   "metadata": {},
   "outputs": [],
   "source": [
    "sc.pl.matrixplot(adata, marker_genes_dict, 'cell_type', dendrogram=False, cmap='Blues', standard_scale='var', colorbar_title='column scaled\\nexpression', save= 'celltype.pdf')"
   ]
  },
  {
   "cell_type": "code",
   "execution_count": 11,
   "id": "4aa16b3d",
   "metadata": {},
   "outputs": [],
   "source": [
    "# scale and store results in layer\n",
    "adata.layers['scaled'] = sc.pp.scale(adata, copy=True).X"
   ]
  },
  {
   "cell_type": "code",
   "execution_count": 43,
   "id": "bd633d5b",
   "metadata": {},
   "outputs": [],
   "source": [
    "sc.pl.matrixplot(adata, marker_genes_dict, 'cell_type', dendrogram=True,\n",
    "                 colorbar_title='mean z-score', layer='scaled', vmin=-2, vmax=2, cmap='RdBu_r')"
   ]
  },
  {
   "cell_type": "markdown",
   "id": "8fee1cde",
   "metadata": {},
   "source": [
    "# Heatmaps"
   ]
  },
  {
   "cell_type": "code",
   "execution_count": 7,
   "id": "a87d2e41",
   "metadata": {},
   "outputs": [],
   "source": [
    "ax = sc.pl.heatmap(adata, marker_genes_dict, groupby='cell_type', cmap='viridis', dendrogram=True)"
   ]
  },
  {
   "cell_type": "code",
   "execution_count": 8,
   "id": "2422e541",
   "metadata": {},
   "outputs": [],
   "source": [
    "#The heatmap can also be plotted on scaled data. \n",
    "#In the next image, similar to the previus matrixplot the min and max had been adjusted and a divergent color map is used\n",
    "\n",
    "ax = sc.pl.heatmap(adata, marker_genes_dict, groupby='cell_type', layer='scaled', vmin=-2, vmax=2, cmap='RdBu_r', dendrogram=True, swap_axes=True, figsize=(23,8))"
   ]
  },
  {
   "cell_type": "code",
   "execution_count": 27,
   "id": "f9071f8c",
   "metadata": {},
   "outputs": [
    {
     "name": "stdout",
     "output_type": "stream",
     "text": [
      "WARNING: adata.X seems to be already log-transformed.\n"
     ]
    }
   ],
   "source": [
    "#added the line about log transforming\n",
    "sc.pp.log1p(adata)\n",
    "sc.tl.rank_genes_groups(adata, groupby='cell_type', method='wilcoxon')"
   ]
  },
  {
   "cell_type": "code",
   "execution_count": 33,
   "id": "c64e6ca8",
   "metadata": {},
   "outputs": [
    {
     "name": "stdout",
     "output_type": "stream",
     "text": [
      "WARNING: Default of the method has been changed to 't-test' from 't-test_overestim_var'\n"
     ]
    }
   ],
   "source": [
    "#CHECK IF THIS WORKS\n",
    "\n",
    "sc.tl.rank_genes_groups(adata, groupby=\"cell_type\")"
   ]
  },
  {
   "cell_type": "code",
   "execution_count": 34,
   "id": "b748dd15",
   "metadata": {},
   "outputs": [],
   "source": [
    "test = sc.get.rank_genes_groups_df(adata, group=None)"
   ]
  },
  {
   "cell_type": "code",
   "execution_count": 35,
   "id": "03962d92",
   "metadata": {},
   "outputs": [
    {
     "data": {
      "text/html": [
       "<div>\n",
       "<style scoped>\n",
       "    .dataframe tbody tr th:only-of-type {\n",
       "        vertical-align: middle;\n",
       "    }\n",
       "\n",
       "    .dataframe tbody tr th {\n",
       "        vertical-align: top;\n",
       "    }\n",
       "\n",
       "    .dataframe thead th {\n",
       "        text-align: right;\n",
       "    }\n",
       "</style>\n",
       "<table border=\"1\" class=\"dataframe\">\n",
       "  <thead>\n",
       "    <tr style=\"text-align: right;\">\n",
       "      <th></th>\n",
       "      <th>group</th>\n",
       "      <th>names</th>\n",
       "      <th>scores</th>\n",
       "      <th>logfoldchanges</th>\n",
       "      <th>pvals</th>\n",
       "      <th>pvals_adj</th>\n",
       "    </tr>\n",
       "  </thead>\n",
       "  <tbody>\n",
       "    <tr>\n",
       "      <th>0</th>\n",
       "      <td>Limbal_stem_cell</td>\n",
       "      <td>MIR205HG</td>\n",
       "      <td>386.918976</td>\n",
       "      <td>4.168135</td>\n",
       "      <td>0.0</td>\n",
       "      <td>0.0</td>\n",
       "    </tr>\n",
       "    <tr>\n",
       "      <th>1</th>\n",
       "      <td>Limbal_stem_cell</td>\n",
       "      <td>CXCL14</td>\n",
       "      <td>362.279785</td>\n",
       "      <td>2.123212</td>\n",
       "      <td>0.0</td>\n",
       "      <td>0.0</td>\n",
       "    </tr>\n",
       "    <tr>\n",
       "      <th>2</th>\n",
       "      <td>Limbal_stem_cell</td>\n",
       "      <td>KRT5</td>\n",
       "      <td>354.176880</td>\n",
       "      <td>3.187702</td>\n",
       "      <td>0.0</td>\n",
       "      <td>0.0</td>\n",
       "    </tr>\n",
       "    <tr>\n",
       "      <th>3</th>\n",
       "      <td>Limbal_stem_cell</td>\n",
       "      <td>KRT17</td>\n",
       "      <td>330.658417</td>\n",
       "      <td>2.468866</td>\n",
       "      <td>0.0</td>\n",
       "      <td>0.0</td>\n",
       "    </tr>\n",
       "    <tr>\n",
       "      <th>4</th>\n",
       "      <td>Limbal_stem_cell</td>\n",
       "      <td>KRT19</td>\n",
       "      <td>304.335327</td>\n",
       "      <td>3.017829</td>\n",
       "      <td>0.0</td>\n",
       "      <td>0.0</td>\n",
       "    </tr>\n",
       "    <tr>\n",
       "      <th>...</th>\n",
       "      <td>...</td>\n",
       "      <td>...</td>\n",
       "      <td>...</td>\n",
       "      <td>...</td>\n",
       "      <td>...</td>\n",
       "      <td>...</td>\n",
       "    </tr>\n",
       "    <tr>\n",
       "      <th>395047</th>\n",
       "      <td>Schwann</td>\n",
       "      <td>CREB3L1</td>\n",
       "      <td>-82.858894</td>\n",
       "      <td>-3.417846</td>\n",
       "      <td>0.0</td>\n",
       "      <td>0.0</td>\n",
       "    </tr>\n",
       "    <tr>\n",
       "      <th>395048</th>\n",
       "      <td>Schwann</td>\n",
       "      <td>TGFBI</td>\n",
       "      <td>-83.872070</td>\n",
       "      <td>-2.935674</td>\n",
       "      <td>0.0</td>\n",
       "      <td>0.0</td>\n",
       "    </tr>\n",
       "    <tr>\n",
       "      <th>395049</th>\n",
       "      <td>Schwann</td>\n",
       "      <td>EDNRA</td>\n",
       "      <td>-83.977386</td>\n",
       "      <td>-3.220171</td>\n",
       "      <td>0.0</td>\n",
       "      <td>0.0</td>\n",
       "    </tr>\n",
       "    <tr>\n",
       "      <th>395050</th>\n",
       "      <td>Schwann</td>\n",
       "      <td>TWIST2</td>\n",
       "      <td>-84.649467</td>\n",
       "      <td>-3.122184</td>\n",
       "      <td>0.0</td>\n",
       "      <td>0.0</td>\n",
       "    </tr>\n",
       "    <tr>\n",
       "      <th>395051</th>\n",
       "      <td>Schwann</td>\n",
       "      <td>PPIC</td>\n",
       "      <td>-84.702278</td>\n",
       "      <td>-3.149996</td>\n",
       "      <td>0.0</td>\n",
       "      <td>0.0</td>\n",
       "    </tr>\n",
       "  </tbody>\n",
       "</table>\n",
       "<p>395052 rows × 6 columns</p>\n",
       "</div>"
      ],
      "text/plain": [
       "                   group     names      scores  logfoldchanges  pvals  \\\n",
       "0       Limbal_stem_cell  MIR205HG  386.918976        4.168135    0.0   \n",
       "1       Limbal_stem_cell    CXCL14  362.279785        2.123212    0.0   \n",
       "2       Limbal_stem_cell      KRT5  354.176880        3.187702    0.0   \n",
       "3       Limbal_stem_cell     KRT17  330.658417        2.468866    0.0   \n",
       "4       Limbal_stem_cell     KRT19  304.335327        3.017829    0.0   \n",
       "...                  ...       ...         ...             ...    ...   \n",
       "395047           Schwann   CREB3L1  -82.858894       -3.417846    0.0   \n",
       "395048           Schwann     TGFBI  -83.872070       -2.935674    0.0   \n",
       "395049           Schwann     EDNRA  -83.977386       -3.220171    0.0   \n",
       "395050           Schwann    TWIST2  -84.649467       -3.122184    0.0   \n",
       "395051           Schwann      PPIC  -84.702278       -3.149996    0.0   \n",
       "\n",
       "        pvals_adj  \n",
       "0             0.0  \n",
       "1             0.0  \n",
       "2             0.0  \n",
       "3             0.0  \n",
       "4             0.0  \n",
       "...           ...  \n",
       "395047        0.0  \n",
       "395048        0.0  \n",
       "395049        0.0  \n",
       "395050        0.0  \n",
       "395051        0.0  \n",
       "\n",
       "[395052 rows x 6 columns]"
      ]
     },
     "execution_count": 35,
     "metadata": {},
     "output_type": "execute_result"
    }
   ],
   "source": [
    "test"
   ]
  },
  {
   "cell_type": "code",
   "execution_count": 36,
   "id": "d9453b85",
   "metadata": {},
   "outputs": [
    {
     "data": {
      "text/html": [
       "<div>\n",
       "<style scoped>\n",
       "    .dataframe tbody tr th:only-of-type {\n",
       "        vertical-align: middle;\n",
       "    }\n",
       "\n",
       "    .dataframe tbody tr th {\n",
       "        vertical-align: top;\n",
       "    }\n",
       "\n",
       "    .dataframe thead th {\n",
       "        text-align: right;\n",
       "    }\n",
       "</style>\n",
       "<table border=\"1\" class=\"dataframe\">\n",
       "  <thead>\n",
       "    <tr style=\"text-align: right;\">\n",
       "      <th></th>\n",
       "      <th>group</th>\n",
       "      <th>names</th>\n",
       "      <th>scores</th>\n",
       "      <th>logfoldchanges</th>\n",
       "      <th>pvals</th>\n",
       "      <th>pvals_adj</th>\n",
       "    </tr>\n",
       "    <tr>\n",
       "      <th>names</th>\n",
       "      <th></th>\n",
       "      <th></th>\n",
       "      <th></th>\n",
       "      <th></th>\n",
       "      <th></th>\n",
       "      <th></th>\n",
       "    </tr>\n",
       "  </thead>\n",
       "  <tbody>\n",
       "    <tr>\n",
       "      <th>MIR205HG</th>\n",
       "      <td>Limbal_stem_cell</td>\n",
       "      <td>MIR205HG</td>\n",
       "      <td>386.918976</td>\n",
       "      <td>4.168135</td>\n",
       "      <td>0.0</td>\n",
       "      <td>0.0</td>\n",
       "    </tr>\n",
       "    <tr>\n",
       "      <th>CXCL14</th>\n",
       "      <td>Limbal_stem_cell</td>\n",
       "      <td>CXCL14</td>\n",
       "      <td>362.279785</td>\n",
       "      <td>2.123212</td>\n",
       "      <td>0.0</td>\n",
       "      <td>0.0</td>\n",
       "    </tr>\n",
       "    <tr>\n",
       "      <th>KRT5</th>\n",
       "      <td>Limbal_stem_cell</td>\n",
       "      <td>KRT5</td>\n",
       "      <td>354.176880</td>\n",
       "      <td>3.187702</td>\n",
       "      <td>0.0</td>\n",
       "      <td>0.0</td>\n",
       "    </tr>\n",
       "    <tr>\n",
       "      <th>KRT17</th>\n",
       "      <td>Limbal_stem_cell</td>\n",
       "      <td>KRT17</td>\n",
       "      <td>330.658417</td>\n",
       "      <td>2.468866</td>\n",
       "      <td>0.0</td>\n",
       "      <td>0.0</td>\n",
       "    </tr>\n",
       "    <tr>\n",
       "      <th>KRT19</th>\n",
       "      <td>Limbal_stem_cell</td>\n",
       "      <td>KRT19</td>\n",
       "      <td>304.335327</td>\n",
       "      <td>3.017829</td>\n",
       "      <td>0.0</td>\n",
       "      <td>0.0</td>\n",
       "    </tr>\n",
       "    <tr>\n",
       "      <th>...</th>\n",
       "      <td>...</td>\n",
       "      <td>...</td>\n",
       "      <td>...</td>\n",
       "      <td>...</td>\n",
       "      <td>...</td>\n",
       "      <td>...</td>\n",
       "    </tr>\n",
       "    <tr>\n",
       "      <th>CREB3L1</th>\n",
       "      <td>Schwann</td>\n",
       "      <td>CREB3L1</td>\n",
       "      <td>-82.858894</td>\n",
       "      <td>-3.417846</td>\n",
       "      <td>0.0</td>\n",
       "      <td>0.0</td>\n",
       "    </tr>\n",
       "    <tr>\n",
       "      <th>TGFBI</th>\n",
       "      <td>Schwann</td>\n",
       "      <td>TGFBI</td>\n",
       "      <td>-83.872070</td>\n",
       "      <td>-2.935674</td>\n",
       "      <td>0.0</td>\n",
       "      <td>0.0</td>\n",
       "    </tr>\n",
       "    <tr>\n",
       "      <th>EDNRA</th>\n",
       "      <td>Schwann</td>\n",
       "      <td>EDNRA</td>\n",
       "      <td>-83.977386</td>\n",
       "      <td>-3.220171</td>\n",
       "      <td>0.0</td>\n",
       "      <td>0.0</td>\n",
       "    </tr>\n",
       "    <tr>\n",
       "      <th>TWIST2</th>\n",
       "      <td>Schwann</td>\n",
       "      <td>TWIST2</td>\n",
       "      <td>-84.649467</td>\n",
       "      <td>-3.122184</td>\n",
       "      <td>0.0</td>\n",
       "      <td>0.0</td>\n",
       "    </tr>\n",
       "    <tr>\n",
       "      <th>PPIC</th>\n",
       "      <td>Schwann</td>\n",
       "      <td>PPIC</td>\n",
       "      <td>-84.702278</td>\n",
       "      <td>-3.149996</td>\n",
       "      <td>0.0</td>\n",
       "      <td>0.0</td>\n",
       "    </tr>\n",
       "  </tbody>\n",
       "</table>\n",
       "<p>395052 rows × 6 columns</p>\n",
       "</div>"
      ],
      "text/plain": [
       "                     group     names      scores  logfoldchanges  pvals  \\\n",
       "names                                                                     \n",
       "MIR205HG  Limbal_stem_cell  MIR205HG  386.918976        4.168135    0.0   \n",
       "CXCL14    Limbal_stem_cell    CXCL14  362.279785        2.123212    0.0   \n",
       "KRT5      Limbal_stem_cell      KRT5  354.176880        3.187702    0.0   \n",
       "KRT17     Limbal_stem_cell     KRT17  330.658417        2.468866    0.0   \n",
       "KRT19     Limbal_stem_cell     KRT19  304.335327        3.017829    0.0   \n",
       "...                    ...       ...         ...             ...    ...   \n",
       "CREB3L1            Schwann   CREB3L1  -82.858894       -3.417846    0.0   \n",
       "TGFBI              Schwann     TGFBI  -83.872070       -2.935674    0.0   \n",
       "EDNRA              Schwann     EDNRA  -83.977386       -3.220171    0.0   \n",
       "TWIST2             Schwann    TWIST2  -84.649467       -3.122184    0.0   \n",
       "PPIC               Schwann      PPIC  -84.702278       -3.149996    0.0   \n",
       "\n",
       "          pvals_adj  \n",
       "names                \n",
       "MIR205HG        0.0  \n",
       "CXCL14          0.0  \n",
       "KRT5            0.0  \n",
       "KRT17           0.0  \n",
       "KRT19           0.0  \n",
       "...             ...  \n",
       "CREB3L1         0.0  \n",
       "TGFBI           0.0  \n",
       "EDNRA           0.0  \n",
       "TWIST2          0.0  \n",
       "PPIC            0.0  \n",
       "\n",
       "[395052 rows x 6 columns]"
      ]
     },
     "execution_count": 36,
     "metadata": {},
     "output_type": "execute_result"
    }
   ],
   "source": [
    "test.index = test['names']\n",
    "test"
   ]
  },
  {
   "cell_type": "code",
   "execution_count": 37,
   "id": "19fc3c3e",
   "metadata": {},
   "outputs": [
    {
     "data": {
      "text/html": [
       "<div>\n",
       "<style scoped>\n",
       "    .dataframe tbody tr th:only-of-type {\n",
       "        vertical-align: middle;\n",
       "    }\n",
       "\n",
       "    .dataframe tbody tr th {\n",
       "        vertical-align: top;\n",
       "    }\n",
       "\n",
       "    .dataframe thead th {\n",
       "        text-align: right;\n",
       "    }\n",
       "</style>\n",
       "<table border=\"1\" class=\"dataframe\">\n",
       "  <thead>\n",
       "    <tr style=\"text-align: right;\">\n",
       "      <th></th>\n",
       "      <th>group</th>\n",
       "      <th>names</th>\n",
       "      <th>scores</th>\n",
       "      <th>logfoldchanges</th>\n",
       "      <th>pvals</th>\n",
       "      <th>pvals_adj</th>\n",
       "    </tr>\n",
       "    <tr>\n",
       "      <th>names</th>\n",
       "      <th></th>\n",
       "      <th></th>\n",
       "      <th></th>\n",
       "      <th></th>\n",
       "      <th></th>\n",
       "      <th></th>\n",
       "    </tr>\n",
       "  </thead>\n",
       "  <tbody>\n",
       "    <tr>\n",
       "      <th>MIR205HG</th>\n",
       "      <td>Limbal_stem_cell</td>\n",
       "      <td>MIR205HG</td>\n",
       "      <td>386.918976</td>\n",
       "      <td>4.168135</td>\n",
       "      <td>0.0</td>\n",
       "      <td>0.0</td>\n",
       "    </tr>\n",
       "    <tr>\n",
       "      <th>CXCL14</th>\n",
       "      <td>Limbal_stem_cell</td>\n",
       "      <td>CXCL14</td>\n",
       "      <td>362.279785</td>\n",
       "      <td>2.123212</td>\n",
       "      <td>0.0</td>\n",
       "      <td>0.0</td>\n",
       "    </tr>\n",
       "    <tr>\n",
       "      <th>KRT5</th>\n",
       "      <td>Limbal_stem_cell</td>\n",
       "      <td>KRT5</td>\n",
       "      <td>354.176880</td>\n",
       "      <td>3.187702</td>\n",
       "      <td>0.0</td>\n",
       "      <td>0.0</td>\n",
       "    </tr>\n",
       "    <tr>\n",
       "      <th>KRT17</th>\n",
       "      <td>Limbal_stem_cell</td>\n",
       "      <td>KRT17</td>\n",
       "      <td>330.658417</td>\n",
       "      <td>2.468866</td>\n",
       "      <td>0.0</td>\n",
       "      <td>0.0</td>\n",
       "    </tr>\n",
       "    <tr>\n",
       "      <th>KRT19</th>\n",
       "      <td>Limbal_stem_cell</td>\n",
       "      <td>KRT19</td>\n",
       "      <td>304.335327</td>\n",
       "      <td>3.017829</td>\n",
       "      <td>0.0</td>\n",
       "      <td>0.0</td>\n",
       "    </tr>\n",
       "    <tr>\n",
       "      <th>...</th>\n",
       "      <td>...</td>\n",
       "      <td>...</td>\n",
       "      <td>...</td>\n",
       "      <td>...</td>\n",
       "      <td>...</td>\n",
       "      <td>...</td>\n",
       "    </tr>\n",
       "    <tr>\n",
       "      <th>LDB2</th>\n",
       "      <td>Limbal_stem_cell</td>\n",
       "      <td>LDB2</td>\n",
       "      <td>-193.556732</td>\n",
       "      <td>-3.801092</td>\n",
       "      <td>0.0</td>\n",
       "      <td>0.0</td>\n",
       "    </tr>\n",
       "    <tr>\n",
       "      <th>CASC15</th>\n",
       "      <td>Limbal_stem_cell</td>\n",
       "      <td>CASC15</td>\n",
       "      <td>-193.614777</td>\n",
       "      <td>-3.751873</td>\n",
       "      <td>0.0</td>\n",
       "      <td>0.0</td>\n",
       "    </tr>\n",
       "    <tr>\n",
       "      <th>EDNRA</th>\n",
       "      <td>Limbal_stem_cell</td>\n",
       "      <td>EDNRA</td>\n",
       "      <td>-198.504898</td>\n",
       "      <td>-3.739483</td>\n",
       "      <td>0.0</td>\n",
       "      <td>0.0</td>\n",
       "    </tr>\n",
       "    <tr>\n",
       "      <th>ZEB1</th>\n",
       "      <td>Limbal_stem_cell</td>\n",
       "      <td>ZEB1</td>\n",
       "      <td>-200.492355</td>\n",
       "      <td>-3.811888</td>\n",
       "      <td>0.0</td>\n",
       "      <td>0.0</td>\n",
       "    </tr>\n",
       "    <tr>\n",
       "      <th>CPED1</th>\n",
       "      <td>Limbal_stem_cell</td>\n",
       "      <td>CPED1</td>\n",
       "      <td>-206.668823</td>\n",
       "      <td>-3.761522</td>\n",
       "      <td>0.0</td>\n",
       "      <td>0.0</td>\n",
       "    </tr>\n",
       "  </tbody>\n",
       "</table>\n",
       "<p>32921 rows × 6 columns</p>\n",
       "</div>"
      ],
      "text/plain": [
       "                     group     names      scores  logfoldchanges  pvals  \\\n",
       "names                                                                     \n",
       "MIR205HG  Limbal_stem_cell  MIR205HG  386.918976        4.168135    0.0   \n",
       "CXCL14    Limbal_stem_cell    CXCL14  362.279785        2.123212    0.0   \n",
       "KRT5      Limbal_stem_cell      KRT5  354.176880        3.187702    0.0   \n",
       "KRT17     Limbal_stem_cell     KRT17  330.658417        2.468866    0.0   \n",
       "KRT19     Limbal_stem_cell     KRT19  304.335327        3.017829    0.0   \n",
       "...                    ...       ...         ...             ...    ...   \n",
       "LDB2      Limbal_stem_cell      LDB2 -193.556732       -3.801092    0.0   \n",
       "CASC15    Limbal_stem_cell    CASC15 -193.614777       -3.751873    0.0   \n",
       "EDNRA     Limbal_stem_cell     EDNRA -198.504898       -3.739483    0.0   \n",
       "ZEB1      Limbal_stem_cell      ZEB1 -200.492355       -3.811888    0.0   \n",
       "CPED1     Limbal_stem_cell     CPED1 -206.668823       -3.761522    0.0   \n",
       "\n",
       "          pvals_adj  \n",
       "names                \n",
       "MIR205HG        0.0  \n",
       "CXCL14          0.0  \n",
       "KRT5            0.0  \n",
       "KRT17           0.0  \n",
       "KRT19           0.0  \n",
       "...             ...  \n",
       "LDB2            0.0  \n",
       "CASC15          0.0  \n",
       "EDNRA           0.0  \n",
       "ZEB1            0.0  \n",
       "CPED1           0.0  \n",
       "\n",
       "[32921 rows x 6 columns]"
      ]
     },
     "execution_count": 37,
     "metadata": {},
     "output_type": "execute_result"
    }
   ],
   "source": [
    "test_1 = test[~test.index.duplicated(keep='first')]\n",
    "test_1"
   ]
  },
  {
   "cell_type": "code",
   "execution_count": 38,
   "id": "8439d709",
   "metadata": {},
   "outputs": [],
   "source": [
    "test_1.to_csv('/ceph/rimlsfnwi/data/moldevbio/zhou/imarais/jupyter_notebook/data/rank_genes.csv', index=True)\n",
    "#To be used in pycomplex heatmaps as the highly expressed genes"
   ]
  },
  {
   "cell_type": "code",
   "execution_count": 16,
   "id": "5e998f58",
   "metadata": {},
   "outputs": [
    {
     "data": {
      "text/plain": [
       "AnnData object with n_obs × n_vars = 74230 × 32921\n",
       "    obs: 'type', 'sample', 'time_point', 'batch', 'n_genes_by_counts', 'total_counts', 'total_counts_mt', 'pct_counts_mt', 'total_counts_ribo', 'pct_counts_ribo', 'percent_mt2', 'n_counts', 'n_genes', 'percent_chrY', 'XIST-counts', 'S_score', 'G2M_score', 'phase', 'doublet_scores', 'predicted_doublets', 'doublet_info', 'clusters', 'cell_type'\n",
       "    var: 'gene_ids', 'feature_types', 'genome', 'mt', 'ribo', 'n_cells_by_counts', 'mean_counts', 'pct_dropout_by_counts', 'total_counts', 'n_cells'\n",
       "    uns: 'clusters_colors', 'dendrogram_clusters', 'doublet_info_colors', 'hvg', 'leiden', 'log1p', 'neighbors', 'pca', 'sample_colors', 'umap', 'rank_genes_groups'\n",
       "    obsm: 'X_pca', 'X_umap'\n",
       "    layers: 'scaled'\n",
       "    obsp: 'connectivities', 'distances'"
      ]
     },
     "execution_count": 16,
     "metadata": {},
     "output_type": "execute_result"
    }
   ],
   "source": [
    "adata"
   ]
  },
  {
   "cell_type": "markdown",
   "id": "8b1aa390",
   "metadata": {},
   "source": [
    "## Visualize marker genes using dotplot"
   ]
  },
  {
   "cell_type": "code",
   "execution_count": 44,
   "id": "8a895e0d",
   "metadata": {},
   "outputs": [],
   "source": [
    "sc.pl.rank_genes_groups_dotplot(adata, n_genes=6, save= '_celltype.pdf') # add only 'celltype'"
   ]
  },
  {
   "cell_type": "code",
   "execution_count": 45,
   "id": "eff1e85e",
   "metadata": {},
   "outputs": [],
   "source": [
    "sc.pl.rank_genes_groups_dotplot(adata, n_genes=6, values_to_plot='logfoldchanges', min_logfoldchange=3, vmax=7, vmin=-7, cmap='bwr', save= 'celltype_.pdf')"
   ]
  },
  {
   "cell_type": "code",
   "execution_count": 29,
   "id": "1234a18f",
   "metadata": {},
   "outputs": [
    {
     "data": {
      "text/plain": [
       "<74230x32921 sparse matrix of type '<class 'numpy.float32'>'\n",
       "\twith 273909209 stored elements in Compressed Sparse Row format>"
      ]
     },
     "execution_count": 29,
     "metadata": {},
     "output_type": "execute_result"
    }
   ],
   "source": [
    "adata.X"
   ]
  },
  {
   "cell_type": "markdown",
   "id": "48fb45a7",
   "metadata": {},
   "source": [
    "## Visualize marker genes using matrixplot"
   ]
  },
  {
   "cell_type": "code",
   "execution_count": 46,
   "id": "86f8462b",
   "metadata": {},
   "outputs": [],
   "source": [
    "sc.pl.rank_genes_groups_matrixplot(adata, n_genes=4, use_raw=False, vmin=-3, vmax=3, cmap='bwr', layer='scaled')"
   ]
  },
  {
   "cell_type": "markdown",
   "id": "bb922a99",
   "metadata": {},
   "source": [
    "## Visualize marker genes using stacked violin plots"
   ]
  },
  {
   "cell_type": "code",
   "execution_count": 47,
   "id": "c9dae06d",
   "metadata": {},
   "outputs": [],
   "source": [
    "sc.pl.rank_genes_groups_stacked_violin(adata, n_genes=6, cmap='viridis', save= 'celltype_rankgene6.pdf')"
   ]
  },
  {
   "cell_type": "markdown",
   "id": "3ab3e6a7",
   "metadata": {},
   "source": [
    "## Visualize marker genes using heatmap"
   ]
  },
  {
   "cell_type": "code",
   "execution_count": 9,
   "id": "33d06ffb",
   "metadata": {},
   "outputs": [],
   "source": [
    "sc.pl.rank_genes_groups_heatmap(adata, n_genes=4, use_raw=False, swap_axes=True, vmin=-3, vmax=3, cmap='bwr', layer='scaled', figsize=(22,15), show=False);"
   ]
  },
  {
   "cell_type": "code",
   "execution_count": 10,
   "id": "fe5aa120",
   "metadata": {},
   "outputs": [],
   "source": [
    "sc.pl.rank_genes_groups_heatmap(adata, n_genes=10, use_raw=False, swap_axes=True, show_gene_labels=False,\n",
    "                                vmin=-3, vmax=3, cmap='bwr')"
   ]
  },
  {
   "cell_type": "markdown",
   "id": "944d2cae",
   "metadata": {},
   "source": [
    "## Comparison of marker genes using split violin plots"
   ]
  },
  {
   "cell_type": "code",
   "execution_count": 11,
   "id": "6430d94d",
   "metadata": {},
   "outputs": [],
   "source": [
    "with rc_context({'figure.figsize': (9, 1.5)}):\n",
    "    sc.pl.rank_genes_groups_violin(adata, n_genes=20, jitter=False)"
   ]
  },
  {
   "cell_type": "markdown",
   "id": "23f54081",
   "metadata": {},
   "source": [
    "## Dendrogram options"
   ]
  },
  {
   "cell_type": "code",
   "execution_count": 30,
   "id": "ad56ba59",
   "metadata": {},
   "outputs": [
    {
     "name": "stdout",
     "output_type": "stream",
     "text": [
      "    using 'X_pca' with n_pcs = 50\n",
      "Storing dendrogram info using `.uns['dendrogram_cell_type']`\n"
     ]
    }
   ],
   "source": [
    "# compute hierarchical clustering using PCs (several distance metrics and linkage methods are available).\n",
    "sc.tl.dendrogram(adata, 'cell_type')"
   ]
  },
  {
   "cell_type": "code",
   "execution_count": 48,
   "id": "af350052",
   "metadata": {},
   "outputs": [],
   "source": [
    "ax = sc.pl.dendrogram(adata, 'cell_type', save= 'celltype.pdf')"
   ]
  },
  {
   "cell_type": "markdown",
   "id": "c6abe720",
   "metadata": {},
   "source": [
    "## Plot correlation"
   ]
  },
  {
   "cell_type": "code",
   "execution_count": 49,
   "id": "f667ed39",
   "metadata": {},
   "outputs": [],
   "source": [
    "ax = sc.pl.correlation_matrix(adata, 'cell_type', figsize=(9,5), save= 'celltype.pdf')"
   ]
  },
  {
   "cell_type": "code",
   "execution_count": 37,
   "id": "b835f2c2",
   "metadata": {},
   "outputs": [],
   "source": [
    "#save object and use this object in svm predictions\n",
    "save_file = 'data/results/scanpy_dev_cornea_1_to_17.h5ad'\n",
    "adata.write_h5ad(save_file)"
   ]
  },
  {
   "cell_type": "code",
   "execution_count": null,
   "id": "c4a74768",
   "metadata": {},
   "outputs": [],
   "source": [
    "#Read csv labels from svm and add them to object above"
   ]
  },
  {
   "cell_type": "code",
   "execution_count": null,
   "id": "4ad52040",
   "metadata": {},
   "outputs": [],
   "source": [
    "#Compare own labels to svm generated labels using two umaps"
   ]
  }
 ],
 "metadata": {
  "kernelspec": {
   "display_name": "Python 3 (ipykernel)",
   "language": "python",
   "name": "python3"
  },
  "language_info": {
   "codemirror_mode": {
    "name": "ipython",
    "version": 3
   },
   "file_extension": ".py",
   "mimetype": "text/x-python",
   "name": "python",
   "nbconvert_exporter": "python",
   "pygments_lexer": "ipython3",
   "version": "3.8.15"
  }
 },
 "nbformat": 4,
 "nbformat_minor": 5
}
