{
 "cells": [
  {
   "cell_type": "markdown",
   "id": "384b3256",
   "metadata": {},
   "source": [
    "# **Standard pipeline: analyzing our atac data dataset from seq2science**"
   ]
  },
  {
   "cell_type": "code",
   "execution_count": 1,
   "id": "a696aaf7",
   "metadata": {},
   "outputs": [],
   "source": [
    "import snapatac2 as snap\n",
    "import scanpy as sc\n",
    "import pandas as pd"
   ]
  },
  {
   "cell_type": "code",
   "execution_count": null,
   "id": "f7203aa9",
   "metadata": {},
   "outputs": [],
   "source": [
    "#Look into fragment.tsv files by looking at them on here"
   ]
  },
  {
   "cell_type": "code",
   "execution_count": 1,
   "id": "eca8ada9",
   "metadata": {},
   "outputs": [],
   "source": [
    "#devcornea_atac.h5ad\n",
    "#snap.pp.make_fragment_file(bam_file = \"/ceph/rimlsfnwi/data/moldevbio/zhou/jarts/cellrangeratac/cellranger-atac-2.0.0/ataclako1/outs/possorted_bam.bam\", output_file = 'practice.h5ad', is_paired=True, barcode_tag=None, barcode_regex=None, umi_tag=None, umi_regex=None, shift_left=4, shift_right=- 5, min_mapq=30, chunk_size=50000000)"
   ]
  },
  {
   "cell_type": "code",
   "execution_count": 3,
   "id": "da495295",
   "metadata": {},
   "outputs": [
    {
     "data": {
      "text/html": [
       "<div>\n",
       "<style scoped>\n",
       "    .dataframe tbody tr th:only-of-type {\n",
       "        vertical-align: middle;\n",
       "    }\n",
       "\n",
       "    .dataframe tbody tr th {\n",
       "        vertical-align: top;\n",
       "    }\n",
       "\n",
       "    .dataframe thead th {\n",
       "        text-align: right;\n",
       "    }\n",
       "</style>\n",
       "<table border=\"1\" class=\"dataframe\">\n",
       "  <thead>\n",
       "    <tr style=\"text-align: right;\">\n",
       "      <th></th>\n",
       "      <th>chr1</th>\n",
       "      <th>79652</th>\n",
       "      <th>80068</th>\n",
       "      <th>CTAACTTCATTCGTCC</th>\n",
       "    </tr>\n",
       "  </thead>\n",
       "  <tbody>\n",
       "    <tr>\n",
       "      <th>20492372</th>\n",
       "      <td>chrY</td>\n",
       "      <td>56871888</td>\n",
       "      <td>56872278</td>\n",
       "      <td>CCAATGAAGATATGTG</td>\n",
       "    </tr>\n",
       "    <tr>\n",
       "      <th>20492373</th>\n",
       "      <td>chrY</td>\n",
       "      <td>56874582</td>\n",
       "      <td>56874647</td>\n",
       "      <td>TACCTCGGTATCCTTT</td>\n",
       "    </tr>\n",
       "    <tr>\n",
       "      <th>20492374</th>\n",
       "      <td>chrY</td>\n",
       "      <td>56874582</td>\n",
       "      <td>56874647</td>\n",
       "      <td>TACCTCGGTATCCTTT</td>\n",
       "    </tr>\n",
       "    <tr>\n",
       "      <th>20492375</th>\n",
       "      <td>chrY</td>\n",
       "      <td>56874582</td>\n",
       "      <td>56874647</td>\n",
       "      <td>TACCTCGGTATCCTTT</td>\n",
       "    </tr>\n",
       "    <tr>\n",
       "      <th>20492376</th>\n",
       "      <td>chrY</td>\n",
       "      <td>56874582</td>\n",
       "      <td>56874647</td>\n",
       "      <td>TACCTCGGTATCCTTT</td>\n",
       "    </tr>\n",
       "  </tbody>\n",
       "</table>\n",
       "</div>"
      ],
      "text/plain": [
       "          chr1     79652     80068  CTAACTTCATTCGTCC\n",
       "20492372  chrY  56871888  56872278  CCAATGAAGATATGTG\n",
       "20492373  chrY  56874582  56874647  TACCTCGGTATCCTTT\n",
       "20492374  chrY  56874582  56874647  TACCTCGGTATCCTTT\n",
       "20492375  chrY  56874582  56874647  TACCTCGGTATCCTTT\n",
       "20492376  chrY  56874582  56874647  TACCTCGGTATCCTTT"
      ]
     },
     "execution_count": 3,
     "metadata": {},
     "output_type": "execute_result"
    }
   ],
   "source": [
    "#Download the fragment file.\n",
    "\n",
    "# Input files\n",
    "fragment_file = pd.read_csv('fragments_corrected_count.tsv', sep='\\t')\n",
    "fragment_file.tail()"
   ]
  },
  {
   "cell_type": "code",
   "execution_count": 5,
   "id": "83cd7b2c",
   "metadata": {},
   "outputs": [],
   "source": [
    "fragment_file_1 = pd.read_csv('atac_pbmc_5k_nextgem_fragments.tsv', sep='\\t', on_bad_lines='skip') #on_bad_lines='skip' added this to fix parse error\n",
    "fragment_file_1.tail()\n",
    "#How do you remove such a long section in the beginning of the tsv file, as seen below, look at tail of this file on terminal"
   ]
  },
  {
   "cell_type": "code",
   "execution_count": 3,
   "id": "948d1dad",
   "metadata": {},
   "outputs": [
    {
     "name": "stderr",
     "output_type": "stream",
     "text": [
      "thread '<unnamed>' panicked at 'called `Result::unwrap()` on an `Err` value: H5Fopen(): unable to open file: file signature not found', /root/.cargo/git/checkouts/anndata-rs-087569d311f7caf2/b63f979/pyanndata/src/anndata.rs:36:56\n",
      "note: run with `RUST_BACKTRACE=1` environment variable to display a backtrace\n"
     ]
    },
    {
     "ename": "PanicException",
     "evalue": "called `Result::unwrap()` on an `Err` value: H5Fopen(): unable to open file: file signature not found",
     "output_type": "error",
     "traceback": [
      "\u001b[0;31m---------------------------------------------------------------------------\u001b[0m",
      "\u001b[0;31mPanicException\u001b[0m                            Traceback (most recent call last)",
      "Cell \u001b[0;32mIn[3], line 2\u001b[0m\n\u001b[1;32m      1\u001b[0m \u001b[38;5;66;03m#Maybeeeeee but dont know how to change snap.datasets.pbmc5k\u001b[39;00m\n\u001b[0;32m----> 2\u001b[0m adata \u001b[38;5;241m=\u001b[39m \u001b[43msnap\u001b[49m\u001b[38;5;241;43m.\u001b[39;49m\u001b[43mread\u001b[49m\u001b[43m(\u001b[49m\u001b[38;5;124;43m\"\u001b[39;49m\u001b[38;5;124;43m/ceph/rimlsfnwi/data/moldevbio/zhou/imarais/data/atac_seq_dev_eye/SRR11692131/final_bam/hg38-SRR11692131.samtools-coordinate.bam\u001b[39;49m\u001b[38;5;124;43m\"\u001b[39;49m\u001b[43m)\u001b[49m\n",
      "\u001b[0;31mPanicException\u001b[0m: called `Result::unwrap()` on an `Err` value: H5Fopen(): unable to open file: file signature not found"
     ]
    }
   ],
   "source": [
    "#Should we be using this bam file ?\n",
    "adata = snap.read(\"/ceph/rimlsfnwi/data/moldevbio/zhou/imarais/data/atac_seq_dev_eye/SRR11692131/final_bam/hg38-SRR11692131.samtools-coordinate.bam\")"
   ]
  },
  {
   "cell_type": "code",
   "execution_count": 7,
   "id": "9b781b1f",
   "metadata": {},
   "outputs": [],
   "source": [
    "adata"
   ]
  },
  {
   "cell_type": "code",
   "execution_count": 2,
   "id": "1e14dc66",
   "metadata": {},
   "outputs": [
    {
     "data": {
      "text/plain": [
       "<snapatac2.genome.Genome at 0x14f359b78be0>"
      ]
     },
     "execution_count": 2,
     "metadata": {},
     "output_type": "execute_result"
    }
   ],
   "source": [
    "snap.genome.hg38"
   ]
  },
  {
   "cell_type": "markdown",
   "id": "44091fd6",
   "metadata": {},
   "source": [
    "## Preprocessing"
   ]
  },
  {
   "cell_type": "code",
   "execution_count": null,
   "id": "cd120e36",
   "metadata": {},
   "outputs": [],
   "source": [
    "#backed mode used\n",
    "# import magic\n",
    "data = snap.pp.import_data(\n",
    "    fragment_file,\n",
    "    genome=snap.genome.hg38,\n",
    "    file=\"pbmc.h5ad\",\n",
    "    sorted_by_barcode=False,\n",
    "    low_memory=False,\n",
    ")\n",
    "data"
   ]
  },
  {
   "cell_type": "markdown",
   "id": "6e47918b",
   "metadata": {},
   "source": [
    "To identify usable/high-quality cells, we can plot TSS enrichment against number of unique fragments for each cell"
   ]
  },
  {
   "cell_type": "code",
   "execution_count": null,
   "id": "cc49f91c",
   "metadata": {},
   "outputs": [],
   "source": [
    "#it doesnt run, this function has an issue\n",
    "#snap.pl.tsse(data, interactive=False)"
   ]
  },
  {
   "cell_type": "markdown",
   "id": "e7197c2f",
   "metadata": {},
   "source": [
    "According to the above plot, we decided to choose minimum TSS enrichment of 10 and minimum number of fragments of 5000 to filter the cells."
   ]
  },
  {
   "cell_type": "code",
   "execution_count": null,
   "id": "3251385e",
   "metadata": {},
   "outputs": [],
   "source": [
    "snap.pp.filter_cells(data, min_counts=5000, min_tsse=10, max_counts=50000)\n",
    "data"
   ]
  },
  {
   "cell_type": "markdown",
   "id": "75f7ad39",
   "metadata": {},
   "source": [
    "We next create a cell by bin matrix containing insertion counts across genome-wide 500-bp bins"
   ]
  },
  {
   "cell_type": "code",
   "execution_count": null,
   "id": "e8674dd9",
   "metadata": {},
   "outputs": [],
   "source": [
    "snap.pp.add_tile_matrix(data)"
   ]
  },
  {
   "cell_type": "code",
   "execution_count": null,
   "id": "0a788de8",
   "metadata": {},
   "outputs": [],
   "source": [
    "data"
   ]
  },
  {
   "cell_type": "markdown",
   "id": "6c023380",
   "metadata": {},
   "source": [
    "The default feature selection algorithm selects variable features. You can pass filter list to the function such as blacklist or whitelist."
   ]
  },
  {
   "cell_type": "code",
   "execution_count": null,
   "id": "a1b41487",
   "metadata": {},
   "outputs": [],
   "source": [
    "snap.pp.select_features(data)"
   ]
  },
  {
   "cell_type": "markdown",
   "id": "de74f98b",
   "metadata": {},
   "source": [
    "## Doublet removal"
   ]
  },
  {
   "cell_type": "code",
   "execution_count": null,
   "id": "facb1a4c",
   "metadata": {},
   "outputs": [],
   "source": [
    "#apply a customized scrublet algorithm to identify potential doublets\n",
    "\n",
    "snap.pp.scrublet(data)"
   ]
  },
  {
   "cell_type": "code",
   "execution_count": null,
   "id": "a3640d99",
   "metadata": {},
   "outputs": [],
   "source": [
    "snap.pp.call_doublets(data)\n",
    "snap.pl.scrublet(data, interactive=False)"
   ]
  },
  {
   "cell_type": "markdown",
   "id": "f70759e1",
   "metadata": {},
   "source": [
    "Note the .subset() method is available only in backed mode. To subset an in-memory AnnData object, use: data = data[~data.obs[\"is_doublet\"], :] instead."
   ]
  },
  {
   "cell_type": "code",
   "execution_count": null,
   "id": "4eef3bd6",
   "metadata": {},
   "outputs": [],
   "source": [
    "data.subset(~data.obs[\"is_doublet\"])\n",
    "data"
   ]
  }
 ],
 "metadata": {
  "kernelspec": {
   "display_name": "Python 3 (ipykernel)",
   "language": "python",
   "name": "python3"
  },
  "language_info": {
   "codemirror_mode": {
    "name": "ipython",
    "version": 3
   },
   "file_extension": ".py",
   "mimetype": "text/x-python",
   "name": "python",
   "nbconvert_exporter": "python",
   "pygments_lexer": "ipython3",
   "version": "3.10.9"
  }
 },
 "nbformat": 4,
 "nbformat_minor": 5
}
